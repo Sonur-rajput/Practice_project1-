{
 "cells": [
  {
   "cell_type": "markdown",
   "id": "8ef3b2f2",
   "metadata": {},
   "source": [
    "## Aim :- To build a model that can predict whether the loan of the applicant will be approved or not on the basis of the details provided in the dataset."
   ]
  },
  {
   "cell_type": "markdown",
   "id": "a9e9ff7f",
   "metadata": {},
   "source": [
    "### Dataset Description:\n",
    "    \n",
    "Loan_ID :- Unique Loan ID   \n",
    "Gender :- Male/ Female    \n",
    "Married :- Applicant married (Y/N)    \n",
    "Dependents :- Number of dependents    \n",
    "Education :- Applicant Education (Graduate/ Under Graduate)     \n",
    "Self_Employed :- Self employed (Y/N)     \n",
    "ApplicantIncome :- Applicant income       \n",
    "CoapplicantIncome :- Coapplicant income       \n",
    "LoanAmount :- Loan amount in thousands      \n",
    "Loan_Amount_Term :- Term of loan in months       \n",
    "Credit_History :- credit history meets guidelines       \n",
    "Property_Area :- Urban/ Semi Urban/ Rural      \n",
    "Loan_Status :- Loan approved (Y/N)      "
   ]
  },
  {
   "cell_type": "markdown",
   "id": "4d6617ed",
   "metadata": {},
   "source": [
    "#### Importing Libraries"
   ]
  },
  {
   "cell_type": "code",
   "execution_count": 1,
   "id": "867b7772",
   "metadata": {},
   "outputs": [],
   "source": [
    "import pandas as pd\n",
    "import numpy as np\n",
    "import matplotlib.pyplot as plt \n",
    "import seaborn as sns\n",
    "import warnings\n",
    "warnings.filterwarnings('ignore')"
   ]
  },
  {
   "cell_type": "markdown",
   "id": "8054a983",
   "metadata": {},
   "source": [
    "Now Load our Dataset "
   ]
  },
  {
   "cell_type": "code",
   "execution_count": 2,
   "id": "ed94d057",
   "metadata": {},
   "outputs": [
    {
     "data": {
      "text/html": [
       "<div>\n",
       "<style scoped>\n",
       "    .dataframe tbody tr th:only-of-type {\n",
       "        vertical-align: middle;\n",
       "    }\n",
       "\n",
       "    .dataframe tbody tr th {\n",
       "        vertical-align: top;\n",
       "    }\n",
       "\n",
       "    .dataframe thead th {\n",
       "        text-align: right;\n",
       "    }\n",
       "</style>\n",
       "<table border=\"1\" class=\"dataframe\">\n",
       "  <thead>\n",
       "    <tr style=\"text-align: right;\">\n",
       "      <th></th>\n",
       "      <th>Loan_ID</th>\n",
       "      <th>Gender</th>\n",
       "      <th>Married</th>\n",
       "      <th>Dependents</th>\n",
       "      <th>Education</th>\n",
       "      <th>Self_Employed</th>\n",
       "      <th>ApplicantIncome</th>\n",
       "      <th>CoapplicantIncome</th>\n",
       "      <th>LoanAmount</th>\n",
       "      <th>Loan_Amount_Term</th>\n",
       "      <th>Credit_History</th>\n",
       "      <th>Property_Area</th>\n",
       "      <th>Loan_Status</th>\n",
       "    </tr>\n",
       "  </thead>\n",
       "  <tbody>\n",
       "    <tr>\n",
       "      <th>0</th>\n",
       "      <td>LP001002</td>\n",
       "      <td>Male</td>\n",
       "      <td>No</td>\n",
       "      <td>0</td>\n",
       "      <td>Graduate</td>\n",
       "      <td>No</td>\n",
       "      <td>5849</td>\n",
       "      <td>0.0</td>\n",
       "      <td>NaN</td>\n",
       "      <td>360.0</td>\n",
       "      <td>1.0</td>\n",
       "      <td>Urban</td>\n",
       "      <td>Y</td>\n",
       "    </tr>\n",
       "    <tr>\n",
       "      <th>1</th>\n",
       "      <td>LP001003</td>\n",
       "      <td>Male</td>\n",
       "      <td>Yes</td>\n",
       "      <td>1</td>\n",
       "      <td>Graduate</td>\n",
       "      <td>No</td>\n",
       "      <td>4583</td>\n",
       "      <td>1508.0</td>\n",
       "      <td>128.0</td>\n",
       "      <td>360.0</td>\n",
       "      <td>1.0</td>\n",
       "      <td>Rural</td>\n",
       "      <td>N</td>\n",
       "    </tr>\n",
       "    <tr>\n",
       "      <th>2</th>\n",
       "      <td>LP001005</td>\n",
       "      <td>Male</td>\n",
       "      <td>Yes</td>\n",
       "      <td>0</td>\n",
       "      <td>Graduate</td>\n",
       "      <td>Yes</td>\n",
       "      <td>3000</td>\n",
       "      <td>0.0</td>\n",
       "      <td>66.0</td>\n",
       "      <td>360.0</td>\n",
       "      <td>1.0</td>\n",
       "      <td>Urban</td>\n",
       "      <td>Y</td>\n",
       "    </tr>\n",
       "    <tr>\n",
       "      <th>3</th>\n",
       "      <td>LP001006</td>\n",
       "      <td>Male</td>\n",
       "      <td>Yes</td>\n",
       "      <td>0</td>\n",
       "      <td>Not Graduate</td>\n",
       "      <td>No</td>\n",
       "      <td>2583</td>\n",
       "      <td>2358.0</td>\n",
       "      <td>120.0</td>\n",
       "      <td>360.0</td>\n",
       "      <td>1.0</td>\n",
       "      <td>Urban</td>\n",
       "      <td>Y</td>\n",
       "    </tr>\n",
       "    <tr>\n",
       "      <th>4</th>\n",
       "      <td>LP001008</td>\n",
       "      <td>Male</td>\n",
       "      <td>No</td>\n",
       "      <td>0</td>\n",
       "      <td>Graduate</td>\n",
       "      <td>No</td>\n",
       "      <td>6000</td>\n",
       "      <td>0.0</td>\n",
       "      <td>141.0</td>\n",
       "      <td>360.0</td>\n",
       "      <td>1.0</td>\n",
       "      <td>Urban</td>\n",
       "      <td>Y</td>\n",
       "    </tr>\n",
       "    <tr>\n",
       "      <th>...</th>\n",
       "      <td>...</td>\n",
       "      <td>...</td>\n",
       "      <td>...</td>\n",
       "      <td>...</td>\n",
       "      <td>...</td>\n",
       "      <td>...</td>\n",
       "      <td>...</td>\n",
       "      <td>...</td>\n",
       "      <td>...</td>\n",
       "      <td>...</td>\n",
       "      <td>...</td>\n",
       "      <td>...</td>\n",
       "      <td>...</td>\n",
       "    </tr>\n",
       "    <tr>\n",
       "      <th>609</th>\n",
       "      <td>LP002978</td>\n",
       "      <td>Female</td>\n",
       "      <td>No</td>\n",
       "      <td>0</td>\n",
       "      <td>Graduate</td>\n",
       "      <td>No</td>\n",
       "      <td>2900</td>\n",
       "      <td>0.0</td>\n",
       "      <td>71.0</td>\n",
       "      <td>360.0</td>\n",
       "      <td>1.0</td>\n",
       "      <td>Rural</td>\n",
       "      <td>Y</td>\n",
       "    </tr>\n",
       "    <tr>\n",
       "      <th>610</th>\n",
       "      <td>LP002979</td>\n",
       "      <td>Male</td>\n",
       "      <td>Yes</td>\n",
       "      <td>3+</td>\n",
       "      <td>Graduate</td>\n",
       "      <td>No</td>\n",
       "      <td>4106</td>\n",
       "      <td>0.0</td>\n",
       "      <td>40.0</td>\n",
       "      <td>180.0</td>\n",
       "      <td>1.0</td>\n",
       "      <td>Rural</td>\n",
       "      <td>Y</td>\n",
       "    </tr>\n",
       "    <tr>\n",
       "      <th>611</th>\n",
       "      <td>LP002983</td>\n",
       "      <td>Male</td>\n",
       "      <td>Yes</td>\n",
       "      <td>1</td>\n",
       "      <td>Graduate</td>\n",
       "      <td>No</td>\n",
       "      <td>8072</td>\n",
       "      <td>240.0</td>\n",
       "      <td>253.0</td>\n",
       "      <td>360.0</td>\n",
       "      <td>1.0</td>\n",
       "      <td>Urban</td>\n",
       "      <td>Y</td>\n",
       "    </tr>\n",
       "    <tr>\n",
       "      <th>612</th>\n",
       "      <td>LP002984</td>\n",
       "      <td>Male</td>\n",
       "      <td>Yes</td>\n",
       "      <td>2</td>\n",
       "      <td>Graduate</td>\n",
       "      <td>No</td>\n",
       "      <td>7583</td>\n",
       "      <td>0.0</td>\n",
       "      <td>187.0</td>\n",
       "      <td>360.0</td>\n",
       "      <td>1.0</td>\n",
       "      <td>Urban</td>\n",
       "      <td>Y</td>\n",
       "    </tr>\n",
       "    <tr>\n",
       "      <th>613</th>\n",
       "      <td>LP002990</td>\n",
       "      <td>Female</td>\n",
       "      <td>No</td>\n",
       "      <td>0</td>\n",
       "      <td>Graduate</td>\n",
       "      <td>Yes</td>\n",
       "      <td>4583</td>\n",
       "      <td>0.0</td>\n",
       "      <td>133.0</td>\n",
       "      <td>360.0</td>\n",
       "      <td>0.0</td>\n",
       "      <td>Semiurban</td>\n",
       "      <td>N</td>\n",
       "    </tr>\n",
       "  </tbody>\n",
       "</table>\n",
       "<p>614 rows × 13 columns</p>\n",
       "</div>"
      ],
      "text/plain": [
       "      Loan_ID  Gender Married Dependents     Education Self_Employed  \\\n",
       "0    LP001002    Male      No          0      Graduate            No   \n",
       "1    LP001003    Male     Yes          1      Graduate            No   \n",
       "2    LP001005    Male     Yes          0      Graduate           Yes   \n",
       "3    LP001006    Male     Yes          0  Not Graduate            No   \n",
       "4    LP001008    Male      No          0      Graduate            No   \n",
       "..        ...     ...     ...        ...           ...           ...   \n",
       "609  LP002978  Female      No          0      Graduate            No   \n",
       "610  LP002979    Male     Yes         3+      Graduate            No   \n",
       "611  LP002983    Male     Yes          1      Graduate            No   \n",
       "612  LP002984    Male     Yes          2      Graduate            No   \n",
       "613  LP002990  Female      No          0      Graduate           Yes   \n",
       "\n",
       "     ApplicantIncome  CoapplicantIncome  LoanAmount  Loan_Amount_Term  \\\n",
       "0               5849                0.0         NaN             360.0   \n",
       "1               4583             1508.0       128.0             360.0   \n",
       "2               3000                0.0        66.0             360.0   \n",
       "3               2583             2358.0       120.0             360.0   \n",
       "4               6000                0.0       141.0             360.0   \n",
       "..               ...                ...         ...               ...   \n",
       "609             2900                0.0        71.0             360.0   \n",
       "610             4106                0.0        40.0             180.0   \n",
       "611             8072              240.0       253.0             360.0   \n",
       "612             7583                0.0       187.0             360.0   \n",
       "613             4583                0.0       133.0             360.0   \n",
       "\n",
       "     Credit_History Property_Area Loan_Status  \n",
       "0               1.0         Urban           Y  \n",
       "1               1.0         Rural           N  \n",
       "2               1.0         Urban           Y  \n",
       "3               1.0         Urban           Y  \n",
       "4               1.0         Urban           Y  \n",
       "..              ...           ...         ...  \n",
       "609             1.0         Rural           Y  \n",
       "610             1.0         Rural           Y  \n",
       "611             1.0         Urban           Y  \n",
       "612             1.0         Urban           Y  \n",
       "613             0.0     Semiurban           N  \n",
       "\n",
       "[614 rows x 13 columns]"
      ]
     },
     "execution_count": 2,
     "metadata": {},
     "output_type": "execute_result"
    }
   ],
   "source": [
    "data=pd.read_csv(\"loan_prediction.csv\")\n",
    "data"
   ]
  },
  {
   "cell_type": "code",
   "execution_count": 3,
   "id": "2fd26fb6",
   "metadata": {},
   "outputs": [],
   "source": [
    "data.drop('Loan_ID', axis=1, inplace= True)"
   ]
  },
  {
   "cell_type": "code",
   "execution_count": 4,
   "id": "8aaa836f",
   "metadata": {},
   "outputs": [
    {
     "data": {
      "text/plain": [
       "(614, 12)"
      ]
     },
     "execution_count": 4,
     "metadata": {},
     "output_type": "execute_result"
    }
   ],
   "source": [
    "data.shape"
   ]
  },
  {
   "cell_type": "markdown",
   "id": "3f547d72",
   "metadata": {},
   "source": [
    "Dependents columns having value 3+, which we will convert into 3 only and we will change the data type of the column also."
   ]
  },
  {
   "cell_type": "code",
   "execution_count": 5,
   "id": "a52e4686",
   "metadata": {},
   "outputs": [
    {
     "data": {
      "text/plain": [
       "Gender                0\n",
       "Married               0\n",
       "Dependents           51\n",
       "Education             0\n",
       "Self_Employed         0\n",
       "ApplicantIncome       0\n",
       "CoapplicantIncome     0\n",
       "LoanAmount            0\n",
       "Loan_Amount_Term      0\n",
       "Credit_History        0\n",
       "Property_Area         0\n",
       "Loan_Status           0\n",
       "dtype: int64"
      ]
     },
     "execution_count": 5,
     "metadata": {},
     "output_type": "execute_result"
    }
   ],
   "source": [
    "data.isin([\"3+\"]).sum()"
   ]
  },
  {
   "cell_type": "code",
   "execution_count": 6,
   "id": "ad34fbab",
   "metadata": {},
   "outputs": [],
   "source": [
    "data.replace(to_replace=\"3+\", value='3', inplace= True)"
   ]
  },
  {
   "cell_type": "code",
   "execution_count": 7,
   "id": "cc19ed4d",
   "metadata": {},
   "outputs": [
    {
     "data": {
      "text/html": [
       "<div>\n",
       "<style scoped>\n",
       "    .dataframe tbody tr th:only-of-type {\n",
       "        vertical-align: middle;\n",
       "    }\n",
       "\n",
       "    .dataframe tbody tr th {\n",
       "        vertical-align: top;\n",
       "    }\n",
       "\n",
       "    .dataframe thead th {\n",
       "        text-align: right;\n",
       "    }\n",
       "</style>\n",
       "<table border=\"1\" class=\"dataframe\">\n",
       "  <thead>\n",
       "    <tr style=\"text-align: right;\">\n",
       "      <th></th>\n",
       "      <th>Gender</th>\n",
       "      <th>Married</th>\n",
       "      <th>Dependents</th>\n",
       "      <th>Education</th>\n",
       "      <th>Self_Employed</th>\n",
       "      <th>Property_Area</th>\n",
       "      <th>Loan_Status</th>\n",
       "    </tr>\n",
       "  </thead>\n",
       "  <tbody>\n",
       "    <tr>\n",
       "      <th>0</th>\n",
       "      <td>Male</td>\n",
       "      <td>No</td>\n",
       "      <td>0</td>\n",
       "      <td>Graduate</td>\n",
       "      <td>No</td>\n",
       "      <td>Urban</td>\n",
       "      <td>Y</td>\n",
       "    </tr>\n",
       "    <tr>\n",
       "      <th>1</th>\n",
       "      <td>Male</td>\n",
       "      <td>Yes</td>\n",
       "      <td>1</td>\n",
       "      <td>Graduate</td>\n",
       "      <td>No</td>\n",
       "      <td>Rural</td>\n",
       "      <td>N</td>\n",
       "    </tr>\n",
       "    <tr>\n",
       "      <th>2</th>\n",
       "      <td>Male</td>\n",
       "      <td>Yes</td>\n",
       "      <td>0</td>\n",
       "      <td>Graduate</td>\n",
       "      <td>Yes</td>\n",
       "      <td>Urban</td>\n",
       "      <td>Y</td>\n",
       "    </tr>\n",
       "    <tr>\n",
       "      <th>3</th>\n",
       "      <td>Male</td>\n",
       "      <td>Yes</td>\n",
       "      <td>0</td>\n",
       "      <td>Not Graduate</td>\n",
       "      <td>No</td>\n",
       "      <td>Urban</td>\n",
       "      <td>Y</td>\n",
       "    </tr>\n",
       "    <tr>\n",
       "      <th>4</th>\n",
       "      <td>Male</td>\n",
       "      <td>No</td>\n",
       "      <td>0</td>\n",
       "      <td>Graduate</td>\n",
       "      <td>No</td>\n",
       "      <td>Urban</td>\n",
       "      <td>Y</td>\n",
       "    </tr>\n",
       "  </tbody>\n",
       "</table>\n",
       "</div>"
      ],
      "text/plain": [
       "  Gender Married Dependents     Education Self_Employed Property_Area  \\\n",
       "0   Male      No          0      Graduate            No         Urban   \n",
       "1   Male     Yes          1      Graduate            No         Rural   \n",
       "2   Male     Yes          0      Graduate           Yes         Urban   \n",
       "3   Male     Yes          0  Not Graduate            No         Urban   \n",
       "4   Male      No          0      Graduate            No         Urban   \n",
       "\n",
       "  Loan_Status  \n",
       "0           Y  \n",
       "1           N  \n",
       "2           Y  \n",
       "3           Y  \n",
       "4           Y  "
      ]
     },
     "execution_count": 7,
     "metadata": {},
     "output_type": "execute_result"
    }
   ],
   "source": [
    "cat_features= data.select_dtypes(include=[np.object])\n",
    "cat_features.head()"
   ]
  },
  {
   "cell_type": "code",
   "execution_count": 8,
   "id": "9d233ddf",
   "metadata": {},
   "outputs": [
    {
     "name": "stdout",
     "output_type": "stream",
     "text": [
      "\n",
      "Gender column: \n",
      "Male      489\n",
      "Female    112\n",
      "Name: Gender, dtype: int64\n",
      "..............................\n",
      "\n",
      "Married column: \n",
      "Yes    398\n",
      "No     213\n",
      "Name: Married, dtype: int64\n",
      "..............................\n",
      "\n",
      "Dependents column: \n",
      "0    345\n",
      "1    102\n",
      "2    101\n",
      "3     51\n",
      "Name: Dependents, dtype: int64\n",
      "..............................\n",
      "\n",
      "Education column: \n",
      "Graduate        480\n",
      "Not Graduate    134\n",
      "Name: Education, dtype: int64\n",
      "..............................\n",
      "\n",
      "Self_Employed column: \n",
      "No     500\n",
      "Yes     82\n",
      "Name: Self_Employed, dtype: int64\n",
      "..............................\n",
      "\n",
      "Property_Area column: \n",
      "Semiurban    233\n",
      "Urban        202\n",
      "Rural        179\n",
      "Name: Property_Area, dtype: int64\n",
      "..............................\n",
      "\n",
      "Loan_Status column: \n",
      "Y    422\n",
      "N    192\n",
      "Name: Loan_Status, dtype: int64\n",
      "..............................\n"
     ]
    }
   ],
   "source": [
    "for col in cat_features:\n",
    "    print('\\n%s column: '%col)\n",
    "    print(data[col].value_counts())\n",
    "    print('...'*10)"
   ]
  },
  {
   "cell_type": "markdown",
   "id": "cd51a681",
   "metadata": {},
   "source": [
    "Filling Null values in categorical columns using Mode."
   ]
  },
  {
   "cell_type": "code",
   "execution_count": 9,
   "id": "01d90667",
   "metadata": {},
   "outputs": [],
   "source": [
    "data['Gender'].fillna(value='Male', inplace=True)"
   ]
  },
  {
   "cell_type": "code",
   "execution_count": 10,
   "id": "06d48537",
   "metadata": {},
   "outputs": [],
   "source": [
    "data['Married'].fillna(value='Yes', inplace=True)"
   ]
  },
  {
   "cell_type": "code",
   "execution_count": 11,
   "id": "cd6f01d6",
   "metadata": {},
   "outputs": [],
   "source": [
    "data['Dependents'].fillna(value='0', inplace=True)"
   ]
  },
  {
   "cell_type": "code",
   "execution_count": 12,
   "id": "75c3b574",
   "metadata": {},
   "outputs": [],
   "source": [
    "data['Self_Employed'].fillna(value='No', inplace=True)"
   ]
  },
  {
   "cell_type": "markdown",
   "id": "655b18ca",
   "metadata": {},
   "source": [
    "now we fill the numerical Numerical data. We will use mean or meadian to replace null values.\n",
    "First check skewness for categorical data."
   ]
  },
  {
   "cell_type": "code",
   "execution_count": 13,
   "id": "670016cb",
   "metadata": {},
   "outputs": [
    {
     "data": {
      "text/plain": [
       "Index(['Gender', 'Married', 'Dependents', 'Education', 'Self_Employed',\n",
       "       'ApplicantIncome', 'CoapplicantIncome', 'LoanAmount',\n",
       "       'Loan_Amount_Term', 'Credit_History', 'Property_Area', 'Loan_Status'],\n",
       "      dtype='object')"
      ]
     },
     "execution_count": 13,
     "metadata": {},
     "output_type": "execute_result"
    }
   ],
   "source": [
    "data.columns"
   ]
  },
  {
   "cell_type": "code",
   "execution_count": 14,
   "id": "48bd3e61",
   "metadata": {},
   "outputs": [
    {
     "data": {
      "text/html": [
       "<div>\n",
       "<style scoped>\n",
       "    .dataframe tbody tr th:only-of-type {\n",
       "        vertical-align: middle;\n",
       "    }\n",
       "\n",
       "    .dataframe tbody tr th {\n",
       "        vertical-align: top;\n",
       "    }\n",
       "\n",
       "    .dataframe thead th {\n",
       "        text-align: right;\n",
       "    }\n",
       "</style>\n",
       "<table border=\"1\" class=\"dataframe\">\n",
       "  <thead>\n",
       "    <tr style=\"text-align: right;\">\n",
       "      <th></th>\n",
       "      <th>ApplicantIncome</th>\n",
       "      <th>CoapplicantIncome</th>\n",
       "      <th>LoanAmount</th>\n",
       "      <th>Loan_Amount_Term</th>\n",
       "      <th>Credit_History</th>\n",
       "    </tr>\n",
       "  </thead>\n",
       "  <tbody>\n",
       "    <tr>\n",
       "      <th>0</th>\n",
       "      <td>5849</td>\n",
       "      <td>0.0</td>\n",
       "      <td>NaN</td>\n",
       "      <td>360.0</td>\n",
       "      <td>1.0</td>\n",
       "    </tr>\n",
       "    <tr>\n",
       "      <th>1</th>\n",
       "      <td>4583</td>\n",
       "      <td>1508.0</td>\n",
       "      <td>128.0</td>\n",
       "      <td>360.0</td>\n",
       "      <td>1.0</td>\n",
       "    </tr>\n",
       "    <tr>\n",
       "      <th>2</th>\n",
       "      <td>3000</td>\n",
       "      <td>0.0</td>\n",
       "      <td>66.0</td>\n",
       "      <td>360.0</td>\n",
       "      <td>1.0</td>\n",
       "    </tr>\n",
       "    <tr>\n",
       "      <th>3</th>\n",
       "      <td>2583</td>\n",
       "      <td>2358.0</td>\n",
       "      <td>120.0</td>\n",
       "      <td>360.0</td>\n",
       "      <td>1.0</td>\n",
       "    </tr>\n",
       "    <tr>\n",
       "      <th>4</th>\n",
       "      <td>6000</td>\n",
       "      <td>0.0</td>\n",
       "      <td>141.0</td>\n",
       "      <td>360.0</td>\n",
       "      <td>1.0</td>\n",
       "    </tr>\n",
       "  </tbody>\n",
       "</table>\n",
       "</div>"
      ],
      "text/plain": [
       "   ApplicantIncome  CoapplicantIncome  LoanAmount  Loan_Amount_Term  \\\n",
       "0             5849                0.0         NaN             360.0   \n",
       "1             4583             1508.0       128.0             360.0   \n",
       "2             3000                0.0        66.0             360.0   \n",
       "3             2583             2358.0       120.0             360.0   \n",
       "4             6000                0.0       141.0             360.0   \n",
       "\n",
       "   Credit_History  \n",
       "0             1.0  \n",
       "1             1.0  \n",
       "2             1.0  \n",
       "3             1.0  \n",
       "4             1.0  "
      ]
     },
     "execution_count": 14,
     "metadata": {},
     "output_type": "execute_result"
    }
   ],
   "source": [
    "num_features= data.select_dtypes(include=[np.number])\n",
    "num_features.head()"
   ]
  },
  {
   "cell_type": "code",
   "execution_count": 15,
   "id": "7bf9014d",
   "metadata": {},
   "outputs": [],
   "source": [
    "data['LoanAmount'].fillna(value=data['LoanAmount'].median(), inplace= True)"
   ]
  },
  {
   "cell_type": "code",
   "execution_count": 16,
   "id": "d2593a4f",
   "metadata": {},
   "outputs": [],
   "source": [
    "data['Loan_Amount_Term'].fillna(value=data['Loan_Amount_Term'].median(), inplace= True)"
   ]
  },
  {
   "cell_type": "code",
   "execution_count": 17,
   "id": "04fce294",
   "metadata": {},
   "outputs": [],
   "source": [
    "data['Credit_History'].fillna(value=data['Credit_History'].median(), inplace= True)"
   ]
  },
  {
   "cell_type": "code",
   "execution_count": 18,
   "id": "a31778c1",
   "metadata": {},
   "outputs": [
    {
     "data": {
      "text/plain": [
       "Gender               0\n",
       "Married              0\n",
       "Dependents           0\n",
       "Education            0\n",
       "Self_Employed        0\n",
       "ApplicantIncome      0\n",
       "CoapplicantIncome    0\n",
       "LoanAmount           0\n",
       "Loan_Amount_Term     0\n",
       "Credit_History       0\n",
       "Property_Area        0\n",
       "Loan_Status          0\n",
       "dtype: int64"
      ]
     },
     "execution_count": 18,
     "metadata": {},
     "output_type": "execute_result"
    }
   ],
   "source": [
    "data.isnull().sum()"
   ]
  },
  {
   "cell_type": "code",
   "execution_count": 19,
   "id": "28f3cd3c",
   "metadata": {},
   "outputs": [
    {
     "name": "stdout",
     "output_type": "stream",
     "text": [
      "<class 'pandas.core.frame.DataFrame'>\n",
      "RangeIndex: 614 entries, 0 to 613\n",
      "Data columns (total 12 columns):\n",
      " #   Column             Non-Null Count  Dtype  \n",
      "---  ------             --------------  -----  \n",
      " 0   Gender             614 non-null    object \n",
      " 1   Married            614 non-null    object \n",
      " 2   Dependents         614 non-null    object \n",
      " 3   Education          614 non-null    object \n",
      " 4   Self_Employed      614 non-null    object \n",
      " 5   ApplicantIncome    614 non-null    int64  \n",
      " 6   CoapplicantIncome  614 non-null    float64\n",
      " 7   LoanAmount         614 non-null    float64\n",
      " 8   Loan_Amount_Term   614 non-null    float64\n",
      " 9   Credit_History     614 non-null    float64\n",
      " 10  Property_Area      614 non-null    object \n",
      " 11  Loan_Status        614 non-null    object \n",
      "dtypes: float64(4), int64(1), object(7)\n",
      "memory usage: 57.7+ KB\n"
     ]
    }
   ],
   "source": [
    "data.info()"
   ]
  },
  {
   "cell_type": "code",
   "execution_count": 20,
   "id": "0b97d139",
   "metadata": {},
   "outputs": [],
   "source": [
    "data['Dependents']=data['Dependents'].astype(str).astype(int)"
   ]
  },
  {
   "cell_type": "markdown",
   "id": "232e6126",
   "metadata": {},
   "source": [
    "From the above information we have find that the data has 8 object type columns and 4 float type columns and only 1 int type columns."
   ]
  },
  {
   "cell_type": "code",
   "execution_count": 21,
   "id": "e7c6c484",
   "metadata": {},
   "outputs": [
    {
     "data": {
      "text/plain": [
       "<AxesSubplot:>"
      ]
     },
     "execution_count": 21,
     "metadata": {},
     "output_type": "execute_result"
    },
    {
     "data": {
      "image/png": "[encoded data removed]",
      "text/plain": [
       "<Figure size 432x288 with 2 Axes>"
      ]
     },
     "metadata": {
      "needs_background": "light"
     },
     "output_type": "display_data"
    }
   ],
   "source": [
    "sns.heatmap(data.isnull())"
   ]
  },
  {
   "cell_type": "code",
   "execution_count": 22,
   "id": "34caa97d",
   "metadata": {},
   "outputs": [],
   "source": [
    "from sklearn.preprocessing import LabelEncoder\n",
    "le=LabelEncoder()\n",
    "data['Loan_Status']=le.fit_transform(data['Loan_Status'])"
   ]
  },
  {
   "cell_type": "markdown",
   "id": "2c46c017",
   "metadata": {},
   "source": [
    "# Exploratory data analysis (EDA)"
   ]
  },
  {
   "cell_type": "markdown",
   "id": "8903cf30",
   "metadata": {},
   "source": [
    "### Univariate analysis"
   ]
  },
  {
   "cell_type": "code",
   "execution_count": 23,
   "id": "86dc0f9f",
   "metadata": {},
   "outputs": [
    {
     "data": {
      "text/html": [
       "<div>\n",
       "<style scoped>\n",
       "    .dataframe tbody tr th:only-of-type {\n",
       "        vertical-align: middle;\n",
       "    }\n",
       "\n",
       "    .dataframe tbody tr th {\n",
       "        vertical-align: top;\n",
       "    }\n",
       "\n",
       "    .dataframe thead th {\n",
       "        text-align: right;\n",
       "    }\n",
       "</style>\n",
       "<table border=\"1\" class=\"dataframe\">\n",
       "  <thead>\n",
       "    <tr style=\"text-align: right;\">\n",
       "      <th></th>\n",
       "      <th>Gender</th>\n",
       "      <th>Married</th>\n",
       "      <th>Dependents</th>\n",
       "      <th>Education</th>\n",
       "      <th>Self_Employed</th>\n",
       "      <th>ApplicantIncome</th>\n",
       "      <th>CoapplicantIncome</th>\n",
       "      <th>LoanAmount</th>\n",
       "      <th>Loan_Amount_Term</th>\n",
       "      <th>Credit_History</th>\n",
       "      <th>Property_Area</th>\n",
       "      <th>Loan_Status</th>\n",
       "    </tr>\n",
       "  </thead>\n",
       "  <tbody>\n",
       "    <tr>\n",
       "      <th>0</th>\n",
       "      <td>Male</td>\n",
       "      <td>No</td>\n",
       "      <td>0</td>\n",
       "      <td>Graduate</td>\n",
       "      <td>No</td>\n",
       "      <td>5849</td>\n",
       "      <td>0.0</td>\n",
       "      <td>128.0</td>\n",
       "      <td>360.0</td>\n",
       "      <td>1.0</td>\n",
       "      <td>Urban</td>\n",
       "      <td>1</td>\n",
       "    </tr>\n",
       "    <tr>\n",
       "      <th>1</th>\n",
       "      <td>Male</td>\n",
       "      <td>Yes</td>\n",
       "      <td>1</td>\n",
       "      <td>Graduate</td>\n",
       "      <td>No</td>\n",
       "      <td>4583</td>\n",
       "      <td>1508.0</td>\n",
       "      <td>128.0</td>\n",
       "      <td>360.0</td>\n",
       "      <td>1.0</td>\n",
       "      <td>Rural</td>\n",
       "      <td>0</td>\n",
       "    </tr>\n",
       "    <tr>\n",
       "      <th>2</th>\n",
       "      <td>Male</td>\n",
       "      <td>Yes</td>\n",
       "      <td>0</td>\n",
       "      <td>Graduate</td>\n",
       "      <td>Yes</td>\n",
       "      <td>3000</td>\n",
       "      <td>0.0</td>\n",
       "      <td>66.0</td>\n",
       "      <td>360.0</td>\n",
       "      <td>1.0</td>\n",
       "      <td>Urban</td>\n",
       "      <td>1</td>\n",
       "    </tr>\n",
       "    <tr>\n",
       "      <th>3</th>\n",
       "      <td>Male</td>\n",
       "      <td>Yes</td>\n",
       "      <td>0</td>\n",
       "      <td>Not Graduate</td>\n",
       "      <td>No</td>\n",
       "      <td>2583</td>\n",
       "      <td>2358.0</td>\n",
       "      <td>120.0</td>\n",
       "      <td>360.0</td>\n",
       "      <td>1.0</td>\n",
       "      <td>Urban</td>\n",
       "      <td>1</td>\n",
       "    </tr>\n",
       "    <tr>\n",
       "      <th>4</th>\n",
       "      <td>Male</td>\n",
       "      <td>No</td>\n",
       "      <td>0</td>\n",
       "      <td>Graduate</td>\n",
       "      <td>No</td>\n",
       "      <td>6000</td>\n",
       "      <td>0.0</td>\n",
       "      <td>141.0</td>\n",
       "      <td>360.0</td>\n",
       "      <td>1.0</td>\n",
       "      <td>Urban</td>\n",
       "      <td>1</td>\n",
       "    </tr>\n",
       "    <tr>\n",
       "      <th>5</th>\n",
       "      <td>Male</td>\n",
       "      <td>Yes</td>\n",
       "      <td>2</td>\n",
       "      <td>Graduate</td>\n",
       "      <td>Yes</td>\n",
       "      <td>5417</td>\n",
       "      <td>4196.0</td>\n",
       "      <td>267.0</td>\n",
       "      <td>360.0</td>\n",
       "      <td>1.0</td>\n",
       "      <td>Urban</td>\n",
       "      <td>1</td>\n",
       "    </tr>\n",
       "    <tr>\n",
       "      <th>6</th>\n",
       "      <td>Male</td>\n",
       "      <td>Yes</td>\n",
       "      <td>0</td>\n",
       "      <td>Not Graduate</td>\n",
       "      <td>No</td>\n",
       "      <td>2333</td>\n",
       "      <td>1516.0</td>\n",
       "      <td>95.0</td>\n",
       "      <td>360.0</td>\n",
       "      <td>1.0</td>\n",
       "      <td>Urban</td>\n",
       "      <td>1</td>\n",
       "    </tr>\n",
       "    <tr>\n",
       "      <th>7</th>\n",
       "      <td>Male</td>\n",
       "      <td>Yes</td>\n",
       "      <td>3</td>\n",
       "      <td>Graduate</td>\n",
       "      <td>No</td>\n",
       "      <td>3036</td>\n",
       "      <td>2504.0</td>\n",
       "      <td>158.0</td>\n",
       "      <td>360.0</td>\n",
       "      <td>0.0</td>\n",
       "      <td>Semiurban</td>\n",
       "      <td>0</td>\n",
       "    </tr>\n",
       "    <tr>\n",
       "      <th>8</th>\n",
       "      <td>Male</td>\n",
       "      <td>Yes</td>\n",
       "      <td>2</td>\n",
       "      <td>Graduate</td>\n",
       "      <td>No</td>\n",
       "      <td>4006</td>\n",
       "      <td>1526.0</td>\n",
       "      <td>168.0</td>\n",
       "      <td>360.0</td>\n",
       "      <td>1.0</td>\n",
       "      <td>Urban</td>\n",
       "      <td>1</td>\n",
       "    </tr>\n",
       "    <tr>\n",
       "      <th>9</th>\n",
       "      <td>Male</td>\n",
       "      <td>Yes</td>\n",
       "      <td>1</td>\n",
       "      <td>Graduate</td>\n",
       "      <td>No</td>\n",
       "      <td>12841</td>\n",
       "      <td>10968.0</td>\n",
       "      <td>349.0</td>\n",
       "      <td>360.0</td>\n",
       "      <td>1.0</td>\n",
       "      <td>Semiurban</td>\n",
       "      <td>0</td>\n",
       "    </tr>\n",
       "  </tbody>\n",
       "</table>\n",
       "</div>"
      ],
      "text/plain": [
       "  Gender Married  Dependents     Education Self_Employed  ApplicantIncome  \\\n",
       "0   Male      No           0      Graduate            No             5849   \n",
       "1   Male     Yes           1      Graduate            No             4583   \n",
       "2   Male     Yes           0      Graduate           Yes             3000   \n",
       "3   Male     Yes           0  Not Graduate            No             2583   \n",
       "4   Male      No           0      Graduate            No             6000   \n",
       "5   Male     Yes           2      Graduate           Yes             5417   \n",
       "6   Male     Yes           0  Not Graduate            No             2333   \n",
       "7   Male     Yes           3      Graduate            No             3036   \n",
       "8   Male     Yes           2      Graduate            No             4006   \n",
       "9   Male     Yes           1      Graduate            No            12841   \n",
       "\n",
       "   CoapplicantIncome  LoanAmount  Loan_Amount_Term  Credit_History  \\\n",
       "0                0.0       128.0             360.0             1.0   \n",
       "1             1508.0       128.0             360.0             1.0   \n",
       "2                0.0        66.0             360.0             1.0   \n",
       "3             2358.0       120.0             360.0             1.0   \n",
       "4                0.0       141.0             360.0             1.0   \n",
       "5             4196.0       267.0             360.0             1.0   \n",
       "6             1516.0        95.0             360.0             1.0   \n",
       "7             2504.0       158.0             360.0             0.0   \n",
       "8             1526.0       168.0             360.0             1.0   \n",
       "9            10968.0       349.0             360.0             1.0   \n",
       "\n",
       "  Property_Area  Loan_Status  \n",
       "0         Urban            1  \n",
       "1         Rural            0  \n",
       "2         Urban            1  \n",
       "3         Urban            1  \n",
       "4         Urban            1  \n",
       "5         Urban            1  \n",
       "6         Urban            1  \n",
       "7     Semiurban            0  \n",
       "8         Urban            1  \n",
       "9     Semiurban            0  "
      ]
     },
     "execution_count": 23,
     "metadata": {},
     "output_type": "execute_result"
    }
   ],
   "source": [
    "data.head(10)"
   ]
  },
  {
   "cell_type": "code",
   "execution_count": 24,
   "id": "e102c441",
   "metadata": {},
   "outputs": [
    {
     "data": {
      "text/plain": [
       "Yes    401\n",
       "No     213\n",
       "Name: Married, dtype: int64"
      ]
     },
     "execution_count": 24,
     "metadata": {},
     "output_type": "execute_result"
    },
    {
     "data": {
      "image/png": "[encoded data removed]",
      "text/plain": [
       "<Figure size 432x288 with 1 Axes>"
      ]
     },
     "metadata": {
      "needs_background": "light"
     },
     "output_type": "display_data"
    }
   ],
   "source": [
    "sns.countplot(x='Married', data=data)\n",
    "data['Married'].value_counts()\n",
    "\n"
   ]
  },
  {
   "cell_type": "markdown",
   "id": "3038ed3c",
   "metadata": {},
   "source": [
    "we can see that most of the people are Married."
   ]
  },
  {
   "cell_type": "code",
   "execution_count": 25,
   "id": "2336609d",
   "metadata": {},
   "outputs": [
    {
     "data": {
      "text/plain": [
       "0    360\n",
       "1    102\n",
       "2    101\n",
       "3     51\n",
       "Name: Dependents, dtype: int64"
      ]
     },
     "execution_count": 25,
     "metadata": {},
     "output_type": "execute_result"
    },
    {
     "data": {
      "image/png": "[encoded data removed]",
      "text/plain": [
       "<Figure size 432x288 with 1 Axes>"
      ]
     },
     "metadata": {
      "needs_background": "light"
     },
     "output_type": "display_data"
    }
   ],
   "source": [
    "sns.countplot(x='Dependents', data=data, hue=\"Loan_Status\")\n",
    "data['Dependents'].value_counts()"
   ]
  },
  {
   "cell_type": "markdown",
   "id": "089ff949",
   "metadata": {},
   "source": [
    "we can see that most of people are in which Less person are Dependents."
   ]
  },
  {
   "cell_type": "code",
   "execution_count": 26,
   "id": "286bc7de",
   "metadata": {},
   "outputs": [
    {
     "data": {
      "text/plain": [
       "Graduate        480\n",
       "Not Graduate    134\n",
       "Name: Education, dtype: int64"
      ]
     },
     "execution_count": 26,
     "metadata": {},
     "output_type": "execute_result"
    },
    {
     "data": {
      "image/png": "[encoded data removed]",
      "text/plain": [
       "<Figure size 432x288 with 1 Axes>"
      ]
     },
     "metadata": {
      "needs_background": "light"
     },
     "output_type": "display_data"
    }
   ],
   "source": [
    "sns.countplot(x='Education', data=data)\n",
    "data['Education'].value_counts()"
   ]
  },
  {
   "cell_type": "markdown",
   "id": "5562efd2",
   "metadata": {},
   "source": [
    "we can see that most of People are Graduate."
   ]
  },
  {
   "cell_type": "code",
   "execution_count": 27,
   "id": "deb55bd5",
   "metadata": {},
   "outputs": [
    {
     "data": {
      "text/plain": [
       "No     532\n",
       "Yes     82\n",
       "Name: Self_Employed, dtype: int64"
      ]
     },
     "execution_count": 27,
     "metadata": {},
     "output_type": "execute_result"
    },
    {
     "data": {
      "image/png": "[encoded data removed]",
      "text/plain": [
       "<Figure size 432x288 with 1 Axes>"
      ]
     },
     "metadata": {
      "needs_background": "light"
     },
     "output_type": "display_data"
    }
   ],
   "source": [
    "sns.countplot(x='Self_Employed', data=data)\n",
    "data['Self_Employed'].value_counts()"
   ]
  },
  {
   "cell_type": "markdown",
   "id": "edb23766",
   "metadata": {},
   "source": [
    "we can see that only less people are Self_Employed."
   ]
  },
  {
   "cell_type": "code",
   "execution_count": 28,
   "id": "e8c2bb27",
   "metadata": {},
   "outputs": [
    {
     "data": {
      "text/plain": [
       "<AxesSubplot:xlabel='ApplicantIncome', ylabel='Density'>"
      ]
     },
     "execution_count": 28,
     "metadata": {},
     "output_type": "execute_result"
    },
    {
     "data": {
      "image/png": "[encoded data removed]",
      "text/plain": [
       "<Figure size 1080x360 with 1 Axes>"
      ]
     },
     "metadata": {
      "needs_background": "light"
     },
     "output_type": "display_data"
    }
   ],
   "source": [
    "plt.figure(figsize=(15,5))\n",
    "sns.distplot(data['ApplicantIncome'])\n"
   ]
  },
  {
   "cell_type": "markdown",
   "id": "9e79a46d",
   "metadata": {},
   "source": [
    "we can see that the most of ApplicantIncome are under the range of 0 to 20000"
   ]
  },
  {
   "cell_type": "code",
   "execution_count": 29,
   "id": "4d1a3f05",
   "metadata": {},
   "outputs": [
    {
     "data": {
      "text/html": [
       "<div>\n",
       "<style scoped>\n",
       "    .dataframe tbody tr th:only-of-type {\n",
       "        vertical-align: middle;\n",
       "    }\n",
       "\n",
       "    .dataframe tbody tr th {\n",
       "        vertical-align: top;\n",
       "    }\n",
       "\n",
       "    .dataframe thead th {\n",
       "        text-align: right;\n",
       "    }\n",
       "</style>\n",
       "<table border=\"1\" class=\"dataframe\">\n",
       "  <thead>\n",
       "    <tr style=\"text-align: right;\">\n",
       "      <th></th>\n",
       "      <th>Gender</th>\n",
       "      <th>Married</th>\n",
       "      <th>Dependents</th>\n",
       "      <th>Education</th>\n",
       "      <th>Self_Employed</th>\n",
       "      <th>ApplicantIncome</th>\n",
       "      <th>CoapplicantIncome</th>\n",
       "      <th>LoanAmount</th>\n",
       "      <th>Loan_Amount_Term</th>\n",
       "      <th>Credit_History</th>\n",
       "      <th>Property_Area</th>\n",
       "      <th>Loan_Status</th>\n",
       "    </tr>\n",
       "  </thead>\n",
       "  <tbody>\n",
       "    <tr>\n",
       "      <th>0</th>\n",
       "      <td>Male</td>\n",
       "      <td>No</td>\n",
       "      <td>0</td>\n",
       "      <td>Graduate</td>\n",
       "      <td>No</td>\n",
       "      <td>5849</td>\n",
       "      <td>0.0</td>\n",
       "      <td>128.0</td>\n",
       "      <td>360.0</td>\n",
       "      <td>1.0</td>\n",
       "      <td>Urban</td>\n",
       "      <td>1</td>\n",
       "    </tr>\n",
       "  </tbody>\n",
       "</table>\n",
       "</div>"
      ],
      "text/plain": [
       "  Gender Married  Dependents Education Self_Employed  ApplicantIncome  \\\n",
       "0   Male      No           0  Graduate            No             5849   \n",
       "\n",
       "   CoapplicantIncome  LoanAmount  Loan_Amount_Term  Credit_History  \\\n",
       "0                0.0       128.0             360.0             1.0   \n",
       "\n",
       "  Property_Area  Loan_Status  \n",
       "0         Urban            1  "
      ]
     },
     "execution_count": 29,
     "metadata": {},
     "output_type": "execute_result"
    }
   ],
   "source": [
    "data.head(1)"
   ]
  },
  {
   "cell_type": "code",
   "execution_count": 30,
   "id": "771f4408",
   "metadata": {},
   "outputs": [
    {
     "data": {
      "text/plain": [
       "<AxesSubplot:xlabel='CoapplicantIncome', ylabel='Density'>"
      ]
     },
     "execution_count": 30,
     "metadata": {},
     "output_type": "execute_result"
    },
    {
     "data": {
      "image/png": "[encoded data removed]",
      "text/plain": [
       "<Figure size 1080x360 with 1 Axes>"
      ]
     },
     "metadata": {
      "needs_background": "light"
     },
     "output_type": "display_data"
    }
   ],
   "source": [
    "plt.figure(figsize=(15,5))\n",
    "sns.distplot(data['CoapplicantIncome'])"
   ]
  },
  {
   "cell_type": "markdown",
   "id": "7c0f449e",
   "metadata": {},
   "source": [
    "we can see that the most of CoapplicantIncome are under the range of 0 to 10000"
   ]
  },
  {
   "cell_type": "code",
   "execution_count": 31,
   "id": "782c1b56",
   "metadata": {},
   "outputs": [
    {
     "data": {
      "text/plain": [
       "<AxesSubplot:xlabel='LoanAmount', ylabel='Density'>"
      ]
     },
     "execution_count": 31,
     "metadata": {},
     "output_type": "execute_result"
    },
    {
     "data": {
      "image/png": "[encoded data removed]",
      "text/plain": [
       "<Figure size 1080x360 with 1 Axes>"
      ]
     },
     "metadata": {
      "needs_background": "light"
     },
     "output_type": "display_data"
    }
   ],
   "source": [
    "plt.figure(figsize=(15,5))\n",
    "sns.distplot(data['LoanAmount'])"
   ]
  },
  {
   "cell_type": "markdown",
   "id": "6c403461",
   "metadata": {},
   "source": [
    "we can see that the most of the people take LoanAmount are under the range of 0 to 200"
   ]
  },
  {
   "cell_type": "code",
   "execution_count": 32,
   "id": "b63fe3c1",
   "metadata": {},
   "outputs": [
    {
     "data": {
      "text/plain": [
       "360.0    526\n",
       "180.0     44\n",
       "480.0     15\n",
       "300.0     13\n",
       "84.0       4\n",
       "240.0      4\n",
       "120.0      3\n",
       "36.0       2\n",
       "60.0       2\n",
       "12.0       1\n",
       "Name: Loan_Amount_Term, dtype: int64"
      ]
     },
     "execution_count": 32,
     "metadata": {},
     "output_type": "execute_result"
    },
    {
     "data": {
      "image/png": "[encoded data removed]",
      "text/plain": [
       "<Figure size 432x288 with 1 Axes>"
      ]
     },
     "metadata": {
      "needs_background": "light"
     },
     "output_type": "display_data"
    }
   ],
   "source": [
    "sns.countplot(x='Loan_Amount_Term', data=data)\n",
    "data['Loan_Amount_Term'].value_counts()"
   ]
  },
  {
   "cell_type": "code",
   "execution_count": 33,
   "id": "4a52bd79",
   "metadata": {},
   "outputs": [
    {
     "data": {
      "text/plain": [
       "1.0    525\n",
       "0.0     89\n",
       "Name: Credit_History, dtype: int64"
      ]
     },
     "execution_count": 33,
     "metadata": {},
     "output_type": "execute_result"
    },
    {
     "data": {
      "image/png": "[encoded data removed]",
      "text/plain": [
       "<Figure size 432x288 with 1 Axes>"
      ]
     },
     "metadata": {
      "needs_background": "light"
     },
     "output_type": "display_data"
    }
   ],
   "source": [
    "sns.countplot(x='Credit_History', data=data)\n",
    "data['Credit_History'].value_counts()"
   ]
  },
  {
   "cell_type": "markdown",
   "id": "0fed5f70",
   "metadata": {},
   "source": [
    "we can see that the most of the 475 person Credit_History  1.0 only 89 person has 0.0 Credit_History."
   ]
  },
  {
   "cell_type": "code",
   "execution_count": 34,
   "id": "e4ed713d",
   "metadata": {},
   "outputs": [
    {
     "data": {
      "text/plain": [
       "Semiurban    233\n",
       "Urban        202\n",
       "Rural        179\n",
       "Name: Property_Area, dtype: int64"
      ]
     },
     "execution_count": 34,
     "metadata": {},
     "output_type": "execute_result"
    },
    {
     "data": {
      "image/png": "[encoded data removed]",
      "text/plain": [
       "<Figure size 432x288 with 1 Axes>"
      ]
     },
     "metadata": {
      "needs_background": "light"
     },
     "output_type": "display_data"
    }
   ],
   "source": [
    "sns.countplot(x='Property_Area', data=data)\n",
    "data['Property_Area'].value_counts()"
   ]
  },
  {
   "cell_type": "markdown",
   "id": "a303dca8",
   "metadata": {},
   "source": [
    "we can see that the 233 people are living in Semiurban area and 202 people are living in urban area and 179 people are living in Rural area."
   ]
  },
  {
   "cell_type": "markdown",
   "id": "5d752539",
   "metadata": {},
   "source": [
    "# Bivariate analysis"
   ]
  },
  {
   "cell_type": "code",
   "execution_count": 35,
   "id": "fc8d6eb9",
   "metadata": {},
   "outputs": [
    {
     "data": {
      "text/plain": [
       "Semiurban    233\n",
       "Urban        202\n",
       "Rural        179\n",
       "Name: Property_Area, dtype: int64"
      ]
     },
     "execution_count": 35,
     "metadata": {},
     "output_type": "execute_result"
    },
    {
     "data": {
      "image/png": "[encoded data removed]",
      "text/plain": [
       "<Figure size 432x288 with 1 Axes>"
      ]
     },
     "metadata": {
      "needs_background": "light"
     },
     "output_type": "display_data"
    }
   ],
   "source": [
    "sns.countplot(x='Property_Area', hue='Loan_Status', data=data)\n",
    "data['Property_Area'].value_counts()"
   ]
  },
  {
   "cell_type": "markdown",
   "id": "56b9eb3e",
   "metadata": {},
   "source": [
    "we can see that the those people are living in semiurban area they are heighly chance for Loan."
   ]
  },
  {
   "cell_type": "code",
   "execution_count": 36,
   "id": "3e31983b",
   "metadata": {},
   "outputs": [
    {
     "data": {
      "text/html": [
       "<div>\n",
       "<style scoped>\n",
       "    .dataframe tbody tr th:only-of-type {\n",
       "        vertical-align: middle;\n",
       "    }\n",
       "\n",
       "    .dataframe tbody tr th {\n",
       "        vertical-align: top;\n",
       "    }\n",
       "\n",
       "    .dataframe thead th {\n",
       "        text-align: right;\n",
       "    }\n",
       "</style>\n",
       "<table border=\"1\" class=\"dataframe\">\n",
       "  <thead>\n",
       "    <tr style=\"text-align: right;\">\n",
       "      <th></th>\n",
       "      <th>Gender</th>\n",
       "      <th>Married</th>\n",
       "      <th>Dependents</th>\n",
       "      <th>Education</th>\n",
       "      <th>Self_Employed</th>\n",
       "      <th>ApplicantIncome</th>\n",
       "      <th>CoapplicantIncome</th>\n",
       "      <th>LoanAmount</th>\n",
       "      <th>Loan_Amount_Term</th>\n",
       "      <th>Credit_History</th>\n",
       "      <th>Property_Area</th>\n",
       "      <th>Loan_Status</th>\n",
       "    </tr>\n",
       "  </thead>\n",
       "  <tbody>\n",
       "    <tr>\n",
       "      <th>0</th>\n",
       "      <td>Male</td>\n",
       "      <td>No</td>\n",
       "      <td>0</td>\n",
       "      <td>Graduate</td>\n",
       "      <td>No</td>\n",
       "      <td>5849</td>\n",
       "      <td>0.0</td>\n",
       "      <td>128.0</td>\n",
       "      <td>360.0</td>\n",
       "      <td>1.0</td>\n",
       "      <td>Urban</td>\n",
       "      <td>1</td>\n",
       "    </tr>\n",
       "  </tbody>\n",
       "</table>\n",
       "</div>"
      ],
      "text/plain": [
       "  Gender Married  Dependents Education Self_Employed  ApplicantIncome  \\\n",
       "0   Male      No           0  Graduate            No             5849   \n",
       "\n",
       "   CoapplicantIncome  LoanAmount  Loan_Amount_Term  Credit_History  \\\n",
       "0                0.0       128.0             360.0             1.0   \n",
       "\n",
       "  Property_Area  Loan_Status  \n",
       "0         Urban            1  "
      ]
     },
     "execution_count": 36,
     "metadata": {},
     "output_type": "execute_result"
    }
   ],
   "source": [
    "data.head(1)"
   ]
  },
  {
   "cell_type": "code",
   "execution_count": 37,
   "id": "f6eaa794",
   "metadata": {},
   "outputs": [
    {
     "data": {
      "text/plain": [
       "No     532\n",
       "Yes     82\n",
       "Name: Self_Employed, dtype: int64"
      ]
     },
     "execution_count": 37,
     "metadata": {},
     "output_type": "execute_result"
    },
    {
     "data": {
      "image/png": "[encoded data removed]",
      "text/plain": [
       "<Figure size 432x288 with 1 Axes>"
      ]
     },
     "metadata": {
      "needs_background": "light"
     },
     "output_type": "display_data"
    }
   ],
   "source": [
    "sns.countplot(x='Self_Employed', hue='Loan_Status', data=data)\n",
    "data['Self_Employed'].value_counts()"
   ]
  },
  {
   "cell_type": "markdown",
   "id": "d6c1d96c",
   "metadata": {},
   "source": [
    "we can see that those people are self_Employed they are less chance to get the bank Loan."
   ]
  },
  {
   "cell_type": "code",
   "execution_count": 38,
   "id": "11a281c9",
   "metadata": {},
   "outputs": [
    {
     "data": {
      "text/plain": [
       "<AxesSubplot:xlabel='ApplicantIncome', ylabel='Density'>"
      ]
     },
     "execution_count": 38,
     "metadata": {},
     "output_type": "execute_result"
    },
    {
     "data": {
      "image/png": "[encoded data removed]",
      "text/plain": [
       "<Figure size 720x504 with 1 Axes>"
      ]
     },
     "metadata": {
      "needs_background": "light"
     },
     "output_type": "display_data"
    }
   ],
   "source": [
    "plt.figure(figsize=(10,7))\n",
    "sns.distplot(data[data['Loan_Status']==0]['ApplicantIncome'],hist=False)\n",
    "sns.distplot(data[data['Loan_Status']==1]['ApplicantIncome'],hist=False)\n"
   ]
  },
  {
   "cell_type": "markdown",
   "id": "34197132",
   "metadata": {},
   "source": [
    "we can see that those ApplicantIncome are under 0 to 20000 they are heighly chance to get the Loan."
   ]
  },
  {
   "cell_type": "code",
   "execution_count": 39,
   "id": "edf0ad09",
   "metadata": {},
   "outputs": [
    {
     "data": {
      "text/plain": [
       "<AxesSubplot:xlabel='CoapplicantIncome', ylabel='Density'>"
      ]
     },
     "execution_count": 39,
     "metadata": {},
     "output_type": "execute_result"
    },
    {
     "data": {
      "image/png": "[encoded data removed]",
      "text/plain": [
       "<Figure size 720x504 with 1 Axes>"
      ]
     },
     "metadata": {
      "needs_background": "light"
     },
     "output_type": "display_data"
    }
   ],
   "source": [
    "plt.figure(figsize=(10,7))\n",
    "sns.distplot(data[data['Loan_Status']==0]['CoapplicantIncome'],hist=False)\n",
    "sns.distplot(data[data['Loan_Status']==1]['CoapplicantIncome'],hist=False)\n"
   ]
  },
  {
   "cell_type": "markdown",
   "id": "427321a2",
   "metadata": {},
   "source": [
    "we can see that those CoapplicantIncome are under 0 to 10000 they are heighly chance to get the Loan."
   ]
  },
  {
   "cell_type": "code",
   "execution_count": 40,
   "id": "0af43452",
   "metadata": {},
   "outputs": [
    {
     "data": {
      "text/plain": [
       "<AxesSubplot:xlabel='LoanAmount', ylabel='Density'>"
      ]
     },
     "execution_count": 40,
     "metadata": {},
     "output_type": "execute_result"
    },
    {
     "data": {
      "image/png": "[encoded data removed]",
      "text/plain": [
       "<Figure size 720x504 with 1 Axes>"
      ]
     },
     "metadata": {
      "needs_background": "light"
     },
     "output_type": "display_data"
    }
   ],
   "source": [
    "plt.figure(figsize=(10,7))\n",
    "sns.distplot(data[data['Loan_Status']==0]['LoanAmount'],hist=False)\n",
    "sns.distplot(data[data['Loan_Status']==1]['LoanAmount'],hist=False)\n"
   ]
  },
  {
   "cell_type": "markdown",
   "id": "8739f938",
   "metadata": {},
   "source": [
    "we can see that those people want to Loan under the range of 0 to 200 they are heighly probability to get the Loan."
   ]
  },
  {
   "cell_type": "code",
   "execution_count": 41,
   "id": "8401d851",
   "metadata": {},
   "outputs": [
    {
     "data": {
      "text/plain": [
       "1.0    525\n",
       "0.0     89\n",
       "Name: Credit_History, dtype: int64"
      ]
     },
     "execution_count": 41,
     "metadata": {},
     "output_type": "execute_result"
    },
    {
     "data": {
      "image/png": "[encoded data removed]",
      "text/plain": [
       "<Figure size 432x288 with 1 Axes>"
      ]
     },
     "metadata": {
      "needs_background": "light"
     },
     "output_type": "display_data"
    }
   ],
   "source": [
    "sns.countplot(x='Credit_History', hue='Loan_Status', data=data)\n",
    "data['Credit_History'].value_counts()"
   ]
  },
  {
   "cell_type": "markdown",
   "id": "490cb387",
   "metadata": {},
   "source": [
    "we can see that those people has Credit_History 1.0 they are heighly probability to get the Loan."
   ]
  },
  {
   "cell_type": "markdown",
   "id": "8dac682b",
   "metadata": {},
   "source": [
    "## Multivariate Anaysis"
   ]
  },
  {
   "cell_type": "code",
   "execution_count": 42,
   "id": "5184a2ed",
   "metadata": {},
   "outputs": [
    {
     "data": {
      "text/plain": [
       "<seaborn.axisgrid.PairGrid at 0x19089274a90>"
      ]
     },
     "execution_count": 42,
     "metadata": {},
     "output_type": "execute_result"
    },
    {
     "data": {
      "image/png": "[encoded data removed]",
      "text/plain": [
       "<Figure size 1148.62x1080 with 42 Axes>"
      ]
     },
     "metadata": {
      "needs_background": "light"
     },
     "output_type": "display_data"
    }
   ],
   "source": [
    "sns.pairplot(data=data, hue='Loan_Status')"
   ]
  },
  {
   "cell_type": "markdown",
   "id": "179f381f",
   "metadata": {},
   "source": [
    "## Data Preprocessing\n",
    "\n",
    "In this stage we will prepare our data for model builing     \n",
    "we will change the categorical data into numerical data using encoders     \n",
    "Then we will check the outliers and skewness for conteneus columns.     \n",
    "At the scaling of data etc.     "
   ]
  },
  {
   "cell_type": "code",
   "execution_count": 43,
   "id": "8ddf1709",
   "metadata": {},
   "outputs": [],
   "source": [
    "feature=data.drop(['Loan_Status'], axis=1)"
   ]
  },
  {
   "cell_type": "code",
   "execution_count": 44,
   "id": "b95b86e0",
   "metadata": {},
   "outputs": [],
   "source": [
    "target= data['Loan_Status']"
   ]
  },
  {
   "cell_type": "code",
   "execution_count": 45,
   "id": "a90acf5c",
   "metadata": {},
   "outputs": [],
   "source": [
    "data_new= pd.get_dummies(feature,sparse=False, drop_first=True )"
   ]
  },
  {
   "cell_type": "code",
   "execution_count": 46,
   "id": "49eac9fc",
   "metadata": {},
   "outputs": [],
   "source": [
    "data_new['Loan_Status']= target"
   ]
  },
  {
   "cell_type": "code",
   "execution_count": 47,
   "id": "841bc61c",
   "metadata": {},
   "outputs": [
    {
     "data": {
      "text/plain": [
       "(614, 13)"
      ]
     },
     "execution_count": 47,
     "metadata": {},
     "output_type": "execute_result"
    }
   ],
   "source": [
    "data_new.shape"
   ]
  },
  {
   "cell_type": "code",
   "execution_count": 48,
   "id": "12630565",
   "metadata": {},
   "outputs": [
    {
     "data": {
      "text/plain": [
       "(614, 13)"
      ]
     },
     "execution_count": 48,
     "metadata": {},
     "output_type": "execute_result"
    }
   ],
   "source": [
    "data_new.shape"
   ]
  },
  {
   "cell_type": "code",
   "execution_count": 49,
   "id": "48a3576d",
   "metadata": {},
   "outputs": [
    {
     "data": {
      "text/html": [
       "<div>\n",
       "<style scoped>\n",
       "    .dataframe tbody tr th:only-of-type {\n",
       "        vertical-align: middle;\n",
       "    }\n",
       "\n",
       "    .dataframe tbody tr th {\n",
       "        vertical-align: top;\n",
       "    }\n",
       "\n",
       "    .dataframe thead th {\n",
       "        text-align: right;\n",
       "    }\n",
       "</style>\n",
       "<table border=\"1\" class=\"dataframe\">\n",
       "  <thead>\n",
       "    <tr style=\"text-align: right;\">\n",
       "      <th></th>\n",
       "      <th>Dependents</th>\n",
       "      <th>ApplicantIncome</th>\n",
       "      <th>CoapplicantIncome</th>\n",
       "      <th>LoanAmount</th>\n",
       "      <th>Loan_Amount_Term</th>\n",
       "      <th>Credit_History</th>\n",
       "      <th>Gender_Male</th>\n",
       "      <th>Married_Yes</th>\n",
       "      <th>Education_Not Graduate</th>\n",
       "      <th>Self_Employed_Yes</th>\n",
       "      <th>Property_Area_Semiurban</th>\n",
       "      <th>Property_Area_Urban</th>\n",
       "      <th>Loan_Status</th>\n",
       "    </tr>\n",
       "  </thead>\n",
       "  <tbody>\n",
       "    <tr>\n",
       "      <th>0</th>\n",
       "      <td>0</td>\n",
       "      <td>5849</td>\n",
       "      <td>0.0</td>\n",
       "      <td>128.0</td>\n",
       "      <td>360.0</td>\n",
       "      <td>1.0</td>\n",
       "      <td>1</td>\n",
       "      <td>0</td>\n",
       "      <td>0</td>\n",
       "      <td>0</td>\n",
       "      <td>0</td>\n",
       "      <td>1</td>\n",
       "      <td>1</td>\n",
       "    </tr>\n",
       "    <tr>\n",
       "      <th>1</th>\n",
       "      <td>1</td>\n",
       "      <td>4583</td>\n",
       "      <td>1508.0</td>\n",
       "      <td>128.0</td>\n",
       "      <td>360.0</td>\n",
       "      <td>1.0</td>\n",
       "      <td>1</td>\n",
       "      <td>1</td>\n",
       "      <td>0</td>\n",
       "      <td>0</td>\n",
       "      <td>0</td>\n",
       "      <td>0</td>\n",
       "      <td>0</td>\n",
       "    </tr>\n",
       "    <tr>\n",
       "      <th>2</th>\n",
       "      <td>0</td>\n",
       "      <td>3000</td>\n",
       "      <td>0.0</td>\n",
       "      <td>66.0</td>\n",
       "      <td>360.0</td>\n",
       "      <td>1.0</td>\n",
       "      <td>1</td>\n",
       "      <td>1</td>\n",
       "      <td>0</td>\n",
       "      <td>1</td>\n",
       "      <td>0</td>\n",
       "      <td>1</td>\n",
       "      <td>1</td>\n",
       "    </tr>\n",
       "    <tr>\n",
       "      <th>3</th>\n",
       "      <td>0</td>\n",
       "      <td>2583</td>\n",
       "      <td>2358.0</td>\n",
       "      <td>120.0</td>\n",
       "      <td>360.0</td>\n",
       "      <td>1.0</td>\n",
       "      <td>1</td>\n",
       "      <td>1</td>\n",
       "      <td>1</td>\n",
       "      <td>0</td>\n",
       "      <td>0</td>\n",
       "      <td>1</td>\n",
       "      <td>1</td>\n",
       "    </tr>\n",
       "    <tr>\n",
       "      <th>4</th>\n",
       "      <td>0</td>\n",
       "      <td>6000</td>\n",
       "      <td>0.0</td>\n",
       "      <td>141.0</td>\n",
       "      <td>360.0</td>\n",
       "      <td>1.0</td>\n",
       "      <td>1</td>\n",
       "      <td>0</td>\n",
       "      <td>0</td>\n",
       "      <td>0</td>\n",
       "      <td>0</td>\n",
       "      <td>1</td>\n",
       "      <td>1</td>\n",
       "    </tr>\n",
       "  </tbody>\n",
       "</table>\n",
       "</div>"
      ],
      "text/plain": [
       "   Dependents  ApplicantIncome  CoapplicantIncome  LoanAmount  \\\n",
       "0           0             5849                0.0       128.0   \n",
       "1           1             4583             1508.0       128.0   \n",
       "2           0             3000                0.0        66.0   \n",
       "3           0             2583             2358.0       120.0   \n",
       "4           0             6000                0.0       141.0   \n",
       "\n",
       "   Loan_Amount_Term  Credit_History  Gender_Male  Married_Yes  \\\n",
       "0             360.0             1.0            1            0   \n",
       "1             360.0             1.0            1            1   \n",
       "2             360.0             1.0            1            1   \n",
       "3             360.0             1.0            1            1   \n",
       "4             360.0             1.0            1            0   \n",
       "\n",
       "   Education_Not Graduate  Self_Employed_Yes  Property_Area_Semiurban  \\\n",
       "0                       0                  0                        0   \n",
       "1                       0                  0                        0   \n",
       "2                       0                  1                        0   \n",
       "3                       1                  0                        0   \n",
       "4                       0                  0                        0   \n",
       "\n",
       "   Property_Area_Urban  Loan_Status  \n",
       "0                    1            1  \n",
       "1                    0            0  \n",
       "2                    1            1  \n",
       "3                    1            1  \n",
       "4                    1            1  "
      ]
     },
     "execution_count": 49,
     "metadata": {},
     "output_type": "execute_result"
    }
   ],
   "source": [
    "data_new.head()"
   ]
  },
  {
   "cell_type": "code",
   "execution_count": 50,
   "id": "b499c11b",
   "metadata": {},
   "outputs": [
    {
     "data": {
      "text/plain": [
       "Index(['Dependents', 'ApplicantIncome', 'CoapplicantIncome', 'LoanAmount',\n",
       "       'Loan_Amount_Term', 'Credit_History', 'Gender_Male', 'Married_Yes',\n",
       "       'Education_Not Graduate', 'Self_Employed_Yes',\n",
       "       'Property_Area_Semiurban', 'Property_Area_Urban', 'Loan_Status'],\n",
       "      dtype='object')"
      ]
     },
     "execution_count": 50,
     "metadata": {},
     "output_type": "execute_result"
    }
   ],
   "source": [
    "data_new.columns"
   ]
  },
  {
   "cell_type": "code",
   "execution_count": 51,
   "id": "b04cf2a0",
   "metadata": {},
   "outputs": [
    {
     "data": {
      "text/html": [
       "<div>\n",
       "<style scoped>\n",
       "    .dataframe tbody tr th:only-of-type {\n",
       "        vertical-align: middle;\n",
       "    }\n",
       "\n",
       "    .dataframe tbody tr th {\n",
       "        vertical-align: top;\n",
       "    }\n",
       "\n",
       "    .dataframe thead th {\n",
       "        text-align: right;\n",
       "    }\n",
       "</style>\n",
       "<table border=\"1\" class=\"dataframe\">\n",
       "  <thead>\n",
       "    <tr style=\"text-align: right;\">\n",
       "      <th></th>\n",
       "      <th>Dependents</th>\n",
       "      <th>ApplicantIncome</th>\n",
       "      <th>CoapplicantIncome</th>\n",
       "      <th>LoanAmount</th>\n",
       "      <th>Loan_Amount_Term</th>\n",
       "      <th>Credit_History</th>\n",
       "      <th>Gender_Male</th>\n",
       "      <th>Married_Yes</th>\n",
       "      <th>Education_Not Graduate</th>\n",
       "      <th>Self_Employed_Yes</th>\n",
       "      <th>Property_Area_Semiurban</th>\n",
       "      <th>Property_Area_Urban</th>\n",
       "      <th>Loan_Status</th>\n",
       "    </tr>\n",
       "  </thead>\n",
       "  <tbody>\n",
       "    <tr>\n",
       "      <th>Dependents</th>\n",
       "      <td>1.000000</td>\n",
       "      <td>0.118202</td>\n",
       "      <td>0.030430</td>\n",
       "      <td>0.163103</td>\n",
       "      <td>-0.103864</td>\n",
       "      <td>-0.040160</td>\n",
       "      <td>0.172914</td>\n",
       "      <td>0.334216</td>\n",
       "      <td>0.055752</td>\n",
       "      <td>0.056798</td>\n",
       "      <td>0.001924</td>\n",
       "      <td>-0.001198</td>\n",
       "      <td>0.010118</td>\n",
       "    </tr>\n",
       "    <tr>\n",
       "      <th>ApplicantIncome</th>\n",
       "      <td>0.118202</td>\n",
       "      <td>1.000000</td>\n",
       "      <td>-0.116605</td>\n",
       "      <td>0.565181</td>\n",
       "      <td>-0.046531</td>\n",
       "      <td>-0.018615</td>\n",
       "      <td>0.058809</td>\n",
       "      <td>0.051708</td>\n",
       "      <td>-0.140760</td>\n",
       "      <td>0.127180</td>\n",
       "      <td>-0.014246</td>\n",
       "      <td>-0.000598</td>\n",
       "      <td>-0.004710</td>\n",
       "    </tr>\n",
       "    <tr>\n",
       "      <th>CoapplicantIncome</th>\n",
       "      <td>0.030430</td>\n",
       "      <td>-0.116605</td>\n",
       "      <td>1.000000</td>\n",
       "      <td>0.189218</td>\n",
       "      <td>-0.059383</td>\n",
       "      <td>0.011134</td>\n",
       "      <td>0.082912</td>\n",
       "      <td>0.075948</td>\n",
       "      <td>-0.062290</td>\n",
       "      <td>-0.016100</td>\n",
       "      <td>-0.027044</td>\n",
       "      <td>0.022776</td>\n",
       "      <td>-0.059187</td>\n",
       "    </tr>\n",
       "    <tr>\n",
       "      <th>LoanAmount</th>\n",
       "      <td>0.163103</td>\n",
       "      <td>0.565181</td>\n",
       "      <td>0.189218</td>\n",
       "      <td>1.000000</td>\n",
       "      <td>0.036960</td>\n",
       "      <td>-0.000607</td>\n",
       "      <td>0.106904</td>\n",
       "      <td>0.146546</td>\n",
       "      <td>-0.168759</td>\n",
       "      <td>0.115100</td>\n",
       "      <td>-0.005804</td>\n",
       "      <td>-0.036050</td>\n",
       "      <td>-0.033214</td>\n",
       "    </tr>\n",
       "    <tr>\n",
       "      <th>Loan_Amount_Term</th>\n",
       "      <td>-0.103864</td>\n",
       "      <td>-0.046531</td>\n",
       "      <td>-0.059383</td>\n",
       "      <td>0.036960</td>\n",
       "      <td>1.000000</td>\n",
       "      <td>-0.004705</td>\n",
       "      <td>-0.074030</td>\n",
       "      <td>-0.100912</td>\n",
       "      <td>-0.073928</td>\n",
       "      <td>-0.033739</td>\n",
       "      <td>0.059141</td>\n",
       "      <td>-0.094279</td>\n",
       "      <td>-0.022549</td>\n",
       "    </tr>\n",
       "    <tr>\n",
       "      <th>Credit_History</th>\n",
       "      <td>-0.040160</td>\n",
       "      <td>-0.018615</td>\n",
       "      <td>0.011134</td>\n",
       "      <td>-0.000607</td>\n",
       "      <td>-0.004705</td>\n",
       "      <td>1.000000</td>\n",
       "      <td>0.009170</td>\n",
       "      <td>0.010938</td>\n",
       "      <td>-0.073658</td>\n",
       "      <td>-0.001550</td>\n",
       "      <td>0.035976</td>\n",
       "      <td>-0.016934</td>\n",
       "      <td>0.540556</td>\n",
       "    </tr>\n",
       "    <tr>\n",
       "      <th>Gender_Male</th>\n",
       "      <td>0.172914</td>\n",
       "      <td>0.058809</td>\n",
       "      <td>0.082912</td>\n",
       "      <td>0.106904</td>\n",
       "      <td>-0.074030</td>\n",
       "      <td>0.009170</td>\n",
       "      <td>1.000000</td>\n",
       "      <td>0.364569</td>\n",
       "      <td>0.045364</td>\n",
       "      <td>-0.000525</td>\n",
       "      <td>-0.108623</td>\n",
       "      <td>0.034530</td>\n",
       "      <td>0.017987</td>\n",
       "    </tr>\n",
       "    <tr>\n",
       "      <th>Married_Yes</th>\n",
       "      <td>0.334216</td>\n",
       "      <td>0.051708</td>\n",
       "      <td>0.075948</td>\n",
       "      <td>0.146546</td>\n",
       "      <td>-0.100912</td>\n",
       "      <td>0.010938</td>\n",
       "      <td>0.364569</td>\n",
       "      <td>1.000000</td>\n",
       "      <td>0.012304</td>\n",
       "      <td>0.004489</td>\n",
       "      <td>0.005845</td>\n",
       "      <td>0.000546</td>\n",
       "      <td>0.091478</td>\n",
       "    </tr>\n",
       "    <tr>\n",
       "      <th>Education_Not Graduate</th>\n",
       "      <td>0.055752</td>\n",
       "      <td>-0.140760</td>\n",
       "      <td>-0.062290</td>\n",
       "      <td>-0.168759</td>\n",
       "      <td>-0.073928</td>\n",
       "      <td>-0.073658</td>\n",
       "      <td>0.045364</td>\n",
       "      <td>0.012304</td>\n",
       "      <td>1.000000</td>\n",
       "      <td>-0.010383</td>\n",
       "      <td>-0.039410</td>\n",
       "      <td>-0.034279</td>\n",
       "      <td>-0.085884</td>\n",
       "    </tr>\n",
       "    <tr>\n",
       "      <th>Self_Employed_Yes</th>\n",
       "      <td>0.056798</td>\n",
       "      <td>0.127180</td>\n",
       "      <td>-0.016100</td>\n",
       "      <td>0.115100</td>\n",
       "      <td>-0.033739</td>\n",
       "      <td>-0.001550</td>\n",
       "      <td>-0.000525</td>\n",
       "      <td>0.004489</td>\n",
       "      <td>-0.010383</td>\n",
       "      <td>1.000000</td>\n",
       "      <td>0.008710</td>\n",
       "      <td>-0.030338</td>\n",
       "      <td>-0.003700</td>\n",
       "    </tr>\n",
       "    <tr>\n",
       "      <th>Property_Area_Semiurban</th>\n",
       "      <td>0.001924</td>\n",
       "      <td>-0.014246</td>\n",
       "      <td>-0.027044</td>\n",
       "      <td>-0.005804</td>\n",
       "      <td>0.059141</td>\n",
       "      <td>0.035976</td>\n",
       "      <td>-0.108623</td>\n",
       "      <td>0.005845</td>\n",
       "      <td>-0.039410</td>\n",
       "      <td>0.008710</td>\n",
       "      <td>1.000000</td>\n",
       "      <td>-0.547574</td>\n",
       "      <td>0.136540</td>\n",
       "    </tr>\n",
       "    <tr>\n",
       "      <th>Property_Area_Urban</th>\n",
       "      <td>-0.001198</td>\n",
       "      <td>-0.000598</td>\n",
       "      <td>0.022776</td>\n",
       "      <td>-0.036050</td>\n",
       "      <td>-0.094279</td>\n",
       "      <td>-0.016934</td>\n",
       "      <td>0.034530</td>\n",
       "      <td>0.000546</td>\n",
       "      <td>-0.034279</td>\n",
       "      <td>-0.030338</td>\n",
       "      <td>-0.547574</td>\n",
       "      <td>1.000000</td>\n",
       "      <td>-0.043621</td>\n",
       "    </tr>\n",
       "    <tr>\n",
       "      <th>Loan_Status</th>\n",
       "      <td>0.010118</td>\n",
       "      <td>-0.004710</td>\n",
       "      <td>-0.059187</td>\n",
       "      <td>-0.033214</td>\n",
       "      <td>-0.022549</td>\n",
       "      <td>0.540556</td>\n",
       "      <td>0.017987</td>\n",
       "      <td>0.091478</td>\n",
       "      <td>-0.085884</td>\n",
       "      <td>-0.003700</td>\n",
       "      <td>0.136540</td>\n",
       "      <td>-0.043621</td>\n",
       "      <td>1.000000</td>\n",
       "    </tr>\n",
       "  </tbody>\n",
       "</table>\n",
       "</div>"
      ],
      "text/plain": [
       "                         Dependents  ApplicantIncome  CoapplicantIncome  \\\n",
       "Dependents                 1.000000         0.118202           0.030430   \n",
       "ApplicantIncome            0.118202         1.000000          -0.116605   \n",
       "CoapplicantIncome          0.030430        -0.116605           1.000000   \n",
       "LoanAmount                 0.163103         0.565181           0.189218   \n",
       "Loan_Amount_Term          -0.103864        -0.046531          -0.059383   \n",
       "Credit_History            -0.040160        -0.018615           0.011134   \n",
       "Gender_Male                0.172914         0.058809           0.082912   \n",
       "Married_Yes                0.334216         0.051708           0.075948   \n",
       "Education_Not Graduate     0.055752        -0.140760          -0.062290   \n",
       "Self_Employed_Yes          0.056798         0.127180          -0.016100   \n",
       "Property_Area_Semiurban    0.001924        -0.014246          -0.027044   \n",
       "Property_Area_Urban       -0.001198        -0.000598           0.022776   \n",
       "Loan_Status                0.010118        -0.004710          -0.059187   \n",
       "\n",
       "                         LoanAmount  Loan_Amount_Term  Credit_History  \\\n",
       "Dependents                 0.163103         -0.103864       -0.040160   \n",
       "ApplicantIncome            0.565181         -0.046531       -0.018615   \n",
       "CoapplicantIncome          0.189218         -0.059383        0.011134   \n",
       "LoanAmount                 1.000000          0.036960       -0.000607   \n",
       "Loan_Amount_Term           0.036960          1.000000       -0.004705   \n",
       "Credit_History            -0.000607         -0.004705        1.000000   \n",
       "Gender_Male                0.106904         -0.074030        0.009170   \n",
       "Married_Yes                0.146546         -0.100912        0.010938   \n",
       "Education_Not Graduate    -0.168759         -0.073928       -0.073658   \n",
       "Self_Employed_Yes          0.115100         -0.033739       -0.001550   \n",
       "Property_Area_Semiurban   -0.005804          0.059141        0.035976   \n",
       "Property_Area_Urban       -0.036050         -0.094279       -0.016934   \n",
       "Loan_Status               -0.033214         -0.022549        0.540556   \n",
       "\n",
       "                         Gender_Male  Married_Yes  Education_Not Graduate  \\\n",
       "Dependents                  0.172914     0.334216                0.055752   \n",
       "ApplicantIncome             0.058809     0.051708               -0.140760   \n",
       "CoapplicantIncome           0.082912     0.075948               -0.062290   \n",
       "LoanAmount                  0.106904     0.146546               -0.168759   \n",
       "Loan_Amount_Term           -0.074030    -0.100912               -0.073928   \n",
       "Credit_History              0.009170     0.010938               -0.073658   \n",
       "Gender_Male                 1.000000     0.364569                0.045364   \n",
       "Married_Yes                 0.364569     1.000000                0.012304   \n",
       "Education_Not Graduate      0.045364     0.012304                1.000000   \n",
       "Self_Employed_Yes          -0.000525     0.004489               -0.010383   \n",
       "Property_Area_Semiurban    -0.108623     0.005845               -0.039410   \n",
       "Property_Area_Urban         0.034530     0.000546               -0.034279   \n",
       "Loan_Status                 0.017987     0.091478               -0.085884   \n",
       "\n",
       "                         Self_Employed_Yes  Property_Area_Semiurban  \\\n",
       "Dependents                        0.056798                 0.001924   \n",
       "ApplicantIncome                   0.127180                -0.014246   \n",
       "CoapplicantIncome                -0.016100                -0.027044   \n",
       "LoanAmount                        0.115100                -0.005804   \n",
       "Loan_Amount_Term                 -0.033739                 0.059141   \n",
       "Credit_History                   -0.001550                 0.035976   \n",
       "Gender_Male                      -0.000525                -0.108623   \n",
       "Married_Yes                       0.004489                 0.005845   \n",
       "Education_Not Graduate           -0.010383                -0.039410   \n",
       "Self_Employed_Yes                 1.000000                 0.008710   \n",
       "Property_Area_Semiurban           0.008710                 1.000000   \n",
       "Property_Area_Urban              -0.030338                -0.547574   \n",
       "Loan_Status                      -0.003700                 0.136540   \n",
       "\n",
       "                         Property_Area_Urban  Loan_Status  \n",
       "Dependents                         -0.001198     0.010118  \n",
       "ApplicantIncome                    -0.000598    -0.004710  \n",
       "CoapplicantIncome                   0.022776    -0.059187  \n",
       "LoanAmount                         -0.036050    -0.033214  \n",
       "Loan_Amount_Term                   -0.094279    -0.022549  \n",
       "Credit_History                     -0.016934     0.540556  \n",
       "Gender_Male                         0.034530     0.017987  \n",
       "Married_Yes                         0.000546     0.091478  \n",
       "Education_Not Graduate             -0.034279    -0.085884  \n",
       "Self_Employed_Yes                  -0.030338    -0.003700  \n",
       "Property_Area_Semiurban            -0.547574     0.136540  \n",
       "Property_Area_Urban                 1.000000    -0.043621  \n",
       "Loan_Status                        -0.043621     1.000000  "
      ]
     },
     "execution_count": 51,
     "metadata": {},
     "output_type": "execute_result"
    }
   ],
   "source": [
    "data_new.corr()"
   ]
  },
  {
   "cell_type": "code",
   "execution_count": 52,
   "id": "2732a08e",
   "metadata": {},
   "outputs": [
    {
     "data": {
      "text/plain": [
       "<AxesSubplot:>"
      ]
     },
     "execution_count": 52,
     "metadata": {},
     "output_type": "execute_result"
    },
    {
     "data": {
      "image/png": "[encoded data removed]",
      "text/plain": [
       "<Figure size 1440x720 with 2 Axes>"
      ]
     },
     "metadata": {
      "needs_background": "light"
     },
     "output_type": "display_data"
    }
   ],
   "source": [
    "plt.figure(figsize=(20,10))\n",
    "sns.heatmap(data_new.corr(), annot=True, linewidths=1,linecolor='black',fmt=' .2f')"
   ]
  },
  {
   "cell_type": "code",
   "execution_count": 53,
   "id": "bb354122",
   "metadata": {},
   "outputs": [
    {
     "data": {
      "image/png": "[encoded data removed]",
      "text/plain": [
       "<Figure size 1080x720 with 1 Axes>"
      ]
     },
     "metadata": {
      "needs_background": "light"
     },
     "output_type": "display_data"
    }
   ],
   "source": [
    "plt.figure(figsize=(15,10))\n",
    "data_new.corr()['Loan_Status'].sort_values(ascending=False).drop(['Loan_Status']).plot(kind='bar',color='c')\n",
    "plt.xlabel('Feature', fontsize=14)\n",
    "plt.ylabel('Columns with target name', fontsize=14)\n",
    "plt.title('Correlation',fontsize=18)\n",
    "plt.show()"
   ]
  },
  {
   "cell_type": "markdown",
   "id": "1b67556a",
   "metadata": {},
   "source": [
    "Here we can see Credit histry , Property area, Married_yes, Gender and Dependents columns having positive corelation, where as other have negative or zero corelation."
   ]
  },
  {
   "cell_type": "markdown",
   "id": "32a68948",
   "metadata": {},
   "source": [
    "# Checkign outliers and skewness"
   ]
  },
  {
   "cell_type": "code",
   "execution_count": 54,
   "id": "cf5cd472",
   "metadata": {},
   "outputs": [
    {
     "data": {
      "text/plain": [
       "<AxesSubplot:>"
      ]
     },
     "execution_count": 54,
     "metadata": {},
     "output_type": "execute_result"
    },
    {
     "data": {
      "image/png": "[encoded data removed]",
      "text/plain": [
       "<Figure size 432x288 with 1 Axes>"
      ]
     },
     "metadata": {
      "needs_background": "light"
     },
     "output_type": "display_data"
    }
   ],
   "source": [
    "data_new['ApplicantIncome'].plot.box()"
   ]
  },
  {
   "cell_type": "code",
   "execution_count": 55,
   "id": "90cfe877",
   "metadata": {},
   "outputs": [
    {
     "data": {
      "text/plain": [
       "<AxesSubplot:>"
      ]
     },
     "execution_count": 55,
     "metadata": {},
     "output_type": "execute_result"
    },
    {
     "data": {
      "image/png": "[encoded data removed]",
      "text/plain": [
       "<Figure size 432x288 with 1 Axes>"
      ]
     },
     "metadata": {
      "needs_background": "light"
     },
     "output_type": "display_data"
    }
   ],
   "source": [
    "data_new['LoanAmount'].plot.box()"
   ]
  },
  {
   "cell_type": "code",
   "execution_count": 56,
   "id": "a0b4d79f",
   "metadata": {},
   "outputs": [
    {
     "data": {
      "text/plain": [
       "<AxesSubplot:>"
      ]
     },
     "execution_count": 56,
     "metadata": {},
     "output_type": "execute_result"
    },
    {
     "data": {
      "image/png": "[encoded data removed]",
      "text/plain": [
       "<Figure size 432x288 with 1 Axes>"
      ]
     },
     "metadata": {
      "needs_background": "light"
     },
     "output_type": "display_data"
    }
   ],
   "source": [
    "data_new['Loan_Amount_Term'].plot.box()"
   ]
  },
  {
   "cell_type": "code",
   "execution_count": 57,
   "id": "c311ed37",
   "metadata": {},
   "outputs": [
    {
     "data": {
      "text/plain": [
       "array([[0.73780632, 0.07299082, 0.55448733, ..., 0.7820157 , 1.42814704,\n",
       "        0.67451931],\n",
       "       [0.25346957, 0.13441195, 0.03873155, ..., 0.7820157 , 0.70020801,\n",
       "        1.48253724],\n",
       "       [0.73780632, 0.39374734, 0.55448733, ..., 0.7820157 , 1.42814704,\n",
       "        0.67451931],\n",
       "       ...,\n",
       "       [0.25346957, 0.43717437, 0.47240418, ..., 0.7820157 , 1.42814704,\n",
       "        0.67451931],\n",
       "       [1.24474546, 0.35706382, 0.55448733, ..., 0.7820157 , 1.42814704,\n",
       "        0.67451931],\n",
       "       [0.73780632, 0.13441195, 0.55448733, ..., 1.2787467 , 0.70020801,\n",
       "        1.48253724]])"
      ]
     },
     "execution_count": 57,
     "metadata": {},
     "output_type": "execute_result"
    }
   ],
   "source": [
    "from scipy.stats import zscore\n",
    "z= np.abs(zscore(data_new))\n",
    "z"
   ]
  },
  {
   "cell_type": "markdown",
   "id": "36d67dc4",
   "metadata": {},
   "source": [
    "Position of Outliers"
   ]
  },
  {
   "cell_type": "code",
   "execution_count": 58,
   "id": "ce704076",
   "metadata": {},
   "outputs": [
    {
     "name": "stdout",
     "output_type": "stream",
     "text": [
      "(array([  9,  14,  68,  94, 126, 130, 133, 155, 155, 171, 171, 177, 177,\n",
      "       183, 185, 242, 262, 278, 308, 313, 333, 333, 369, 402, 409, 417,\n",
      "       432, 443, 487, 495, 497, 506, 523, 525, 546, 561, 575, 581, 585,\n",
      "       600, 604], dtype=int64), array([2, 4, 4, 4, 1, 3, 4, 1, 3, 1, 3, 2, 3, 1, 1, 4, 4, 3, 3, 4, 1, 3,\n",
      "       3, 2, 1, 2, 3, 1, 3, 4, 4, 3, 3, 3, 4, 3, 4, 2, 4, 2, 3],\n",
      "      dtype=int64))\n"
     ]
    }
   ],
   "source": [
    "threshold = 3\n",
    "print(np.where(z > 3))"
   ]
  },
  {
   "cell_type": "code",
   "execution_count": 59,
   "id": "b15a5e6f",
   "metadata": {},
   "outputs": [
    {
     "name": "stdout",
     "output_type": "stream",
     "text": [
      "(614, 13)\n",
      "(577, 13)\n"
     ]
    }
   ],
   "source": [
    "df=data_new[(z<3).all(axis=1)]\n",
    "print(data_new.shape)\n",
    "print(df.shape)"
   ]
  },
  {
   "cell_type": "code",
   "execution_count": 60,
   "id": "86c59181",
   "metadata": {},
   "outputs": [
    {
     "name": "stdout",
     "output_type": "stream",
     "text": [
      "6.026058631921824\n"
     ]
    }
   ],
   "source": [
    "Loss_percentage=(614-577)/614*100\n",
    "print(Loss_percentage)"
   ]
  },
  {
   "cell_type": "code",
   "execution_count": 61,
   "id": "9c7581f8",
   "metadata": {},
   "outputs": [
    {
     "data": {
      "text/plain": [
       "Dependents                 1.052106\n",
       "ApplicantIncome            2.148522\n",
       "CoapplicantIncome          1.350517\n",
       "LoanAmount                 1.151525\n",
       "Loan_Amount_Term          -2.098806\n",
       "Credit_History            -1.976043\n",
       "Gender_Male               -1.622920\n",
       "Married_Yes               -0.630211\n",
       "Education_Not Graduate     1.306588\n",
       "Self_Employed_Yes          2.252848\n",
       "Property_Area_Semiurban    0.512963\n",
       "Property_Area_Urban        0.736780\n",
       "Loan_Status               -0.822635\n",
       "dtype: float64"
      ]
     },
     "execution_count": 61,
     "metadata": {},
     "output_type": "execute_result"
    }
   ],
   "source": [
    "df.skew()"
   ]
  },
  {
   "cell_type": "code",
   "execution_count": 62,
   "id": "8b6cfc2e",
   "metadata": {},
   "outputs": [
    {
     "data": {
      "text/html": [
       "<div>\n",
       "<style scoped>\n",
       "    .dataframe tbody tr th:only-of-type {\n",
       "        vertical-align: middle;\n",
       "    }\n",
       "\n",
       "    .dataframe tbody tr th {\n",
       "        vertical-align: top;\n",
       "    }\n",
       "\n",
       "    .dataframe thead th {\n",
       "        text-align: right;\n",
       "    }\n",
       "</style>\n",
       "<table border=\"1\" class=\"dataframe\">\n",
       "  <thead>\n",
       "    <tr style=\"text-align: right;\">\n",
       "      <th></th>\n",
       "      <th>Dependents</th>\n",
       "      <th>ApplicantIncome</th>\n",
       "      <th>CoapplicantIncome</th>\n",
       "      <th>LoanAmount</th>\n",
       "      <th>Loan_Amount_Term</th>\n",
       "      <th>Credit_History</th>\n",
       "      <th>Gender_Male</th>\n",
       "      <th>Married_Yes</th>\n",
       "      <th>Education_Not Graduate</th>\n",
       "      <th>Self_Employed_Yes</th>\n",
       "      <th>Property_Area_Semiurban</th>\n",
       "      <th>Property_Area_Urban</th>\n",
       "      <th>Loan_Status</th>\n",
       "    </tr>\n",
       "  </thead>\n",
       "  <tbody>\n",
       "    <tr>\n",
       "      <th>0</th>\n",
       "      <td>0</td>\n",
       "      <td>5849</td>\n",
       "      <td>0.0</td>\n",
       "      <td>128.0</td>\n",
       "      <td>360.0</td>\n",
       "      <td>1.0</td>\n",
       "      <td>1</td>\n",
       "      <td>0</td>\n",
       "      <td>0</td>\n",
       "      <td>0</td>\n",
       "      <td>0</td>\n",
       "      <td>1</td>\n",
       "      <td>1</td>\n",
       "    </tr>\n",
       "    <tr>\n",
       "      <th>1</th>\n",
       "      <td>1</td>\n",
       "      <td>4583</td>\n",
       "      <td>1508.0</td>\n",
       "      <td>128.0</td>\n",
       "      <td>360.0</td>\n",
       "      <td>1.0</td>\n",
       "      <td>1</td>\n",
       "      <td>1</td>\n",
       "      <td>0</td>\n",
       "      <td>0</td>\n",
       "      <td>0</td>\n",
       "      <td>0</td>\n",
       "      <td>0</td>\n",
       "    </tr>\n",
       "    <tr>\n",
       "      <th>2</th>\n",
       "      <td>0</td>\n",
       "      <td>3000</td>\n",
       "      <td>0.0</td>\n",
       "      <td>66.0</td>\n",
       "      <td>360.0</td>\n",
       "      <td>1.0</td>\n",
       "      <td>1</td>\n",
       "      <td>1</td>\n",
       "      <td>0</td>\n",
       "      <td>1</td>\n",
       "      <td>0</td>\n",
       "      <td>1</td>\n",
       "      <td>1</td>\n",
       "    </tr>\n",
       "    <tr>\n",
       "      <th>3</th>\n",
       "      <td>0</td>\n",
       "      <td>2583</td>\n",
       "      <td>2358.0</td>\n",
       "      <td>120.0</td>\n",
       "      <td>360.0</td>\n",
       "      <td>1.0</td>\n",
       "      <td>1</td>\n",
       "      <td>1</td>\n",
       "      <td>1</td>\n",
       "      <td>0</td>\n",
       "      <td>0</td>\n",
       "      <td>1</td>\n",
       "      <td>1</td>\n",
       "    </tr>\n",
       "    <tr>\n",
       "      <th>4</th>\n",
       "      <td>0</td>\n",
       "      <td>6000</td>\n",
       "      <td>0.0</td>\n",
       "      <td>141.0</td>\n",
       "      <td>360.0</td>\n",
       "      <td>1.0</td>\n",
       "      <td>1</td>\n",
       "      <td>0</td>\n",
       "      <td>0</td>\n",
       "      <td>0</td>\n",
       "      <td>0</td>\n",
       "      <td>1</td>\n",
       "      <td>1</td>\n",
       "    </tr>\n",
       "  </tbody>\n",
       "</table>\n",
       "</div>"
      ],
      "text/plain": [
       "   Dependents  ApplicantIncome  CoapplicantIncome  LoanAmount  \\\n",
       "0           0             5849                0.0       128.0   \n",
       "1           1             4583             1508.0       128.0   \n",
       "2           0             3000                0.0        66.0   \n",
       "3           0             2583             2358.0       120.0   \n",
       "4           0             6000                0.0       141.0   \n",
       "\n",
       "   Loan_Amount_Term  Credit_History  Gender_Male  Married_Yes  \\\n",
       "0             360.0             1.0            1            0   \n",
       "1             360.0             1.0            1            1   \n",
       "2             360.0             1.0            1            1   \n",
       "3             360.0             1.0            1            1   \n",
       "4             360.0             1.0            1            0   \n",
       "\n",
       "   Education_Not Graduate  Self_Employed_Yes  Property_Area_Semiurban  \\\n",
       "0                       0                  0                        0   \n",
       "1                       0                  0                        0   \n",
       "2                       0                  1                        0   \n",
       "3                       1                  0                        0   \n",
       "4                       0                  0                        0   \n",
       "\n",
       "   Property_Area_Urban  Loan_Status  \n",
       "0                    1            1  \n",
       "1                    0            0  \n",
       "2                    1            1  \n",
       "3                    1            1  \n",
       "4                    1            1  "
      ]
     },
     "execution_count": 62,
     "metadata": {},
     "output_type": "execute_result"
    }
   ],
   "source": [
    "df.head()"
   ]
  },
  {
   "cell_type": "markdown",
   "id": "30f2a8eb",
   "metadata": {},
   "source": [
    "ApplicantIncome, CoapplicantIncome,LoanAmount, Loan_Amount_Term are having skewness, lets remove using log transform."
   ]
  },
  {
   "cell_type": "code",
   "execution_count": 63,
   "id": "7e965331",
   "metadata": {},
   "outputs": [],
   "source": [
    "from sklearn.preprocessing import power_transform"
   ]
  },
  {
   "cell_type": "code",
   "execution_count": 64,
   "id": "19fcf8c8",
   "metadata": {},
   "outputs": [],
   "source": [
    "df_skewed=df.iloc[:,0:6]"
   ]
  },
  {
   "cell_type": "markdown",
   "id": "4ef8efae",
   "metadata": {},
   "source": [
    "Applying Transformation"
   ]
  },
  {
   "cell_type": "code",
   "execution_count": 65,
   "id": "ca07e461",
   "metadata": {},
   "outputs": [
    {
     "data": {
      "text/html": [
       "<div>\n",
       "<style scoped>\n",
       "    .dataframe tbody tr th:only-of-type {\n",
       "        vertical-align: middle;\n",
       "    }\n",
       "\n",
       "    .dataframe tbody tr th {\n",
       "        vertical-align: top;\n",
       "    }\n",
       "\n",
       "    .dataframe thead th {\n",
       "        text-align: right;\n",
       "    }\n",
       "</style>\n",
       "<table border=\"1\" class=\"dataframe\">\n",
       "  <thead>\n",
       "    <tr style=\"text-align: right;\">\n",
       "      <th></th>\n",
       "      <th>Gender</th>\n",
       "      <th>Married</th>\n",
       "      <th>Dependents</th>\n",
       "      <th>Education</th>\n",
       "      <th>Self_Employed</th>\n",
       "      <th>ApplicantIncome</th>\n",
       "      <th>CoapplicantIncome</th>\n",
       "      <th>LoanAmount</th>\n",
       "      <th>Loan_Amount_Term</th>\n",
       "      <th>Credit_History</th>\n",
       "      <th>Property_Area</th>\n",
       "      <th>Loan_Status</th>\n",
       "    </tr>\n",
       "  </thead>\n",
       "  <tbody>\n",
       "    <tr>\n",
       "      <th>0</th>\n",
       "      <td>Male</td>\n",
       "      <td>No</td>\n",
       "      <td>0</td>\n",
       "      <td>Graduate</td>\n",
       "      <td>No</td>\n",
       "      <td>5849</td>\n",
       "      <td>0.0</td>\n",
       "      <td>128.0</td>\n",
       "      <td>360.0</td>\n",
       "      <td>1.0</td>\n",
       "      <td>Urban</td>\n",
       "      <td>1</td>\n",
       "    </tr>\n",
       "    <tr>\n",
       "      <th>1</th>\n",
       "      <td>Male</td>\n",
       "      <td>Yes</td>\n",
       "      <td>1</td>\n",
       "      <td>Graduate</td>\n",
       "      <td>No</td>\n",
       "      <td>4583</td>\n",
       "      <td>1508.0</td>\n",
       "      <td>128.0</td>\n",
       "      <td>360.0</td>\n",
       "      <td>1.0</td>\n",
       "      <td>Rural</td>\n",
       "      <td>0</td>\n",
       "    </tr>\n",
       "  </tbody>\n",
       "</table>\n",
       "</div>"
      ],
      "text/plain": [
       "  Gender Married  Dependents Education Self_Employed  ApplicantIncome  \\\n",
       "0   Male      No           0  Graduate            No             5849   \n",
       "1   Male     Yes           1  Graduate            No             4583   \n",
       "\n",
       "   CoapplicantIncome  LoanAmount  Loan_Amount_Term  Credit_History  \\\n",
       "0                0.0       128.0             360.0             1.0   \n",
       "1             1508.0       128.0             360.0             1.0   \n",
       "\n",
       "  Property_Area  Loan_Status  \n",
       "0         Urban            1  \n",
       "1         Rural            0  "
      ]
     },
     "execution_count": 65,
     "metadata": {},
     "output_type": "execute_result"
    }
   ],
   "source": [
    "data.head(2)"
   ]
  },
  {
   "cell_type": "code",
   "execution_count": 66,
   "id": "334eb809",
   "metadata": {},
   "outputs": [],
   "source": [
    "X=power_transform(df_skewed, method='yeo-johnson')"
   ]
  },
  {
   "cell_type": "markdown",
   "id": "ee7c304e",
   "metadata": {},
   "source": [
    "Making dataFrame for transformed values."
   ]
  },
  {
   "cell_type": "code",
   "execution_count": 67,
   "id": "69f8a291",
   "metadata": {},
   "outputs": [],
   "source": [
    "X=pd.DataFrame(data=X, columns=['Dependents','ApplicantIncome','CoapplicantIncome','LoanAmount','Loan_Amount_Term','Credit_History'])"
   ]
  },
  {
   "cell_type": "code",
   "execution_count": 68,
   "id": "dbe2e834",
   "metadata": {},
   "outputs": [],
   "source": [
    "df.drop(['Dependents','ApplicantIncome','CoapplicantIncome','LoanAmount','Loan_Amount_Term','Credit_History'], axis=1, inplace=True)"
   ]
  },
  {
   "cell_type": "code",
   "execution_count": 69,
   "id": "5ad725fd",
   "metadata": {},
   "outputs": [],
   "source": [
    "df=df.reset_index()"
   ]
  },
  {
   "cell_type": "code",
   "execution_count": 70,
   "id": "fae1b77d",
   "metadata": {},
   "outputs": [],
   "source": [
    "df['Dependents']=X['Dependents']"
   ]
  },
  {
   "cell_type": "code",
   "execution_count": 71,
   "id": "4494b61b",
   "metadata": {},
   "outputs": [],
   "source": [
    "df['ApplicantIncome']=X['ApplicantIncome']"
   ]
  },
  {
   "cell_type": "code",
   "execution_count": 72,
   "id": "8f58f0f4",
   "metadata": {},
   "outputs": [],
   "source": [
    "df['CoapplicantIncome']=X['CoapplicantIncome']"
   ]
  },
  {
   "cell_type": "code",
   "execution_count": 73,
   "id": "5a30ad17",
   "metadata": {},
   "outputs": [],
   "source": [
    "df['LoanAmount']=X['LoanAmount']"
   ]
  },
  {
   "cell_type": "code",
   "execution_count": 74,
   "id": "5f058ec3",
   "metadata": {},
   "outputs": [],
   "source": [
    "df['Loan_Amount_Term']=X['Loan_Amount_Term']"
   ]
  },
  {
   "cell_type": "code",
   "execution_count": 75,
   "id": "b5908d68",
   "metadata": {},
   "outputs": [],
   "source": [
    "df['Credit_History']=X['Credit_History']"
   ]
  },
  {
   "cell_type": "code",
   "execution_count": 76,
   "id": "348839fd",
   "metadata": {},
   "outputs": [
    {
     "data": {
      "text/html": [
       "<div>\n",
       "<style scoped>\n",
       "    .dataframe tbody tr th:only-of-type {\n",
       "        vertical-align: middle;\n",
       "    }\n",
       "\n",
       "    .dataframe tbody tr th {\n",
       "        vertical-align: top;\n",
       "    }\n",
       "\n",
       "    .dataframe thead th {\n",
       "        text-align: right;\n",
       "    }\n",
       "</style>\n",
       "<table border=\"1\" class=\"dataframe\">\n",
       "  <thead>\n",
       "    <tr style=\"text-align: right;\">\n",
       "      <th></th>\n",
       "      <th>index</th>\n",
       "      <th>Gender_Male</th>\n",
       "      <th>Married_Yes</th>\n",
       "      <th>Education_Not Graduate</th>\n",
       "      <th>Self_Employed_Yes</th>\n",
       "      <th>Property_Area_Semiurban</th>\n",
       "      <th>Property_Area_Urban</th>\n",
       "      <th>Loan_Status</th>\n",
       "      <th>Dependents</th>\n",
       "      <th>ApplicantIncome</th>\n",
       "      <th>CoapplicantIncome</th>\n",
       "      <th>LoanAmount</th>\n",
       "      <th>Loan_Amount_Term</th>\n",
       "      <th>Credit_History</th>\n",
       "    </tr>\n",
       "  </thead>\n",
       "  <tbody>\n",
       "    <tr>\n",
       "      <th>0</th>\n",
       "      <td>0</td>\n",
       "      <td>1</td>\n",
       "      <td>0</td>\n",
       "      <td>0</td>\n",
       "      <td>0</td>\n",
       "      <td>0</td>\n",
       "      <td>1</td>\n",
       "      <td>1</td>\n",
       "      <td>-0.809243</td>\n",
       "      <td>0.681780</td>\n",
       "      <td>-1.122446</td>\n",
       "      <td>0.000771</td>\n",
       "      <td>0.130788</td>\n",
       "      <td>0.418513</td>\n",
       "    </tr>\n",
       "    <tr>\n",
       "      <th>1</th>\n",
       "      <td>1</td>\n",
       "      <td>1</td>\n",
       "      <td>1</td>\n",
       "      <td>0</td>\n",
       "      <td>0</td>\n",
       "      <td>0</td>\n",
       "      <td>0</td>\n",
       "      <td>0</td>\n",
       "      <td>0.902869</td>\n",
       "      <td>0.234783</td>\n",
       "      <td>0.744117</td>\n",
       "      <td>0.000771</td>\n",
       "      <td>0.130788</td>\n",
       "      <td>0.418513</td>\n",
       "    </tr>\n",
       "    <tr>\n",
       "      <th>2</th>\n",
       "      <td>2</td>\n",
       "      <td>1</td>\n",
       "      <td>1</td>\n",
       "      <td>0</td>\n",
       "      <td>1</td>\n",
       "      <td>0</td>\n",
       "      <td>1</td>\n",
       "      <td>1</td>\n",
       "      <td>-0.809243</td>\n",
       "      <td>-0.527201</td>\n",
       "      <td>-1.122446</td>\n",
       "      <td>-1.437336</td>\n",
       "      <td>0.130788</td>\n",
       "      <td>0.418513</td>\n",
       "    </tr>\n",
       "    <tr>\n",
       "      <th>3</th>\n",
       "      <td>3</td>\n",
       "      <td>1</td>\n",
       "      <td>1</td>\n",
       "      <td>1</td>\n",
       "      <td>0</td>\n",
       "      <td>0</td>\n",
       "      <td>1</td>\n",
       "      <td>1</td>\n",
       "      <td>-0.809243</td>\n",
       "      <td>-0.791972</td>\n",
       "      <td>0.895786</td>\n",
       "      <td>-0.153545</td>\n",
       "      <td>0.130788</td>\n",
       "      <td>0.418513</td>\n",
       "    </tr>\n",
       "    <tr>\n",
       "      <th>4</th>\n",
       "      <td>4</td>\n",
       "      <td>1</td>\n",
       "      <td>0</td>\n",
       "      <td>0</td>\n",
       "      <td>0</td>\n",
       "      <td>0</td>\n",
       "      <td>1</td>\n",
       "      <td>1</td>\n",
       "      <td>-0.809243</td>\n",
       "      <td>0.728848</td>\n",
       "      <td>-1.122446</td>\n",
       "      <td>0.238260</td>\n",
       "      <td>0.130788</td>\n",
       "      <td>0.418513</td>\n",
       "    </tr>\n",
       "    <tr>\n",
       "      <th>...</th>\n",
       "      <td>...</td>\n",
       "      <td>...</td>\n",
       "      <td>...</td>\n",
       "      <td>...</td>\n",
       "      <td>...</td>\n",
       "      <td>...</td>\n",
       "      <td>...</td>\n",
       "      <td>...</td>\n",
       "      <td>...</td>\n",
       "      <td>...</td>\n",
       "      <td>...</td>\n",
       "      <td>...</td>\n",
       "      <td>...</td>\n",
       "      <td>...</td>\n",
       "    </tr>\n",
       "    <tr>\n",
       "      <th>572</th>\n",
       "      <td>609</td>\n",
       "      <td>0</td>\n",
       "      <td>0</td>\n",
       "      <td>0</td>\n",
       "      <td>0</td>\n",
       "      <td>0</td>\n",
       "      <td>0</td>\n",
       "      <td>1</td>\n",
       "      <td>-0.809243</td>\n",
       "      <td>-0.587375</td>\n",
       "      <td>-1.122446</td>\n",
       "      <td>-1.293791</td>\n",
       "      <td>0.130788</td>\n",
       "      <td>0.418513</td>\n",
       "    </tr>\n",
       "    <tr>\n",
       "      <th>573</th>\n",
       "      <td>610</td>\n",
       "      <td>1</td>\n",
       "      <td>1</td>\n",
       "      <td>0</td>\n",
       "      <td>0</td>\n",
       "      <td>0</td>\n",
       "      <td>0</td>\n",
       "      <td>1</td>\n",
       "      <td>1.533596</td>\n",
       "      <td>0.035386</td>\n",
       "      <td>-1.122446</td>\n",
       "      <td>-2.332692</td>\n",
       "      <td>-2.562700</td>\n",
       "      <td>0.418513</td>\n",
       "    </tr>\n",
       "    <tr>\n",
       "      <th>574</th>\n",
       "      <td>611</td>\n",
       "      <td>1</td>\n",
       "      <td>1</td>\n",
       "      <td>0</td>\n",
       "      <td>0</td>\n",
       "      <td>0</td>\n",
       "      <td>1</td>\n",
       "      <td>1</td>\n",
       "      <td>0.902869</td>\n",
       "      <td>1.281658</td>\n",
       "      <td>0.173344</td>\n",
       "      <td>1.845015</td>\n",
       "      <td>0.130788</td>\n",
       "      <td>0.418513</td>\n",
       "    </tr>\n",
       "    <tr>\n",
       "      <th>575</th>\n",
       "      <td>612</td>\n",
       "      <td>1</td>\n",
       "      <td>1</td>\n",
       "      <td>0</td>\n",
       "      <td>0</td>\n",
       "      <td>0</td>\n",
       "      <td>1</td>\n",
       "      <td>1</td>\n",
       "      <td>1.344671</td>\n",
       "      <td>1.164426</td>\n",
       "      <td>-1.122446</td>\n",
       "      <td>0.976055</td>\n",
       "      <td>0.130788</td>\n",
       "      <td>0.418513</td>\n",
       "    </tr>\n",
       "    <tr>\n",
       "      <th>576</th>\n",
       "      <td>613</td>\n",
       "      <td>0</td>\n",
       "      <td>0</td>\n",
       "      <td>0</td>\n",
       "      <td>1</td>\n",
       "      <td>1</td>\n",
       "      <td>0</td>\n",
       "      <td>0</td>\n",
       "      <td>-0.809243</td>\n",
       "      <td>0.234783</td>\n",
       "      <td>-1.122446</td>\n",
       "      <td>0.093952</td>\n",
       "      <td>0.130788</td>\n",
       "      <td>-2.389415</td>\n",
       "    </tr>\n",
       "  </tbody>\n",
       "</table>\n",
       "<p>577 rows × 14 columns</p>\n",
       "</div>"
      ],
      "text/plain": [
       "     index  Gender_Male  Married_Yes  Education_Not Graduate  \\\n",
       "0        0            1            0                       0   \n",
       "1        1            1            1                       0   \n",
       "2        2            1            1                       0   \n",
       "3        3            1            1                       1   \n",
       "4        4            1            0                       0   \n",
       "..     ...          ...          ...                     ...   \n",
       "572    609            0            0                       0   \n",
       "573    610            1            1                       0   \n",
       "574    611            1            1                       0   \n",
       "575    612            1            1                       0   \n",
       "576    613            0            0                       0   \n",
       "\n",
       "     Self_Employed_Yes  Property_Area_Semiurban  Property_Area_Urban  \\\n",
       "0                    0                        0                    1   \n",
       "1                    0                        0                    0   \n",
       "2                    1                        0                    1   \n",
       "3                    0                        0                    1   \n",
       "4                    0                        0                    1   \n",
       "..                 ...                      ...                  ...   \n",
       "572                  0                        0                    0   \n",
       "573                  0                        0                    0   \n",
       "574                  0                        0                    1   \n",
       "575                  0                        0                    1   \n",
       "576                  1                        1                    0   \n",
       "\n",
       "     Loan_Status  Dependents  ApplicantIncome  CoapplicantIncome  LoanAmount  \\\n",
       "0              1   -0.809243         0.681780          -1.122446    0.000771   \n",
       "1              0    0.902869         0.234783           0.744117    0.000771   \n",
       "2              1   -0.809243        -0.527201          -1.122446   -1.437336   \n",
       "3              1   -0.809243        -0.791972           0.895786   -0.153545   \n",
       "4              1   -0.809243         0.728848          -1.122446    0.238260   \n",
       "..           ...         ...              ...                ...         ...   \n",
       "572            1   -0.809243        -0.587375          -1.122446   -1.293791   \n",
       "573            1    1.533596         0.035386          -1.122446   -2.332692   \n",
       "574            1    0.902869         1.281658           0.173344    1.845015   \n",
       "575            1    1.344671         1.164426          -1.122446    0.976055   \n",
       "576            0   -0.809243         0.234783          -1.122446    0.093952   \n",
       "\n",
       "     Loan_Amount_Term  Credit_History  \n",
       "0            0.130788        0.418513  \n",
       "1            0.130788        0.418513  \n",
       "2            0.130788        0.418513  \n",
       "3            0.130788        0.418513  \n",
       "4            0.130788        0.418513  \n",
       "..                ...             ...  \n",
       "572          0.130788        0.418513  \n",
       "573         -2.562700        0.418513  \n",
       "574          0.130788        0.418513  \n",
       "575          0.130788        0.418513  \n",
       "576          0.130788       -2.389415  \n",
       "\n",
       "[577 rows x 14 columns]"
      ]
     },
     "execution_count": 76,
     "metadata": {},
     "output_type": "execute_result"
    }
   ],
   "source": [
    "df"
   ]
  },
  {
   "cell_type": "markdown",
   "id": "ef36bec2",
   "metadata": {},
   "source": [
    "## Scaling the data Using StandardScaler."
   ]
  },
  {
   "cell_type": "markdown",
   "id": "c1ec20ee",
   "metadata": {},
   "source": [
    "Dividing into Feature and Target data"
   ]
  },
  {
   "cell_type": "code",
   "execution_count": 78,
   "id": "9a08195f",
   "metadata": {},
   "outputs": [],
   "source": [
    "x=df.drop(['index', 'Loan_Status'],axis=1)\n",
    "y=df['Loan_Status']"
   ]
  },
  {
   "cell_type": "code",
   "execution_count": 79,
   "id": "fcf5495a",
   "metadata": {},
   "outputs": [],
   "source": [
    "from sklearn.preprocessing import StandardScaler"
   ]
  },
  {
   "cell_type": "code",
   "execution_count": 80,
   "id": "c7e33748",
   "metadata": {},
   "outputs": [],
   "source": [
    "SDC=StandardScaler()\n",
    "x=SDC.fit_transform(x)"
   ]
  },
  {
   "cell_type": "code",
   "execution_count": 81,
   "id": "34c31e33",
   "metadata": {},
   "outputs": [
    {
     "data": {
      "text/plain": [
       "<AxesSubplot:xlabel='Loan_Status', ylabel='count'>"
      ]
     },
     "execution_count": 81,
     "metadata": {},
     "output_type": "execute_result"
    },
    {
     "data": {
      "image/png": "[encoded data removed]",
      "text/plain": [
       "<Figure size 432x288 with 1 Axes>"
      ]
     },
     "metadata": {
      "needs_background": "light"
     },
     "output_type": "display_data"
    }
   ],
   "source": [
    "sns.countplot(y)"
   ]
  },
  {
   "cell_type": "markdown",
   "id": "d65a89cd",
   "metadata": {},
   "source": [
    "Here we can see our output is not balanced we will now use SMOTE to balance the output."
   ]
  },
  {
   "cell_type": "code",
   "execution_count": 82,
   "id": "7e74cf76",
   "metadata": {},
   "outputs": [],
   "source": [
    "from imblearn.over_sampling import SMOTE"
   ]
  },
  {
   "cell_type": "code",
   "execution_count": 83,
   "id": "78fcbab2",
   "metadata": {},
   "outputs": [],
   "source": [
    "X_train_over, Y_train_over =SMOTE(k_neighbors=3).fit_resample(x,y)"
   ]
  },
  {
   "cell_type": "code",
   "execution_count": 84,
   "id": "2a14b6ca",
   "metadata": {},
   "outputs": [
    {
     "data": {
      "text/plain": [
       "(796, 12)"
      ]
     },
     "execution_count": 84,
     "metadata": {},
     "output_type": "execute_result"
    }
   ],
   "source": [
    "X_train_over.shape"
   ]
  },
  {
   "cell_type": "code",
   "execution_count": 85,
   "id": "5da7ca83",
   "metadata": {},
   "outputs": [
    {
     "data": {
      "text/plain": [
       "0    398\n",
       "1    398\n",
       "Name: Loan_Status, dtype: int64"
      ]
     },
     "execution_count": 85,
     "metadata": {},
     "output_type": "execute_result"
    }
   ],
   "source": [
    "Y_train_over.value_counts()"
   ]
  },
  {
   "cell_type": "markdown",
   "id": "49f80f83",
   "metadata": {},
   "source": [
    "Here we can see over data is balance now."
   ]
  },
  {
   "cell_type": "code",
   "execution_count": 86,
   "id": "7653427d",
   "metadata": {},
   "outputs": [],
   "source": [
    "dfx=pd.DataFrame(data=X_train_over, columns=['Gender_Male','Married_Yes','Education_Not Graduate','Self_Employed_Yes','Property_Area_Semiurban','Property_Area_Urban','Dependents','ApplicantIncome','CoapplicantIncome','LoanAmount','Loan_Amount_Term','Credit_History'])"
   ]
  },
  {
   "cell_type": "markdown",
   "id": "aeaf7353",
   "metadata": {},
   "source": [
    "# VIF calculation"
   ]
  },
  {
   "cell_type": "code",
   "execution_count": 87,
   "id": "57b9c917",
   "metadata": {},
   "outputs": [],
   "source": [
    "import statsmodels.api as sm\n",
    "from scipy import stats\n",
    "from statsmodels.stats.outliers_influence import variance_inflation_factor"
   ]
  },
  {
   "cell_type": "code",
   "execution_count": 88,
   "id": "1275c2d8",
   "metadata": {},
   "outputs": [],
   "source": [
    "def calc_vif(x):\n",
    "    vif=pd.DataFrame()\n",
    "    vif['variables']=x.columns\n",
    "    vif['VIF FACTOR']=[variance_inflation_factor(x.values,i) for i in range(x.shape[1])]\n",
    "    return(vif)"
   ]
  },
  {
   "cell_type": "code",
   "execution_count": 89,
   "id": "b41496a7",
   "metadata": {},
   "outputs": [
    {
     "data": {
      "text/html": [
       "<div>\n",
       "<style scoped>\n",
       "    .dataframe tbody tr th:only-of-type {\n",
       "        vertical-align: middle;\n",
       "    }\n",
       "\n",
       "    .dataframe tbody tr th {\n",
       "        vertical-align: top;\n",
       "    }\n",
       "\n",
       "    .dataframe thead th {\n",
       "        text-align: right;\n",
       "    }\n",
       "</style>\n",
       "<table border=\"1\" class=\"dataframe\">\n",
       "  <thead>\n",
       "    <tr style=\"text-align: right;\">\n",
       "      <th></th>\n",
       "      <th>variables</th>\n",
       "      <th>VIF FACTOR</th>\n",
       "    </tr>\n",
       "  </thead>\n",
       "  <tbody>\n",
       "    <tr>\n",
       "      <th>0</th>\n",
       "      <td>Gender_Male</td>\n",
       "      <td>1.252819</td>\n",
       "    </tr>\n",
       "    <tr>\n",
       "      <th>1</th>\n",
       "      <td>Married_Yes</td>\n",
       "      <td>1.539754</td>\n",
       "    </tr>\n",
       "    <tr>\n",
       "      <th>2</th>\n",
       "      <td>Education_Not Graduate</td>\n",
       "      <td>1.067991</td>\n",
       "    </tr>\n",
       "    <tr>\n",
       "      <th>3</th>\n",
       "      <td>Self_Employed_Yes</td>\n",
       "      <td>1.072467</td>\n",
       "    </tr>\n",
       "    <tr>\n",
       "      <th>4</th>\n",
       "      <td>Property_Area_Semiurban</td>\n",
       "      <td>1.421700</td>\n",
       "    </tr>\n",
       "    <tr>\n",
       "      <th>5</th>\n",
       "      <td>Property_Area_Urban</td>\n",
       "      <td>1.410867</td>\n",
       "    </tr>\n",
       "    <tr>\n",
       "      <th>6</th>\n",
       "      <td>Dependents</td>\n",
       "      <td>1.210350</td>\n",
       "    </tr>\n",
       "    <tr>\n",
       "      <th>7</th>\n",
       "      <td>ApplicantIncome</td>\n",
       "      <td>1.800419</td>\n",
       "    </tr>\n",
       "    <tr>\n",
       "      <th>8</th>\n",
       "      <td>CoapplicantIncome</td>\n",
       "      <td>1.671140</td>\n",
       "    </tr>\n",
       "    <tr>\n",
       "      <th>9</th>\n",
       "      <td>LoanAmount</td>\n",
       "      <td>1.657957</td>\n",
       "    </tr>\n",
       "    <tr>\n",
       "      <th>10</th>\n",
       "      <td>Loan_Amount_Term</td>\n",
       "      <td>1.072915</td>\n",
       "    </tr>\n",
       "    <tr>\n",
       "      <th>11</th>\n",
       "      <td>Credit_History</td>\n",
       "      <td>1.017511</td>\n",
       "    </tr>\n",
       "  </tbody>\n",
       "</table>\n",
       "</div>"
      ],
      "text/plain": [
       "                  variables  VIF FACTOR\n",
       "0               Gender_Male    1.252819\n",
       "1               Married_Yes    1.539754\n",
       "2    Education_Not Graduate    1.067991\n",
       "3         Self_Employed_Yes    1.072467\n",
       "4   Property_Area_Semiurban    1.421700\n",
       "5       Property_Area_Urban    1.410867\n",
       "6                Dependents    1.210350\n",
       "7           ApplicantIncome    1.800419\n",
       "8         CoapplicantIncome    1.671140\n",
       "9                LoanAmount    1.657957\n",
       "10         Loan_Amount_Term    1.072915\n",
       "11           Credit_History    1.017511"
      ]
     },
     "execution_count": 89,
     "metadata": {},
     "output_type": "execute_result"
    }
   ],
   "source": [
    "calc_vif(dfx)"
   ]
  },
  {
   "cell_type": "markdown",
   "id": "21287caf",
   "metadata": {},
   "source": [
    "Vif is less than 10 we can proceed for model development"
   ]
  },
  {
   "cell_type": "code",
   "execution_count": 90,
   "id": "b0ad0b86",
   "metadata": {},
   "outputs": [],
   "source": [
    "from sklearn.model_selection import train_test_split\n",
    "from sklearn.metrics import accuracy_score, confusion_matrix\n",
    "\n",
    "from sklearn.linear_model import LogisticRegression \n",
    "from sklearn.neighbors import KNeighborsClassifier\n",
    "from sklearn.svm import SVC\n",
    "from sklearn.tree import DecisionTreeClassifier \n",
    "from sklearn.ensemble import RandomForestClassifier\n",
    "from sklearn.ensemble import AdaBoostClassifier \n",
    "from sklearn.naive_bayes import GaussianNB\n",
    "from sklearn.naive_bayes import MultinomialNB"
   ]
  },
  {
   "cell_type": "code",
   "execution_count": 91,
   "id": "5c8b2895",
   "metadata": {},
   "outputs": [],
   "source": [
    "x=dfx\n",
    "y=Y_train_over"
   ]
  },
  {
   "cell_type": "code",
   "execution_count": 92,
   "id": "2f68ebd8",
   "metadata": {},
   "outputs": [
    {
     "name": "stdout",
     "output_type": "stream",
     "text": [
      "(796, 12)\n",
      "(796,)\n"
     ]
    }
   ],
   "source": [
    "print(x.shape)\n",
    "print(y.shape)"
   ]
  },
  {
   "cell_type": "markdown",
   "id": "fafa9d2e",
   "metadata": {},
   "source": [
    "# Chosing Best Random State"
   ]
  },
  {
   "cell_type": "code",
   "execution_count": 93,
   "id": "16fabab3",
   "metadata": {},
   "outputs": [
    {
     "name": "stdout",
     "output_type": "stream",
     "text": [
      "At Random state  4 The Model performing Well\n",
      "At Random State 4\n",
      "Training Accuracy score is- 72.48427672955975\n",
      "Testing Accuracy Score is- 72.5\n",
      "At Random state  44 The Model performing Well\n",
      "At Random State 44\n",
      "Training Accuracy score is- 73.11320754716981\n",
      "Testing Accuracy Score is- 73.125\n",
      "At Random state  46 The Model performing Well\n",
      "At Random State 46\n",
      "Training Accuracy score is- 72.48427672955975\n",
      "Testing Accuracy Score is- 72.5\n",
      "At Random state  147 The Model performing Well\n",
      "At Random State 147\n",
      "Training Accuracy score is- 72.48427672955975\n",
      "Testing Accuracy Score is- 72.5\n",
      "At Random state  154 The Model performing Well\n",
      "At Random State 154\n",
      "Training Accuracy score is- 72.48427672955975\n",
      "Testing Accuracy Score is- 72.5\n",
      "At Random state  177 The Model performing Well\n",
      "At Random State 177\n",
      "Training Accuracy score is- 73.11320754716981\n",
      "Testing Accuracy Score is- 73.125\n",
      "At Random state  273 The Model performing Well\n",
      "At Random State 273\n",
      "Training Accuracy score is- 71.85534591194968\n",
      "Testing Accuracy Score is- 71.875\n",
      "At Random state  300 The Model performing Well\n",
      "At Random State 300\n",
      "Training Accuracy score is- 74.37106918238993\n",
      "Testing Accuracy Score is- 74.375\n",
      "At Random state  682 The Model performing Well\n",
      "At Random State 682\n",
      "Training Accuracy score is- 72.48427672955975\n",
      "Testing Accuracy Score is- 72.5\n",
      "At Random state  739 The Model performing Well\n",
      "At Random State 739\n",
      "Training Accuracy score is- 73.11320754716981\n",
      "Testing Accuracy Score is- 73.125\n",
      "At Random state  813 The Model performing Well\n",
      "At Random State 813\n",
      "Training Accuracy score is- 73.11320754716981\n",
      "Testing Accuracy Score is- 73.125\n",
      "At Random state  887 The Model performing Well\n",
      "At Random State 887\n",
      "Training Accuracy score is- 74.37106918238993\n",
      "Testing Accuracy Score is- 74.375\n"
     ]
    }
   ],
   "source": [
    "lr= LogisticRegression()\n",
    "for i in range(0,1000):\n",
    "    x_train, x_test, y_train, y_test= train_test_split(x,y, random_state= i, test_size= 0.20)\n",
    "    lr.fit(x_train, y_train)\n",
    "    pred_train=lr.predict(x_train)\n",
    "    pred_test=lr.predict(x_test)\n",
    "    if round(accuracy_score(y_train,pred_train)*100,1)== round(accuracy_score(y_test,pred_test)*100,1):\n",
    "        print(\"At Random state \", i, \"The Model performing Well\")\n",
    "        print(\"At Random State\", i)\n",
    "        print(\"Training Accuracy score is-\",accuracy_score(y_train,pred_train)*100 )\n",
    "        print(\"Testing Accuracy Score is-\", accuracy_score(y_test,pred_test)*100)"
   ]
  },
  {
   "cell_type": "markdown",
   "id": "bfeacb3a",
   "metadata": {},
   "source": [
    "At Random State 887   \n",
    "Training Accuracy score is- 74.37106918238993    \n",
    "Testing Accuracy Score is- 74.375    "
   ]
  },
  {
   "cell_type": "code",
   "execution_count": 94,
   "id": "939cf442",
   "metadata": {},
   "outputs": [],
   "source": [
    "x_train_b, x_test_b, y_train_b, y_test_b= train_test_split(x,y,random_state=801,test_size=0.20)"
   ]
  },
  {
   "cell_type": "code",
   "execution_count": 95,
   "id": "6d54b04e",
   "metadata": {},
   "outputs": [
    {
     "name": "stdout",
     "output_type": "stream",
     "text": [
      "0.71875\n"
     ]
    }
   ],
   "source": [
    "lr.fit(x_train_b, y_train_b)\n",
    "lr_pred=lr.predict(x_test_b)\n",
    "print(accuracy_score(y_test_b,lr_pred))"
   ]
  },
  {
   "cell_type": "code",
   "execution_count": 96,
   "id": "d5289a40",
   "metadata": {},
   "outputs": [
    {
     "name": "stdout",
     "output_type": "stream",
     "text": [
      "[[61 26]\n",
      " [19 54]]\n",
      "              precision    recall  f1-score   support\n",
      "\n",
      "           0       0.76      0.70      0.73        87\n",
      "           1       0.68      0.74      0.71        73\n",
      "\n",
      "    accuracy                           0.72       160\n",
      "   macro avg       0.72      0.72      0.72       160\n",
      "weighted avg       0.72      0.72      0.72       160\n",
      "\n"
     ]
    }
   ],
   "source": [
    "from sklearn.metrics import classification_report \n",
    "print(confusion_matrix(y_test_b, lr_pred))\n",
    "print(classification_report(y_test_b, lr_pred))"
   ]
  },
  {
   "cell_type": "markdown",
   "id": "02712b55",
   "metadata": {},
   "source": [
    "# Cross validation of model"
   ]
  },
  {
   "cell_type": "code",
   "execution_count": 97,
   "id": "82e2702c",
   "metadata": {},
   "outputs": [
    {
     "name": "stdout",
     "output_type": "stream",
     "text": [
      "at cv:- 2\n",
      "Cross Validation scre is:- 70.35175879396985\n",
      "Accuracy Score:- 71.875\n",
      "\n",
      "\n",
      "at cv:- 3\n",
      "Cross Validation scre is:- 71.6068473069466\n",
      "Accuracy Score:- 71.875\n",
      "\n",
      "\n",
      "at cv:- 4\n",
      "Cross Validation scre is:- 72.23618090452261\n",
      "Accuracy Score:- 71.875\n",
      "\n",
      "\n",
      "at cv:- 5\n",
      "Cross Validation scre is:- 72.3624213836478\n",
      "Accuracy Score:- 71.875\n",
      "\n",
      "\n",
      "at cv:- 6\n",
      "Cross Validation scre is:- 72.3570289359763\n",
      "Accuracy Score:- 71.875\n",
      "\n",
      "\n",
      "at cv:- 7\n",
      "Cross Validation scre is:- 71.85552376516513\n",
      "Accuracy Score:- 71.875\n",
      "\n",
      "\n",
      "at cv:- 8\n",
      "Cross Validation scre is:- 72.1111111111111\n",
      "Accuracy Score:- 71.875\n",
      "\n",
      "\n",
      "at cv:- 9\n",
      "Cross Validation scre is:- 71.9796277380547\n",
      "Accuracy Score:- 71.875\n",
      "\n",
      "\n"
     ]
    }
   ],
   "source": [
    "lr_pred=lr.predict(x_test_b)\n",
    "from sklearn.model_selection import cross_val_score\n",
    "lr_score=accuracy_score(y_test_b,lr_pred)\n",
    "for j in range(2,10):\n",
    "    lr_cv= cross_val_score(lr,x,y,cv=j, scoring='accuracy')\n",
    "    lr_cvscore=lr_cv.mean()\n",
    "    print(\"at cv:-\", j)\n",
    "    print(\"Cross Validation scre is:-\",lr_cvscore*100)\n",
    "    print(\"Accuracy Score:-\", lr_score*100)\n",
    "    print(\"\\n\")"
   ]
  },
  {
   "cell_type": "markdown",
   "id": "ad9685da",
   "metadata": {},
   "source": [
    "at cv:- 7    \n",
    "Cross Validation scre is:- 71.85552376516513    \n",
    "Accuracy Score:- 71.875    "
   ]
  },
  {
   "cell_type": "markdown",
   "id": "569fd8f4",
   "metadata": {},
   "source": [
    "# SVC"
   ]
  },
  {
   "cell_type": "code",
   "execution_count": 98,
   "id": "ec3ecdd0",
   "metadata": {},
   "outputs": [
    {
     "name": "stdout",
     "output_type": "stream",
     "text": [
      "Accuracy_core: 73.75\n",
      "Cross val Score : 73.74409475014971\n"
     ]
    }
   ],
   "source": [
    "svc=SVC()\n",
    "svc.fit(x_train_b, y_train_b)\n",
    "svc.score(x_train_b, y_train_b)\n",
    "svc_pred=svc.predict(x_test_b)\n",
    "\n",
    "svc_d=accuracy_score(y_test_b, svc_pred)\n",
    "print('Accuracy_core:', svc_d*100)\n",
    "\n",
    "svc_cv= cross_val_score(svc,x,y,cv=7, scoring='accuracy')\n",
    "svc_score=svc_cv.mean()\n",
    "print('Cross val Score :', svc_score*100)"
   ]
  },
  {
   "cell_type": "code",
   "execution_count": 99,
   "id": "72ce71e8",
   "metadata": {},
   "outputs": [
    {
     "name": "stdout",
     "output_type": "stream",
     "text": [
      "[[62 25]\n",
      " [17 56]]\n",
      "              precision    recall  f1-score   support\n",
      "\n",
      "           0       0.78      0.71      0.75        87\n",
      "           1       0.69      0.77      0.73        73\n",
      "\n",
      "    accuracy                           0.74       160\n",
      "   macro avg       0.74      0.74      0.74       160\n",
      "weighted avg       0.74      0.74      0.74       160\n",
      "\n"
     ]
    }
   ],
   "source": [
    "print(confusion_matrix(y_test_b, svc_pred))\n",
    "print(classification_report(y_test_b, svc_pred))"
   ]
  },
  {
   "cell_type": "markdown",
   "id": "5eccabfe",
   "metadata": {},
   "source": [
    "Accuracy_core: 73.75    \n",
    "Cross val Score : 73.74409475014971     \n",
    "Diffrence is lesser as compare to Logistic regression, lets try anaother model."
   ]
  },
  {
   "cell_type": "markdown",
   "id": "24303ce2",
   "metadata": {},
   "source": [
    "# Ensemble Techniques"
   ]
  },
  {
   "cell_type": "markdown",
   "id": "7fe58ad6",
   "metadata": {},
   "source": [
    "KNeighborsClassifier"
   ]
  },
  {
   "cell_type": "code",
   "execution_count": 100,
   "id": "452e0866",
   "metadata": {},
   "outputs": [
    {
     "name": "stdout",
     "output_type": "stream",
     "text": [
      "accuracy_score: 71.25\n",
      "Cross val Score : 76.37567369751814\n"
     ]
    }
   ],
   "source": [
    "kn=KNeighborsClassifier()\n",
    "kn.fit(x_train_b, y_train_b)\n",
    "kn.score(x_train_b,y_train_b)\n",
    "kn_pred=kn.predict(x_test_b)\n",
    "\n",
    "kn_score= accuracy_score(y_test_b, kn_pred)\n",
    "print('accuracy_score:', kn_score*100)\n",
    "\n",
    "kncvscore=cross_val_score(kn,x,y, cv=7, scoring='accuracy')\n",
    "kncv_score=kncvscore.mean()\n",
    "print('Cross val Score :',kncv_score*100 )"
   ]
  },
  {
   "cell_type": "code",
   "execution_count": 101,
   "id": "ccad17e5",
   "metadata": {},
   "outputs": [
    {
     "name": "stdout",
     "output_type": "stream",
     "text": [
      "[[69 18]\n",
      " [28 45]]\n",
      "              precision    recall  f1-score   support\n",
      "\n",
      "           0       0.71      0.79      0.75        87\n",
      "           1       0.71      0.62      0.66        73\n",
      "\n",
      "    accuracy                           0.71       160\n",
      "   macro avg       0.71      0.70      0.71       160\n",
      "weighted avg       0.71      0.71      0.71       160\n",
      "\n"
     ]
    }
   ],
   "source": [
    "print(confusion_matrix(y_test_b, kn_pred))\n",
    "print(classification_report(y_test_b, kn_pred))"
   ]
  },
  {
   "cell_type": "markdown",
   "id": "80072c72",
   "metadata": {},
   "source": [
    "accuracy_score: 71.25       \n",
    "Cross val Score : 76.37567369751814    \n",
    "\n",
    "Both accuracy score and Cross val score having lesser diffrence, as compare to SVC and logistic, KNeighborsClassifier is performing well."
   ]
  },
  {
   "cell_type": "markdown",
   "id": "82172f27",
   "metadata": {},
   "source": [
    "# DecisionTreeClassifier"
   ]
  },
  {
   "cell_type": "code",
   "execution_count": 102,
   "id": "a0d4d9df",
   "metadata": {},
   "outputs": [
    {
     "name": "stdout",
     "output_type": "stream",
     "text": [
      "accuracy_score 73.75\n",
      "Cross val score is: 78.90079180251513\n"
     ]
    }
   ],
   "source": [
    "dt=DecisionTreeClassifier()\n",
    "dt.fit(x_train_b,y_train_b)\n",
    "dt.score(x_train_b, y_train_b)\n",
    "dt_pred=dt.predict(x_test_b)\n",
    "\n",
    "dt_score= accuracy_score(y_test_b, dt_pred)\n",
    "print(\"accuracy_score\", dt_score*100)\n",
    "\n",
    "dt_cv=cross_val_score(dt,x,y,cv=7, scoring='accuracy')\n",
    "dtcv_score= dt_cv.mean()\n",
    "print(\"Cross val score is:\",dtcv_score*100 )"
   ]
  },
  {
   "cell_type": "code",
   "execution_count": 103,
   "id": "ebdd9807",
   "metadata": {},
   "outputs": [
    {
     "name": "stdout",
     "output_type": "stream",
     "text": [
      "[[65 22]\n",
      " [20 53]]\n",
      "              precision    recall  f1-score   support\n",
      "\n",
      "           0       0.76      0.75      0.76        87\n",
      "           1       0.71      0.73      0.72        73\n",
      "\n",
      "    accuracy                           0.74       160\n",
      "   macro avg       0.74      0.74      0.74       160\n",
      "weighted avg       0.74      0.74      0.74       160\n",
      "\n"
     ]
    }
   ],
   "source": [
    "print(confusion_matrix(y_test_b, dt_pred))\n",
    "print(classification_report(y_test_b, dt_pred))"
   ]
  },
  {
   "cell_type": "code",
   "execution_count": 104,
   "id": "cb4eb3c5",
   "metadata": {},
   "outputs": [
    {
     "name": "stdout",
     "output_type": "stream",
     "text": [
      "[[65 22]\n",
      " [20 53]]\n",
      "              precision    recall  f1-score   support\n",
      "\n",
      "           0       0.76      0.75      0.76        87\n",
      "           1       0.71      0.73      0.72        73\n",
      "\n",
      "    accuracy                           0.74       160\n",
      "   macro avg       0.74      0.74      0.74       160\n",
      "weighted avg       0.74      0.74      0.74       160\n",
      "\n"
     ]
    }
   ],
   "source": [
    "print(confusion_matrix(y_test_b, dt_pred))\n",
    "print(classification_report(y_test_b, dt_pred))"
   ]
  },
  {
   "cell_type": "markdown",
   "id": "fe1374db",
   "metadata": {},
   "source": [
    "accuracy_score 73.75    \n",
    "Cross val score is: 78.90079180251513     \n",
    "Both accuracy score and Cross val score having big diffrence, Model performance is bad.       "
   ]
  },
  {
   "cell_type": "markdown",
   "id": "c1d19fe7",
   "metadata": {},
   "source": [
    "# RandomForestClassifier"
   ]
  },
  {
   "cell_type": "code",
   "execution_count": 105,
   "id": "61fb94f8",
   "metadata": {},
   "outputs": [
    {
     "name": "stdout",
     "output_type": "stream",
     "text": [
      "accuracy_score:  79.375\n",
      "Cross val Score : 82.79992015436822\n"
     ]
    }
   ],
   "source": [
    "rf=RandomForestClassifier()\n",
    "rf.fit(x_train_b, y_train_b)\n",
    "rf.score(x_train_b,y_train_b)\n",
    "rf_pred=rf.predict(x_test_b)\n",
    "\n",
    "rf_score= accuracy_score(y_test_b, rf_pred)\n",
    "print('accuracy_score: ', rf_score*100)\n",
    "\n",
    "rfcvscore=cross_val_score(rf,x,y, cv=7, scoring='accuracy')\n",
    "rfcv_score=rfcvscore.mean()\n",
    "print('Cross val Score :',rfcv_score*100 )"
   ]
  },
  {
   "cell_type": "code",
   "execution_count": 106,
   "id": "c7ed633c",
   "metadata": {},
   "outputs": [
    {
     "name": "stdout",
     "output_type": "stream",
     "text": [
      "[[66 21]\n",
      " [12 61]]\n",
      "              precision    recall  f1-score   support\n",
      "\n",
      "           0       0.85      0.76      0.80        87\n",
      "           1       0.74      0.84      0.79        73\n",
      "\n",
      "    accuracy                           0.79       160\n",
      "   macro avg       0.80      0.80      0.79       160\n",
      "weighted avg       0.80      0.79      0.79       160\n",
      "\n"
     ]
    }
   ],
   "source": [
    "print(confusion_matrix(y_test_b, rf_pred))\n",
    "print(classification_report(y_test_b, rf_pred))"
   ]
  },
  {
   "cell_type": "markdown",
   "id": "c030a918",
   "metadata": {},
   "source": [
    "# AdaBoostClassifier"
   ]
  },
  {
   "cell_type": "code",
   "execution_count": 107,
   "id": "4363a272",
   "metadata": {},
   "outputs": [
    {
     "name": "stdout",
     "output_type": "stream",
     "text": [
      "accuracy_score:  75.625\n",
      "Cross val Score : 73.36704593341761\n"
     ]
    }
   ],
   "source": [
    "ad=AdaBoostClassifier()\n",
    "ad.fit(x_train_b, y_train_b)\n",
    "ad.score(x_train_b,y_train_b)\n",
    "ad_pred=ad.predict(x_test_b)\n",
    "\n",
    "ad_score= accuracy_score(y_test_b, ad_pred)\n",
    "print('accuracy_score: ', ad_score*100)\n",
    "\n",
    "adcvscore=cross_val_score(ad,x,y, cv=7, scoring='accuracy')\n",
    "adcv_score=adcvscore.mean()\n",
    "print('Cross val Score :',adcv_score*100 )"
   ]
  },
  {
   "cell_type": "code",
   "execution_count": 108,
   "id": "81a5c31e",
   "metadata": {},
   "outputs": [
    {
     "name": "stdout",
     "output_type": "stream",
     "text": [
      "[[63 24]\n",
      " [15 58]]\n",
      "              precision    recall  f1-score   support\n",
      "\n",
      "           0       0.81      0.72      0.76        87\n",
      "           1       0.71      0.79      0.75        73\n",
      "\n",
      "    accuracy                           0.76       160\n",
      "   macro avg       0.76      0.76      0.76       160\n",
      "weighted avg       0.76      0.76      0.76       160\n",
      "\n"
     ]
    }
   ],
   "source": [
    "print(confusion_matrix(y_test_b, ad_pred))\n",
    "print(classification_report(y_test_b, ad_pred))"
   ]
  },
  {
   "cell_type": "markdown",
   "id": "f36055e1",
   "metadata": {},
   "source": [
    "accuracy_score:  75.625     \n",
    "Cross val Score : 73.36704593341761    \n",
    "we can see that their is less difference between accuracy_score and Cross val Score"
   ]
  },
  {
   "cell_type": "markdown",
   "id": "aaaab987",
   "metadata": {},
   "source": [
    "# GaussianNB"
   ]
  },
  {
   "cell_type": "code",
   "execution_count": 109,
   "id": "c03e6d32",
   "metadata": {},
   "outputs": [
    {
     "name": "stdout",
     "output_type": "stream",
     "text": [
      "Accuracy Score is: 71.875\n",
      "Cross Val Score is : 70.85301749950096\n"
     ]
    }
   ],
   "source": [
    "from sklearn.naive_bayes import GaussianNB\n",
    "gb=GaussianNB()\n",
    "gb.fit(x_train_b, y_train_b)\n",
    "gb.score(x_train_b, y_train_b)\n",
    "gb_pred=gb.predict(x_test_b)\n",
    "\n",
    "gb_score=accuracy_score(y_test_b, gb_pred)\n",
    "print(\"Accuracy Score is:\", gb_score*100)\n",
    "\n",
    "gb_cv= cross_val_score(gb, x,y,cv=7, scoring='accuracy')\n",
    "gb_cvscore=gb_cv.mean()\n",
    "print(\"Cross Val Score is :\", gb_cvscore*100)"
   ]
  },
  {
   "cell_type": "code",
   "execution_count": 110,
   "id": "7776fb04",
   "metadata": {},
   "outputs": [
    {
     "name": "stdout",
     "output_type": "stream",
     "text": [
      "[[45 42]\n",
      " [ 3 70]]\n",
      "              precision    recall  f1-score   support\n",
      "\n",
      "           0       0.94      0.52      0.67        87\n",
      "           1       0.62      0.96      0.76        73\n",
      "\n",
      "    accuracy                           0.72       160\n",
      "   macro avg       0.78      0.74      0.71       160\n",
      "weighted avg       0.79      0.72      0.71       160\n",
      "\n"
     ]
    }
   ],
   "source": [
    "print(confusion_matrix(y_test_b, gb_pred))\n",
    "print(classification_report(y_test_b, gb_pred))"
   ]
  },
  {
   "cell_type": "markdown",
   "id": "fc7be61b",
   "metadata": {},
   "source": [
    "Accuracy Score is: 71.875      \n",
    "Cross Val Score is : 70.85301749950096     \n",
    "Model performance is good    "
   ]
  },
  {
   "cell_type": "markdown",
   "id": "e2ea9325",
   "metadata": {},
   "source": [
    "# Hyperparameter Tuning of the model"
   ]
  },
  {
   "cell_type": "code",
   "execution_count": 111,
   "id": "143185e5",
   "metadata": {},
   "outputs": [
    {
     "name": "stdout",
     "output_type": "stream",
     "text": [
      "{'criterion': 'entropy', 'max_depth': 25, 'max_features': 'log2', 'min_samples_split': 2, 'n_estimators': 400}\n"
     ]
    }
   ],
   "source": [
    "from sklearn.model_selection import GridSearchCV\n",
    "from sklearn.ensemble import RandomForestClassifier\n",
    "\n",
    "parameters={'n_estimators' : [100, 300,400, 500, 800, 1200], 'criterion':['gini', 'entropy'], 'max_features':['auto','sqrt', 'log2'], 'min_samples_split':[2, 5, 10, 15, 100],'max_depth':[5, 8, 15, 25, 30] }\n",
    "rf=RandomForestClassifier()\n",
    "rfclf=GridSearchCV(rf, param_grid=parameters, n_jobs=-1)\n",
    "rfclf.fit(x_train_b, y_train_b)\n",
    "print(rfclf.best_params_)"
   ]
  },
  {
   "cell_type": "code",
   "execution_count": 112,
   "id": "15f84a9f",
   "metadata": {},
   "outputs": [
    {
     "name": "stdout",
     "output_type": "stream",
     "text": [
      "accuracy_score:  80.625\n",
      "Cross val Score : 83.17918690531639\n"
     ]
    }
   ],
   "source": [
    "rf=RandomForestClassifier(criterion='gini',max_depth=25, max_features='auto', min_samples_split=2, n_estimators=500 )\n",
    "rf.fit(x_train_b, y_train_b)\n",
    "rf.score(x_train_b,y_train_b)\n",
    "rf_pred=rf.predict(x_test_b)\n",
    "\n",
    "rf_score= accuracy_score(y_test_b, rf_pred)\n",
    "print('accuracy_score: ', rf_score*100)\n",
    "\n",
    "rfcvscore=cross_val_score(rf,x,y, cv=7,scoring='accuracy')\n",
    "rfcv_score=rfcvscore.mean()\n",
    "print('Cross val Score :',rfcv_score*100 )"
   ]
  },
  {
   "cell_type": "code",
   "execution_count": 113,
   "id": "2b54a16d",
   "metadata": {},
   "outputs": [
    {
     "name": "stdout",
     "output_type": "stream",
     "text": [
      "{'criterion': 'entropy', 'max_features': 'log2', 'min_samples_leaf': 1, 'splitter': 'best'}\n"
     ]
    }
   ],
   "source": [
    "from sklearn.model_selection import GridSearchCV\n",
    "from sklearn.tree import DecisionTreeClassifier\n",
    "parameters= {'criterion':['gini', 'entropy'],'splitter':['best','random'],'max_features':['auto','sqrt','log2'], 'min_samples_leaf':list(range(0,5))}\n",
    "dt=DecisionTreeClassifier()\n",
    "dtclf=GridSearchCV(dt,param_grid=parameters, n_jobs=-1)\n",
    "dtclf.fit (x_train_b, y_train_b)\n",
    "print(dtclf.best_params_) "
   ]
  },
  {
   "cell_type": "code",
   "execution_count": 114,
   "id": "4da9a7af",
   "metadata": {},
   "outputs": [
    {
     "name": "stdout",
     "output_type": "stream",
     "text": [
      "accuracy_score 80.625\n",
      "Cross val score is: 73.62099940115775\n"
     ]
    }
   ],
   "source": [
    "dt=DecisionTreeClassifier(criterion='entropy', max_features='auto', splitter= 'best', min_samples_leaf=1)\n",
    "dt.fit(x_train_b,y_train_b)\n",
    "dt.score(x_train_b, y_train_b)\n",
    "dt_pred=dt.predict(x_test_b)\n",
    "\n",
    "dt_score= accuracy_score(y_test_b, dt_pred)\n",
    "print(\"accuracy_score\", dt_score*100)\n",
    "\n",
    "dt_cv=cross_val_score(dt,x,y,cv=7, scoring='accuracy')\n",
    "dtcv_score= dt_cv.mean()\n",
    "print(\"Cross val score is:\",dtcv_score*100 )"
   ]
  },
  {
   "cell_type": "code",
   "execution_count": 115,
   "id": "c2368534",
   "metadata": {},
   "outputs": [
    {
     "name": "stdout",
     "output_type": "stream",
     "text": [
      "{'algorithm': 'auto', 'leaf_size': 10, 'n_neighbors': 1, 'weights': 'uniform'}\n"
     ]
    }
   ],
   "source": [
    "from sklearn.neighbors import KNeighborsClassifier\n",
    "parameters={'n_neighbors':[1,3,4,5,7,9],'weights':['uniform', 'distance'], 'algorithm':['auto','ball_tree','kd_tree', 'brute'], 'leaf_size':[10,20,30,40,50]}\n",
    "kn=KNeighborsClassifier()\n",
    "knclf=GridSearchCV(kn,parameters)\n",
    "knclf.fit(x_train_b, y_train_b)\n",
    "print(knclf.best_params_)"
   ]
  },
  {
   "cell_type": "code",
   "execution_count": 116,
   "id": "a2369a64",
   "metadata": {},
   "outputs": [
    {
     "name": "stdout",
     "output_type": "stream",
     "text": [
      "accuracy_score: 78.75\n",
      "Cross val Score : 81.41592920353983\n"
     ]
    }
   ],
   "source": [
    "kn=KNeighborsClassifier(algorithm='auto',leaf_size=10,  n_neighbors=1, weights='uniform')\n",
    "kn.fit(x_train_b, y_train_b)\n",
    "kn.score(x_train_b,y_train_b)\n",
    "kn_pred=kn.predict(x_test_b)\n",
    "\n",
    "kn_score= accuracy_score(y_test_b, kn_pred)\n",
    "print('accuracy_score:', kn_score*100)\n",
    "\n",
    "kncvscore=cross_val_score(kn,x,y, cv=7, scoring='accuracy')\n",
    "kncv_score=kncvscore.mean()\n",
    "print('Cross val Score :',kncv_score*100 )"
   ]
  },
  {
   "cell_type": "code",
   "execution_count": 117,
   "id": "db8d2d4a",
   "metadata": {},
   "outputs": [
    {
     "name": "stdout",
     "output_type": "stream",
     "text": [
      "{'C': 2.5, 'decision_function_shape': 'ovo', 'gamma': 'auto', 'kernel': 'rbf', 'random_state': 0}\n"
     ]
    }
   ],
   "source": [
    "from sklearn.model_selection import GridSearchCV\n",
    "from sklearn.svm import SVC\n",
    "parameters= {'C':[0.1,1.0,1.5,2,2.5],'kernel':[ 'linear','poly', 'rbf', 'sigmoid'], 'random_state': list(range(0,5)), 'gamma':['scale', 'auto'],'decision_function_shape':['ovo', 'ovr']}\n",
    "svc=SVC()\n",
    "clf=GridSearchCV(svc, param_grid=parameters, n_jobs=-1)\n",
    "clf.fit(x_train_b, y_train_b)\n",
    "print(clf.best_params_)"
   ]
  },
  {
   "cell_type": "code",
   "execution_count": 118,
   "id": "dd74726e",
   "metadata": {},
   "outputs": [
    {
     "name": "stdout",
     "output_type": "stream",
     "text": [
      "Accuracy_core: 73.75\n",
      "Cross val Score : 74.24432292853345\n"
     ]
    }
   ],
   "source": [
    "scv=SVC(C=2.5,decision_function_shape='ovo', gamma='auto', kernel='rbf', random_state=0)\n",
    "svc.fit(x_train_b, y_train_b)\n",
    "svc.score(x_train_b, y_train_b)\n",
    "svc_pred=svc.predict(x_test_b)\n",
    "\n",
    "svc_d=accuracy_score(y_test_b, svc_pred)\n",
    "print('Accuracy_core:', svc_d*100)\n",
    "\n",
    "svc_cv= cross_val_score(svc,x,y,cv=6, scoring='accuracy')\n",
    "svc_score=svc_cv.mean()\n",
    "print('Cross val Score :', svc_score*100)"
   ]
  },
  {
   "cell_type": "markdown",
   "id": "1b1fd3a3",
   "metadata": {},
   "source": [
    "The SVC Model shows the best accuracy_score: 73.75 Cross val Score : 73.74 is our best model."
   ]
  },
  {
   "cell_type": "code",
   "execution_count": 119,
   "id": "4e94b7a1",
   "metadata": {},
   "outputs": [
    {
     "data": {
      "image/png": "[encoded data removed]",
      "text/plain": [
       "<Figure size 432x288 with 1 Axes>"
      ]
     },
     "metadata": {
      "needs_background": "light"
     },
     "output_type": "display_data"
    }
   ],
   "source": [
    "from sklearn.metrics import roc_curve, auc\n",
    "fpr, tpr, thresholds= roc_curve(svc_pred, y_test_b)\n",
    "roc_auc= auc(fpr, tpr)\n",
    "\n",
    "plt.figure()\n",
    "plt.plot(fpr,tpr, color='darkorange', lw=10,label='ROC curve (area= %0.2f)' %roc_auc)\n",
    "plt.plot([0,1],[0,1],color ='navy', lw=10, linestyle= '--')\n",
    "plt.xlim([0.0, 1.0])\n",
    "plt.xlim([0.0, 1.05])\n",
    "plt.xlabel('False Positive Rate')\n",
    "plt.ylabel('True Positive Rate')\n",
    "plt.title('Receiver operating characteristic')\n",
    "plt.legend(loc=\"lower right\")\n",
    "plt.show()"
   ]
  },
  {
   "cell_type": "code",
   "execution_count": 120,
   "id": "f5028c23",
   "metadata": {},
   "outputs": [],
   "source": [
    "import pickle\n",
    "filename=\"Evaluation_Project_Loan_Application_Status_Prediction.pkl \"\n",
    "pickle.dump(dt, open(filename,'wb'))"
   ]
  },
  {
   "cell_type": "code",
   "execution_count": 121,
   "id": "271d942c",
   "metadata": {},
   "outputs": [
    {
     "data": {
      "text/html": [
       "<div>\n",
       "<style scoped>\n",
       "    .dataframe tbody tr th:only-of-type {\n",
       "        vertical-align: middle;\n",
       "    }\n",
       "\n",
       "    .dataframe tbody tr th {\n",
       "        vertical-align: top;\n",
       "    }\n",
       "\n",
       "    .dataframe thead th {\n",
       "        text-align: right;\n",
       "    }\n",
       "</style>\n",
       "<table border=\"1\" class=\"dataframe\">\n",
       "  <thead>\n",
       "    <tr style=\"text-align: right;\">\n",
       "      <th></th>\n",
       "      <th>original</th>\n",
       "      <th>predicted</th>\n",
       "    </tr>\n",
       "  </thead>\n",
       "  <tbody>\n",
       "    <tr>\n",
       "      <th>0</th>\n",
       "      <td>0</td>\n",
       "      <td>0</td>\n",
       "    </tr>\n",
       "    <tr>\n",
       "      <th>1</th>\n",
       "      <td>1</td>\n",
       "      <td>0</td>\n",
       "    </tr>\n",
       "    <tr>\n",
       "      <th>2</th>\n",
       "      <td>0</td>\n",
       "      <td>0</td>\n",
       "    </tr>\n",
       "    <tr>\n",
       "      <th>3</th>\n",
       "      <td>1</td>\n",
       "      <td>1</td>\n",
       "    </tr>\n",
       "    <tr>\n",
       "      <th>4</th>\n",
       "      <td>1</td>\n",
       "      <td>1</td>\n",
       "    </tr>\n",
       "    <tr>\n",
       "      <th>...</th>\n",
       "      <td>...</td>\n",
       "      <td>...</td>\n",
       "    </tr>\n",
       "    <tr>\n",
       "      <th>155</th>\n",
       "      <td>1</td>\n",
       "      <td>1</td>\n",
       "    </tr>\n",
       "    <tr>\n",
       "      <th>156</th>\n",
       "      <td>0</td>\n",
       "      <td>0</td>\n",
       "    </tr>\n",
       "    <tr>\n",
       "      <th>157</th>\n",
       "      <td>0</td>\n",
       "      <td>0</td>\n",
       "    </tr>\n",
       "    <tr>\n",
       "      <th>158</th>\n",
       "      <td>0</td>\n",
       "      <td>1</td>\n",
       "    </tr>\n",
       "    <tr>\n",
       "      <th>159</th>\n",
       "      <td>0</td>\n",
       "      <td>0</td>\n",
       "    </tr>\n",
       "  </tbody>\n",
       "</table>\n",
       "<p>160 rows × 2 columns</p>\n",
       "</div>"
      ],
      "text/plain": [
       "     original  predicted\n",
       "0           0          0\n",
       "1           1          0\n",
       "2           0          0\n",
       "3           1          1\n",
       "4           1          1\n",
       "..        ...        ...\n",
       "155         1          1\n",
       "156         0          0\n",
       "157         0          0\n",
       "158         0          1\n",
       "159         0          0\n",
       "\n",
       "[160 rows x 2 columns]"
      ]
     },
     "execution_count": 121,
     "metadata": {},
     "output_type": "execute_result"
    }
   ],
   "source": [
    "import numpy as np\n",
    "a=np.array(y_test_b)\n",
    "predicted= np.array(svc.predict(x_test_b))\n",
    "df_com= pd.DataFrame({'original':a, 'predicted':predicted}, index= range(len(a)))\n",
    "df_com"
   ]
  },
  {
   "cell_type": "markdown",
   "id": "2e50a790",
   "metadata": {},
   "source": [
    "### At the end we can see the both Original and pridicted data"
   ]
  },
  {
   "cell_type": "code",
   "execution_count": null,
   "id": "991a0c51",
   "metadata": {},
   "outputs": [],
   "source": []
  }
 ],
 "metadata": {
  "kernelspec": {
   "display_name": "Python 3",
   "language": "python",
   "name": "python3"
  },
  "language_info": {
   "codemirror_mode": {
    "name": "ipython",
    "version": 3
   },
   "file_extension": ".py",
   "mimetype": "text/x-python",
   "name": "python",
   "nbconvert_exporter": "python",
   "pygments_lexer": "ipython3",
   "version": "3.8.8"
  }
 },
 "nbformat": 4,
 "nbformat_minor": 5
}
