{
 "cells": [
  {
   "cell_type": "markdown",
   "id": "8e17435e",
   "metadata": {},
   "source": [
    "## Aim : Based on the features, you have to predict if an arbitrary passenger on Titanic would survive the sinking or not."
   ]
  },
  {
   "cell_type": "markdown",
   "id": "bb653609",
   "metadata": {},
   "source": [
    "# Problem Statement:\n",
    "The Titanic Problem is based on the sinking of the ‘Unsinkable’ ship Titanic in early 1912. It gives you information about multiple people like their ages, sexes, sibling counts, embarkment points, and whether or not they survived the disaster. Based on these features, you have to predict if an arbitrary passenger on Titanic would survive the sinking or not."
   ]
  },
  {
   "cell_type": "markdown",
   "id": "f64e65c0",
   "metadata": {},
   "source": [
    "survival: Survival\n",
    "\n",
    "PassengerId: Unique Id of a passenger.\n",
    "\n",
    "pclass: Ticket class\n",
    "\n",
    "sex: Sex\n",
    "\n",
    "Age: Age in years\n",
    "\n",
    "sibsp: # of siblings / spouses aboard the Titanic\n",
    "\n",
    "parch: # of parents / children aboard the Titanic\n",
    "\n",
    "ticket: Ticket number\n",
    "\n",
    "fare: Passenger fare\n",
    "\n",
    "cabin: Cabin number\n",
    "\n",
    "embarked: Port of Embarkation"
   ]
  },
  {
   "cell_type": "markdown",
   "id": "5f9d6166",
   "metadata": {},
   "source": [
    "### Import all Required library"
   ]
  },
  {
   "cell_type": "code",
   "execution_count": 1,
   "id": "ebc124da",
   "metadata": {},
   "outputs": [],
   "source": [
    "import pandas as pd \n",
    "import numpy as np \n",
    "import seaborn as sns \n",
    "import matplotlib.pyplot as plt\n",
    "import warnings \n",
    "warnings.filterwarnings('ignore')"
   ]
  },
  {
   "cell_type": "markdown",
   "id": "0edb6dd8",
   "metadata": {},
   "source": [
    "### Import Titanic Dataset"
   ]
  },
  {
   "cell_type": "code",
   "execution_count": 2,
   "id": "dd1c5abe",
   "metadata": {},
   "outputs": [
    {
     "data": {
      "text/html": [
       "<div>\n",
       "<style scoped>\n",
       "    .dataframe tbody tr th:only-of-type {\n",
       "        vertical-align: middle;\n",
       "    }\n",
       "\n",
       "    .dataframe tbody tr th {\n",
       "        vertical-align: top;\n",
       "    }\n",
       "\n",
       "    .dataframe thead th {\n",
       "        text-align: right;\n",
       "    }\n",
       "</style>\n",
       "<table border=\"1\" class=\"dataframe\">\n",
       "  <thead>\n",
       "    <tr style=\"text-align: right;\">\n",
       "      <th></th>\n",
       "      <th>PassengerId</th>\n",
       "      <th>Survived</th>\n",
       "      <th>Pclass</th>\n",
       "      <th>Name</th>\n",
       "      <th>Sex</th>\n",
       "      <th>Age</th>\n",
       "      <th>SibSp</th>\n",
       "      <th>Parch</th>\n",
       "      <th>Ticket</th>\n",
       "      <th>Fare</th>\n",
       "      <th>Cabin</th>\n",
       "      <th>Embarked</th>\n",
       "    </tr>\n",
       "  </thead>\n",
       "  <tbody>\n",
       "    <tr>\n",
       "      <th>0</th>\n",
       "      <td>1</td>\n",
       "      <td>0</td>\n",
       "      <td>3</td>\n",
       "      <td>Braund, Mr. Owen Harris</td>\n",
       "      <td>male</td>\n",
       "      <td>22.0</td>\n",
       "      <td>1</td>\n",
       "      <td>0</td>\n",
       "      <td>A/5 21171</td>\n",
       "      <td>7.2500</td>\n",
       "      <td>NaN</td>\n",
       "      <td>S</td>\n",
       "    </tr>\n",
       "    <tr>\n",
       "      <th>1</th>\n",
       "      <td>2</td>\n",
       "      <td>1</td>\n",
       "      <td>1</td>\n",
       "      <td>Cumings, Mrs. John Bradley (Florence Briggs Th...</td>\n",
       "      <td>female</td>\n",
       "      <td>38.0</td>\n",
       "      <td>1</td>\n",
       "      <td>0</td>\n",
       "      <td>PC 17599</td>\n",
       "      <td>71.2833</td>\n",
       "      <td>C85</td>\n",
       "      <td>C</td>\n",
       "    </tr>\n",
       "    <tr>\n",
       "      <th>2</th>\n",
       "      <td>3</td>\n",
       "      <td>1</td>\n",
       "      <td>3</td>\n",
       "      <td>Heikkinen, Miss. Laina</td>\n",
       "      <td>female</td>\n",
       "      <td>26.0</td>\n",
       "      <td>0</td>\n",
       "      <td>0</td>\n",
       "      <td>STON/O2. 3101282</td>\n",
       "      <td>7.9250</td>\n",
       "      <td>NaN</td>\n",
       "      <td>S</td>\n",
       "    </tr>\n",
       "    <tr>\n",
       "      <th>3</th>\n",
       "      <td>4</td>\n",
       "      <td>1</td>\n",
       "      <td>1</td>\n",
       "      <td>Futrelle, Mrs. Jacques Heath (Lily May Peel)</td>\n",
       "      <td>female</td>\n",
       "      <td>35.0</td>\n",
       "      <td>1</td>\n",
       "      <td>0</td>\n",
       "      <td>113803</td>\n",
       "      <td>53.1000</td>\n",
       "      <td>C123</td>\n",
       "      <td>S</td>\n",
       "    </tr>\n",
       "    <tr>\n",
       "      <th>4</th>\n",
       "      <td>5</td>\n",
       "      <td>0</td>\n",
       "      <td>3</td>\n",
       "      <td>Allen, Mr. William Henry</td>\n",
       "      <td>male</td>\n",
       "      <td>35.0</td>\n",
       "      <td>0</td>\n",
       "      <td>0</td>\n",
       "      <td>373450</td>\n",
       "      <td>8.0500</td>\n",
       "      <td>NaN</td>\n",
       "      <td>S</td>\n",
       "    </tr>\n",
       "    <tr>\n",
       "      <th>...</th>\n",
       "      <td>...</td>\n",
       "      <td>...</td>\n",
       "      <td>...</td>\n",
       "      <td>...</td>\n",
       "      <td>...</td>\n",
       "      <td>...</td>\n",
       "      <td>...</td>\n",
       "      <td>...</td>\n",
       "      <td>...</td>\n",
       "      <td>...</td>\n",
       "      <td>...</td>\n",
       "      <td>...</td>\n",
       "    </tr>\n",
       "    <tr>\n",
       "      <th>886</th>\n",
       "      <td>887</td>\n",
       "      <td>0</td>\n",
       "      <td>2</td>\n",
       "      <td>Montvila, Rev. Juozas</td>\n",
       "      <td>male</td>\n",
       "      <td>27.0</td>\n",
       "      <td>0</td>\n",
       "      <td>0</td>\n",
       "      <td>211536</td>\n",
       "      <td>13.0000</td>\n",
       "      <td>NaN</td>\n",
       "      <td>S</td>\n",
       "    </tr>\n",
       "    <tr>\n",
       "      <th>887</th>\n",
       "      <td>888</td>\n",
       "      <td>1</td>\n",
       "      <td>1</td>\n",
       "      <td>Graham, Miss. Margaret Edith</td>\n",
       "      <td>female</td>\n",
       "      <td>19.0</td>\n",
       "      <td>0</td>\n",
       "      <td>0</td>\n",
       "      <td>112053</td>\n",
       "      <td>30.0000</td>\n",
       "      <td>B42</td>\n",
       "      <td>S</td>\n",
       "    </tr>\n",
       "    <tr>\n",
       "      <th>888</th>\n",
       "      <td>889</td>\n",
       "      <td>0</td>\n",
       "      <td>3</td>\n",
       "      <td>Johnston, Miss. Catherine Helen \"Carrie\"</td>\n",
       "      <td>female</td>\n",
       "      <td>NaN</td>\n",
       "      <td>1</td>\n",
       "      <td>2</td>\n",
       "      <td>W./C. 6607</td>\n",
       "      <td>23.4500</td>\n",
       "      <td>NaN</td>\n",
       "      <td>S</td>\n",
       "    </tr>\n",
       "    <tr>\n",
       "      <th>889</th>\n",
       "      <td>890</td>\n",
       "      <td>1</td>\n",
       "      <td>1</td>\n",
       "      <td>Behr, Mr. Karl Howell</td>\n",
       "      <td>male</td>\n",
       "      <td>26.0</td>\n",
       "      <td>0</td>\n",
       "      <td>0</td>\n",
       "      <td>111369</td>\n",
       "      <td>30.0000</td>\n",
       "      <td>C148</td>\n",
       "      <td>C</td>\n",
       "    </tr>\n",
       "    <tr>\n",
       "      <th>890</th>\n",
       "      <td>891</td>\n",
       "      <td>0</td>\n",
       "      <td>3</td>\n",
       "      <td>Dooley, Mr. Patrick</td>\n",
       "      <td>male</td>\n",
       "      <td>32.0</td>\n",
       "      <td>0</td>\n",
       "      <td>0</td>\n",
       "      <td>370376</td>\n",
       "      <td>7.7500</td>\n",
       "      <td>NaN</td>\n",
       "      <td>Q</td>\n",
       "    </tr>\n",
       "  </tbody>\n",
       "</table>\n",
       "<p>891 rows × 12 columns</p>\n",
       "</div>"
      ],
      "text/plain": [
       "     PassengerId  Survived  Pclass  \\\n",
       "0              1         0       3   \n",
       "1              2         1       1   \n",
       "2              3         1       3   \n",
       "3              4         1       1   \n",
       "4              5         0       3   \n",
       "..           ...       ...     ...   \n",
       "886          887         0       2   \n",
       "887          888         1       1   \n",
       "888          889         0       3   \n",
       "889          890         1       1   \n",
       "890          891         0       3   \n",
       "\n",
       "                                                  Name     Sex   Age  SibSp  \\\n",
       "0                              Braund, Mr. Owen Harris    male  22.0      1   \n",
       "1    Cumings, Mrs. John Bradley (Florence Briggs Th...  female  38.0      1   \n",
       "2                               Heikkinen, Miss. Laina  female  26.0      0   \n",
       "3         Futrelle, Mrs. Jacques Heath (Lily May Peel)  female  35.0      1   \n",
       "4                             Allen, Mr. William Henry    male  35.0      0   \n",
       "..                                                 ...     ...   ...    ...   \n",
       "886                              Montvila, Rev. Juozas    male  27.0      0   \n",
       "887                       Graham, Miss. Margaret Edith  female  19.0      0   \n",
       "888           Johnston, Miss. Catherine Helen \"Carrie\"  female   NaN      1   \n",
       "889                              Behr, Mr. Karl Howell    male  26.0      0   \n",
       "890                                Dooley, Mr. Patrick    male  32.0      0   \n",
       "\n",
       "     Parch            Ticket     Fare Cabin Embarked  \n",
       "0        0         A/5 21171   7.2500   NaN        S  \n",
       "1        0          PC 17599  71.2833   C85        C  \n",
       "2        0  STON/O2. 3101282   7.9250   NaN        S  \n",
       "3        0            113803  53.1000  C123        S  \n",
       "4        0            373450   8.0500   NaN        S  \n",
       "..     ...               ...      ...   ...      ...  \n",
       "886      0            211536  13.0000   NaN        S  \n",
       "887      0            112053  30.0000   B42        S  \n",
       "888      2        W./C. 6607  23.4500   NaN        S  \n",
       "889      0            111369  30.0000  C148        C  \n",
       "890      0            370376   7.7500   NaN        Q  \n",
       "\n",
       "[891 rows x 12 columns]"
      ]
     },
     "execution_count": 2,
     "metadata": {},
     "output_type": "execute_result"
    }
   ],
   "source": [
    "data=pd.read_csv('titanic_train.csv')\n",
    "data"
   ]
  },
  {
   "cell_type": "code",
   "execution_count": 3,
   "id": "6d4d7537",
   "metadata": {},
   "outputs": [
    {
     "data": {
      "text/plain": [
       "(891, 12)"
      ]
     },
     "execution_count": 3,
     "metadata": {},
     "output_type": "execute_result"
    }
   ],
   "source": [
    "data.shape"
   ]
  },
  {
   "cell_type": "code",
   "execution_count": 4,
   "id": "dc9e0533",
   "metadata": {},
   "outputs": [
    {
     "data": {
      "text/plain": [
       "Index(['PassengerId', 'Survived', 'Pclass', 'Name', 'Sex', 'Age', 'SibSp',\n",
       "       'Parch', 'Ticket', 'Fare', 'Cabin', 'Embarked'],\n",
       "      dtype='object')"
      ]
     },
     "execution_count": 4,
     "metadata": {},
     "output_type": "execute_result"
    }
   ],
   "source": [
    "data.columns"
   ]
  },
  {
   "cell_type": "code",
   "execution_count": 5,
   "id": "a3dc598e",
   "metadata": {},
   "outputs": [
    {
     "name": "stdout",
     "output_type": "stream",
     "text": [
      "<class 'pandas.core.frame.DataFrame'>\n",
      "RangeIndex: 891 entries, 0 to 890\n",
      "Data columns (total 12 columns):\n",
      " #   Column       Non-Null Count  Dtype  \n",
      "---  ------       --------------  -----  \n",
      " 0   PassengerId  891 non-null    int64  \n",
      " 1   Survived     891 non-null    int64  \n",
      " 2   Pclass       891 non-null    int64  \n",
      " 3   Name         891 non-null    object \n",
      " 4   Sex          891 non-null    object \n",
      " 5   Age          714 non-null    float64\n",
      " 6   SibSp        891 non-null    int64  \n",
      " 7   Parch        891 non-null    int64  \n",
      " 8   Ticket       891 non-null    object \n",
      " 9   Fare         891 non-null    float64\n",
      " 10  Cabin        204 non-null    object \n",
      " 11  Embarked     889 non-null    object \n",
      "dtypes: float64(2), int64(5), object(5)\n",
      "memory usage: 83.7+ KB\n"
     ]
    }
   ],
   "source": [
    "data.info ()"
   ]
  },
  {
   "cell_type": "markdown",
   "id": "1f39cab1",
   "metadata": {},
   "source": [
    "Data is having 2 features float type , 5 features integer type and 5 features object type.\n",
    "\n",
    "Features: 'PassengerId', 'Pclass', 'Name', 'Sex', 'Age', 'SibSp', 'Parch', 'Ticket', 'Fare', 'Cabin', 'Embarked'"
   ]
  },
  {
   "cell_type": "code",
   "execution_count": 6,
   "id": "1d1c8fb4",
   "metadata": {},
   "outputs": [
    {
     "data": {
      "text/html": [
       "<div>\n",
       "<style scoped>\n",
       "    .dataframe tbody tr th:only-of-type {\n",
       "        vertical-align: middle;\n",
       "    }\n",
       "\n",
       "    .dataframe tbody tr th {\n",
       "        vertical-align: top;\n",
       "    }\n",
       "\n",
       "    .dataframe thead th {\n",
       "        text-align: right;\n",
       "    }\n",
       "</style>\n",
       "<table border=\"1\" class=\"dataframe\">\n",
       "  <thead>\n",
       "    <tr style=\"text-align: right;\">\n",
       "      <th></th>\n",
       "      <th>PassengerId</th>\n",
       "      <th>Survived</th>\n",
       "      <th>Pclass</th>\n",
       "      <th>Name</th>\n",
       "      <th>Sex</th>\n",
       "      <th>Age</th>\n",
       "      <th>SibSp</th>\n",
       "      <th>Parch</th>\n",
       "      <th>Ticket</th>\n",
       "      <th>Fare</th>\n",
       "      <th>Cabin</th>\n",
       "      <th>Embarked</th>\n",
       "    </tr>\n",
       "  </thead>\n",
       "  <tbody>\n",
       "    <tr>\n",
       "      <th>0</th>\n",
       "      <td>1</td>\n",
       "      <td>0</td>\n",
       "      <td>3</td>\n",
       "      <td>Braund, Mr. Owen Harris</td>\n",
       "      <td>male</td>\n",
       "      <td>22.0</td>\n",
       "      <td>1</td>\n",
       "      <td>0</td>\n",
       "      <td>A/5 21171</td>\n",
       "      <td>7.2500</td>\n",
       "      <td>NaN</td>\n",
       "      <td>S</td>\n",
       "    </tr>\n",
       "    <tr>\n",
       "      <th>1</th>\n",
       "      <td>2</td>\n",
       "      <td>1</td>\n",
       "      <td>1</td>\n",
       "      <td>Cumings, Mrs. John Bradley (Florence Briggs Th...</td>\n",
       "      <td>female</td>\n",
       "      <td>38.0</td>\n",
       "      <td>1</td>\n",
       "      <td>0</td>\n",
       "      <td>PC 17599</td>\n",
       "      <td>71.2833</td>\n",
       "      <td>C85</td>\n",
       "      <td>C</td>\n",
       "    </tr>\n",
       "    <tr>\n",
       "      <th>2</th>\n",
       "      <td>3</td>\n",
       "      <td>1</td>\n",
       "      <td>3</td>\n",
       "      <td>Heikkinen, Miss. Laina</td>\n",
       "      <td>female</td>\n",
       "      <td>26.0</td>\n",
       "      <td>0</td>\n",
       "      <td>0</td>\n",
       "      <td>STON/O2. 3101282</td>\n",
       "      <td>7.9250</td>\n",
       "      <td>NaN</td>\n",
       "      <td>S</td>\n",
       "    </tr>\n",
       "    <tr>\n",
       "      <th>3</th>\n",
       "      <td>4</td>\n",
       "      <td>1</td>\n",
       "      <td>1</td>\n",
       "      <td>Futrelle, Mrs. Jacques Heath (Lily May Peel)</td>\n",
       "      <td>female</td>\n",
       "      <td>35.0</td>\n",
       "      <td>1</td>\n",
       "      <td>0</td>\n",
       "      <td>113803</td>\n",
       "      <td>53.1000</td>\n",
       "      <td>C123</td>\n",
       "      <td>S</td>\n",
       "    </tr>\n",
       "    <tr>\n",
       "      <th>4</th>\n",
       "      <td>5</td>\n",
       "      <td>0</td>\n",
       "      <td>3</td>\n",
       "      <td>Allen, Mr. William Henry</td>\n",
       "      <td>male</td>\n",
       "      <td>35.0</td>\n",
       "      <td>0</td>\n",
       "      <td>0</td>\n",
       "      <td>373450</td>\n",
       "      <td>8.0500</td>\n",
       "      <td>NaN</td>\n",
       "      <td>S</td>\n",
       "    </tr>\n",
       "  </tbody>\n",
       "</table>\n",
       "</div>"
      ],
      "text/plain": [
       "   PassengerId  Survived  Pclass  \\\n",
       "0            1         0       3   \n",
       "1            2         1       1   \n",
       "2            3         1       3   \n",
       "3            4         1       1   \n",
       "4            5         0       3   \n",
       "\n",
       "                                                Name     Sex   Age  SibSp  \\\n",
       "0                            Braund, Mr. Owen Harris    male  22.0      1   \n",
       "1  Cumings, Mrs. John Bradley (Florence Briggs Th...  female  38.0      1   \n",
       "2                             Heikkinen, Miss. Laina  female  26.0      0   \n",
       "3       Futrelle, Mrs. Jacques Heath (Lily May Peel)  female  35.0      1   \n",
       "4                           Allen, Mr. William Henry    male  35.0      0   \n",
       "\n",
       "   Parch            Ticket     Fare Cabin Embarked  \n",
       "0      0         A/5 21171   7.2500   NaN        S  \n",
       "1      0          PC 17599  71.2833   C85        C  \n",
       "2      0  STON/O2. 3101282   7.9250   NaN        S  \n",
       "3      0            113803  53.1000  C123        S  \n",
       "4      0            373450   8.0500   NaN        S  "
      ]
     },
     "execution_count": 6,
     "metadata": {},
     "output_type": "execute_result"
    }
   ],
   "source": [
    "data.head()"
   ]
  },
  {
   "cell_type": "markdown",
   "id": "8f30698d",
   "metadata": {},
   "source": [
    "we are seeing that most of the data need to be converted into numeric form. Data also having Nan values present, which we will remove later on. Data also having having a wide range which need to be treated using scaling techniques."
   ]
  },
  {
   "cell_type": "code",
   "execution_count": 7,
   "id": "87742df0",
   "metadata": {},
   "outputs": [
    {
     "data": {
      "text/plain": [
       "PassengerId      0\n",
       "Survived         0\n",
       "Pclass           0\n",
       "Name             0\n",
       "Sex              0\n",
       "Age            177\n",
       "SibSp            0\n",
       "Parch            0\n",
       "Ticket           0\n",
       "Fare             0\n",
       "Cabin          687\n",
       "Embarked         2\n",
       "dtype: int64"
      ]
     },
     "execution_count": 7,
     "metadata": {},
     "output_type": "execute_result"
    }
   ],
   "source": [
    "data.isnull().sum()"
   ]
  },
  {
   "cell_type": "markdown",
   "id": "ad37c2ae",
   "metadata": {},
   "source": [
    "We are seeing data is having Null values.\n",
    "\n",
    "For age = 177 missing values\n",
    "\n",
    "For Cabin= 687 missing values\n",
    "\n",
    "For Embarked= 2 missing values"
   ]
  },
  {
   "cell_type": "code",
   "execution_count": 8,
   "id": "205e7b72",
   "metadata": {},
   "outputs": [
    {
     "data": {
      "text/plain": [
       "<AxesSubplot:>"
      ]
     },
     "execution_count": 8,
     "metadata": {},
     "output_type": "execute_result"
    },
    {
     "data": {
      "image/png": "[encoded data removed]",
      "text/plain": [
       "<Figure size 432x288 with 2 Axes>"
      ]
     },
     "metadata": {
      "needs_background": "light"
     },
     "output_type": "display_data"
    }
   ],
   "source": [
    "sns.heatmap(data.isnull())"
   ]
  },
  {
   "cell_type": "code",
   "execution_count": 9,
   "id": "354e8a25",
   "metadata": {},
   "outputs": [
    {
     "data": {
      "text/plain": [
       "0    549\n",
       "1    342\n",
       "Name: Survived, dtype: int64"
      ]
     },
     "execution_count": 9,
     "metadata": {},
     "output_type": "execute_result"
    }
   ],
   "source": [
    "data['Survived'].value_counts()"
   ]
  },
  {
   "cell_type": "code",
   "execution_count": 10,
   "id": "589a0f70",
   "metadata": {},
   "outputs": [
    {
     "data": {
      "text/plain": [
       "<AxesSubplot:xlabel='Survived', ylabel='count'>"
      ]
     },
     "execution_count": 10,
     "metadata": {},
     "output_type": "execute_result"
    },
    {
     "data": {
      "image/png": "[encoded data removed]",
      "text/plain": [
       "<Figure size 432x288 with 1 Axes>"
      ]
     },
     "metadata": {
      "needs_background": "light"
     },
     "output_type": "display_data"
    }
   ],
   "source": [
    "sns.countplot(x='Survived', data= data,palette = \"Set1\")"
   ]
  },
  {
   "cell_type": "markdown",
   "id": "b43cab93",
   "metadata": {},
   "source": [
    "Here we can see that 38% of the passenger survived on Titanic."
   ]
  },
  {
   "cell_type": "code",
   "execution_count": 11,
   "id": "ecef7193",
   "metadata": {},
   "outputs": [
    {
     "data": {
      "text/plain": [
       "male      577\n",
       "female    314\n",
       "Name: Sex, dtype: int64"
      ]
     },
     "execution_count": 11,
     "metadata": {},
     "output_type": "execute_result"
    }
   ],
   "source": [
    "data['Sex'].value_counts()"
   ]
  },
  {
   "cell_type": "code",
   "execution_count": 12,
   "id": "9456e367",
   "metadata": {},
   "outputs": [
    {
     "data": {
      "text/plain": [
       "<AxesSubplot:xlabel='Sex', ylabel='count'>"
      ]
     },
     "execution_count": 12,
     "metadata": {},
     "output_type": "execute_result"
    },
    {
     "data": {
      "image/png": "[encoded data removed]",
      "text/plain": [
       "<Figure size 432x288 with 1 Axes>"
      ]
     },
     "metadata": {
      "needs_background": "light"
     },
     "output_type": "display_data"
    }
   ],
   "source": [
    "sns.countplot(x='Sex', hue='Survived', data= data, palette = \"Set1\")"
   ]
  },
  {
   "cell_type": "markdown",
   "id": "642a8566",
   "metadata": {},
   "source": [
    "We can see 66 percent of passanger were male.\n",
    "\n",
    "Here we can see the number of female survived more than the male passenger.\n",
    "\n",
    "Lets check the Pclass colums with respect to Survived."
   ]
  },
  {
   "cell_type": "code",
   "execution_count": 13,
   "id": "a799aa62",
   "metadata": {},
   "outputs": [
    {
     "data": {
      "text/plain": [
       "<AxesSubplot:xlabel='Pclass', ylabel='count'>"
      ]
     },
     "execution_count": 13,
     "metadata": {},
     "output_type": "execute_result"
    },
    {
     "data": {
      "image/png": "[encoded data removed]",
      "text/plain": [
       "<Figure size 432x288 with 1 Axes>"
      ]
     },
     "metadata": {
      "needs_background": "light"
     },
     "output_type": "display_data"
    }
   ],
   "source": [
    "sns.countplot(x='Pclass', hue='Survived', data= data, palette = \"Set1\")"
   ]
  },
  {
   "cell_type": "code",
   "execution_count": 14,
   "id": "bcf0ccab",
   "metadata": {},
   "outputs": [
    {
     "data": {
      "text/plain": [
       "<seaborn.axisgrid.FacetGrid at 0x2567dd78160>"
      ]
     },
     "execution_count": 14,
     "metadata": {},
     "output_type": "execute_result"
    },
    {
     "data": {
      "image/png": "[encoded data removed]",
      "text/plain": [
       "<Figure size 1440x360 with 3 Axes>"
      ]
     },
     "metadata": {
      "needs_background": "light"
     },
     "output_type": "display_data"
    }
   ],
   "source": [
    "sns.catplot(x=\"Survived\", col=\"Pclass\", col_wrap=4,data=data, kind=\"count\",palette = \"Set1\")"
   ]
  },
  {
   "cell_type": "code",
   "execution_count": 15,
   "id": "51982f3e",
   "metadata": {},
   "outputs": [
    {
     "data": {
      "text/plain": [
       "<AxesSubplot:xlabel='Pclass', ylabel='Survived'>"
      ]
     },
     "execution_count": 15,
     "metadata": {},
     "output_type": "execute_result"
    },
    {
     "data": {
      "image/png": "[encoded data removed]",
      "text/plain": [
       "<Figure size 432x288 with 1 Axes>"
      ]
     },
     "metadata": {
      "needs_background": "light"
     },
     "output_type": "display_data"
    }
   ],
   "source": [
    "sns.barplot(x='Pclass', y='Survived', data=data)"
   ]
  },
  {
   "cell_type": "markdown",
   "id": "6f68ac98",
   "metadata": {},
   "source": [
    "Here we can see Pclass playing a big role in determing survived case.\n",
    "\n",
    "Pasanger in Pclass=1 sutvived more than the other calss.\n",
    "\n",
    "For Pclass= 2 the diffrence is less.\n",
    "\n",
    "For Pcalss=3 survived is less as compared to not Survived.\n",
    "\n",
    "Lets talk about the Age column."
   ]
  },
  {
   "cell_type": "code",
   "execution_count": 16,
   "id": "a6c71f47",
   "metadata": {},
   "outputs": [
    {
     "data": {
      "text/plain": [
       "<AxesSubplot:xlabel='Age', ylabel='Count'>"
      ]
     },
     "execution_count": 16,
     "metadata": {},
     "output_type": "execute_result"
    },
    {
     "data": {
      "image/png": "[encoded data removed]",
      "text/plain": [
       "<Figure size 432x288 with 1 Axes>"
      ]
     },
     "metadata": {
      "needs_background": "light"
     },
     "output_type": "display_data"
    }
   ],
   "source": [
    "sns.histplot(x=\"Age\",hue='Survived' ,data=data, multiple=\"stack\")   "
   ]
  },
  {
   "cell_type": "markdown",
   "id": "d6496d03",
   "metadata": {},
   "source": [
    "Here we can see age group (15-40) having high strength in the data. The number of Survived and Not Survived is almost same for these age group. and the data is ditributed between 0.4 to 80 age group."
   ]
  },
  {
   "cell_type": "code",
   "execution_count": 17,
   "id": "5a64ee11",
   "metadata": {},
   "outputs": [
    {
     "data": {
      "text/plain": [
       "<AxesSubplot:xlabel='Embarked', ylabel='count'>"
      ]
     },
     "execution_count": 17,
     "metadata": {},
     "output_type": "execute_result"
    },
    {
     "data": {
      "image/png": "[encoded data removed]",
      "text/plain": [
       "<Figure size 432x288 with 1 Axes>"
      ]
     },
     "metadata": {
      "needs_background": "light"
     },
     "output_type": "display_data"
    }
   ],
   "source": [
    "sns.countplot(x='Embarked',data= data)"
   ]
  },
  {
   "cell_type": "markdown",
   "id": "005aec0e",
   "metadata": {},
   "source": [
    "Embarked implies wher the pasaanger mounted from.\n",
    "\n",
    "Here S= Southampton, C= Cherbourg and Q= Queenstown.\n",
    "\n",
    "Most of the pepole boarded from Southampton.\n",
    "\n",
    "Lets see the survived relationship with Embarked."
   ]
  },
  {
   "cell_type": "code",
   "execution_count": 18,
   "id": "f0bad5e7",
   "metadata": {},
   "outputs": [
    {
     "data": {
      "text/plain": [
       "<AxesSubplot:xlabel='Embarked', ylabel='count'>"
      ]
     },
     "execution_count": 18,
     "metadata": {},
     "output_type": "execute_result"
    },
    {
     "data": {
      "image/png": "[encoded data removed]",
      "text/plain": [
       "<Figure size 432x288 with 1 Axes>"
      ]
     },
     "metadata": {
      "needs_background": "light"
     },
     "output_type": "display_data"
    }
   ],
   "source": [
    "sns.countplot(x=\"Embarked\", hue=\"Survived\", data=data,palette = \"Set1\")   "
   ]
  },
  {
   "cell_type": "markdown",
   "id": "78236964",
   "metadata": {},
   "source": [
    "If passanger board at Southampton are not likely to survive, according to Embarked data.\n",
    "\n",
    "Lets check the SibSp column. Which indicates Number of Sibling and spouse."
   ]
  },
  {
   "cell_type": "code",
   "execution_count": 19,
   "id": "73f0b185",
   "metadata": {},
   "outputs": [
    {
     "data": {
      "text/plain": [
       "0    608\n",
       "1    209\n",
       "2     28\n",
       "4     18\n",
       "3     16\n",
       "8      7\n",
       "5      5\n",
       "Name: SibSp, dtype: int64"
      ]
     },
     "execution_count": 19,
     "metadata": {},
     "output_type": "execute_result"
    }
   ],
   "source": [
    "data['SibSp'].value_counts()"
   ]
  },
  {
   "cell_type": "code",
   "execution_count": 20,
   "id": "62c3ec52",
   "metadata": {},
   "outputs": [
    {
     "data": {
      "text/plain": [
       "<AxesSubplot:xlabel='SibSp', ylabel='count'>"
      ]
     },
     "execution_count": 20,
     "metadata": {},
     "output_type": "execute_result"
    },
    {
     "data": {
      "image/png": "[encoded data removed]",
      "text/plain": [
       "<Figure size 432x288 with 1 Axes>"
      ]
     },
     "metadata": {
      "needs_background": "light"
     },
     "output_type": "display_data"
    }
   ],
   "source": [
    "sns.countplot(x='SibSp', data= data)"
   ]
  },
  {
   "cell_type": "markdown",
   "id": "28cac345",
   "metadata": {},
   "source": [
    "We can see 68 percent passanger traveled without any sibling or spous and rest of the passanger were there with their spous or siblings."
   ]
  },
  {
   "cell_type": "code",
   "execution_count": 21,
   "id": "a4806f48",
   "metadata": {},
   "outputs": [
    {
     "data": {
      "text/plain": [
       "<AxesSubplot:xlabel='SibSp', ylabel='count'>"
      ]
     },
     "execution_count": 21,
     "metadata": {},
     "output_type": "execute_result"
    },
    {
     "data": {
      "image/png": "[encoded data removed]",
      "text/plain": [
       "<Figure size 432x288 with 1 Axes>"
      ]
     },
     "metadata": {
      "needs_background": "light"
     },
     "output_type": "display_data"
    }
   ],
   "source": [
    "sns.countplot(x=\"SibSp\", hue=\"Survived\", data=data,palette = \"Set1\")    "
   ]
  },
  {
   "cell_type": "markdown",
   "id": "7a4dd070",
   "metadata": {},
   "source": [
    "Passangers with no siblings or spouse are more likely to not Survived.\n",
    "\n",
    "Lets Visualise Parch columns. which indicates Parents and children."
   ]
  },
  {
   "cell_type": "code",
   "execution_count": 22,
   "id": "1c661a77",
   "metadata": {},
   "outputs": [
    {
     "data": {
      "text/plain": [
       "0    678\n",
       "1    118\n",
       "2     80\n",
       "3      5\n",
       "5      5\n",
       "4      4\n",
       "6      1\n",
       "Name: Parch, dtype: int64"
      ]
     },
     "execution_count": 22,
     "metadata": {},
     "output_type": "execute_result"
    }
   ],
   "source": [
    "data['Parch'].value_counts()"
   ]
  },
  {
   "cell_type": "code",
   "execution_count": 23,
   "id": "159ed72e",
   "metadata": {},
   "outputs": [
    {
     "data": {
      "text/plain": [
       "<AxesSubplot:xlabel='Parch', ylabel='count'>"
      ]
     },
     "execution_count": 23,
     "metadata": {},
     "output_type": "execute_result"
    },
    {
     "data": {
      "image/png": "[encoded data removed]",
      "text/plain": [
       "<Figure size 432x288 with 1 Axes>"
      ]
     },
     "metadata": {
      "needs_background": "light"
     },
     "output_type": "display_data"
    }
   ],
   "source": [
    "sns.countplot(x=\"Parch\",hue=\"Survived\", data=data,palette = \"Set1\") "
   ]
  },
  {
   "cell_type": "markdown",
   "id": "c8838465",
   "metadata": {},
   "source": [
    "Passangers without parents and chilren are more likely to not Survived."
   ]
  },
  {
   "cell_type": "markdown",
   "id": "8dee4308",
   "metadata": {},
   "source": [
    "### Data cleaning and Data Preprocessing"
   ]
  },
  {
   "cell_type": "markdown",
   "id": "7ac5c947",
   "metadata": {},
   "source": [
    "After analysis, we came to conclusion our Pclass, Sex, Age, SibSp, Parch, Fare and Embarked having relation with target column(Survived). On the oher hand PassengerId,Name,Ticket have no relevent relation with the Target Column.\n",
    "\n",
    "So we can drop the PassengerId,Name and Ticket column.\n",
    "\n",
    "Cabin is having lots of missing value, Insted of filling we will drop this column."
   ]
  },
  {
   "cell_type": "code",
   "execution_count": 24,
   "id": "96b33c34",
   "metadata": {},
   "outputs": [],
   "source": [
    "data.drop(['PassengerId','Name','Cabin','Ticket'], axis= 1, inplace = True)"
   ]
  },
  {
   "cell_type": "code",
   "execution_count": 25,
   "id": "b2abd287",
   "metadata": {},
   "outputs": [
    {
     "data": {
      "text/html": [
       "<div>\n",
       "<style scoped>\n",
       "    .dataframe tbody tr th:only-of-type {\n",
       "        vertical-align: middle;\n",
       "    }\n",
       "\n",
       "    .dataframe tbody tr th {\n",
       "        vertical-align: top;\n",
       "    }\n",
       "\n",
       "    .dataframe thead th {\n",
       "        text-align: right;\n",
       "    }\n",
       "</style>\n",
       "<table border=\"1\" class=\"dataframe\">\n",
       "  <thead>\n",
       "    <tr style=\"text-align: right;\">\n",
       "      <th></th>\n",
       "      <th>Survived</th>\n",
       "      <th>Pclass</th>\n",
       "      <th>Sex</th>\n",
       "      <th>Age</th>\n",
       "      <th>SibSp</th>\n",
       "      <th>Parch</th>\n",
       "      <th>Fare</th>\n",
       "      <th>Embarked</th>\n",
       "    </tr>\n",
       "  </thead>\n",
       "  <tbody>\n",
       "    <tr>\n",
       "      <th>0</th>\n",
       "      <td>0</td>\n",
       "      <td>3</td>\n",
       "      <td>male</td>\n",
       "      <td>22.0</td>\n",
       "      <td>1</td>\n",
       "      <td>0</td>\n",
       "      <td>7.2500</td>\n",
       "      <td>S</td>\n",
       "    </tr>\n",
       "    <tr>\n",
       "      <th>1</th>\n",
       "      <td>1</td>\n",
       "      <td>1</td>\n",
       "      <td>female</td>\n",
       "      <td>38.0</td>\n",
       "      <td>1</td>\n",
       "      <td>0</td>\n",
       "      <td>71.2833</td>\n",
       "      <td>C</td>\n",
       "    </tr>\n",
       "    <tr>\n",
       "      <th>2</th>\n",
       "      <td>1</td>\n",
       "      <td>3</td>\n",
       "      <td>female</td>\n",
       "      <td>26.0</td>\n",
       "      <td>0</td>\n",
       "      <td>0</td>\n",
       "      <td>7.9250</td>\n",
       "      <td>S</td>\n",
       "    </tr>\n",
       "    <tr>\n",
       "      <th>3</th>\n",
       "      <td>1</td>\n",
       "      <td>1</td>\n",
       "      <td>female</td>\n",
       "      <td>35.0</td>\n",
       "      <td>1</td>\n",
       "      <td>0</td>\n",
       "      <td>53.1000</td>\n",
       "      <td>S</td>\n",
       "    </tr>\n",
       "    <tr>\n",
       "      <th>4</th>\n",
       "      <td>0</td>\n",
       "      <td>3</td>\n",
       "      <td>male</td>\n",
       "      <td>35.0</td>\n",
       "      <td>0</td>\n",
       "      <td>0</td>\n",
       "      <td>8.0500</td>\n",
       "      <td>S</td>\n",
       "    </tr>\n",
       "    <tr>\n",
       "      <th>...</th>\n",
       "      <td>...</td>\n",
       "      <td>...</td>\n",
       "      <td>...</td>\n",
       "      <td>...</td>\n",
       "      <td>...</td>\n",
       "      <td>...</td>\n",
       "      <td>...</td>\n",
       "      <td>...</td>\n",
       "    </tr>\n",
       "    <tr>\n",
       "      <th>886</th>\n",
       "      <td>0</td>\n",
       "      <td>2</td>\n",
       "      <td>male</td>\n",
       "      <td>27.0</td>\n",
       "      <td>0</td>\n",
       "      <td>0</td>\n",
       "      <td>13.0000</td>\n",
       "      <td>S</td>\n",
       "    </tr>\n",
       "    <tr>\n",
       "      <th>887</th>\n",
       "      <td>1</td>\n",
       "      <td>1</td>\n",
       "      <td>female</td>\n",
       "      <td>19.0</td>\n",
       "      <td>0</td>\n",
       "      <td>0</td>\n",
       "      <td>30.0000</td>\n",
       "      <td>S</td>\n",
       "    </tr>\n",
       "    <tr>\n",
       "      <th>888</th>\n",
       "      <td>0</td>\n",
       "      <td>3</td>\n",
       "      <td>female</td>\n",
       "      <td>NaN</td>\n",
       "      <td>1</td>\n",
       "      <td>2</td>\n",
       "      <td>23.4500</td>\n",
       "      <td>S</td>\n",
       "    </tr>\n",
       "    <tr>\n",
       "      <th>889</th>\n",
       "      <td>1</td>\n",
       "      <td>1</td>\n",
       "      <td>male</td>\n",
       "      <td>26.0</td>\n",
       "      <td>0</td>\n",
       "      <td>0</td>\n",
       "      <td>30.0000</td>\n",
       "      <td>C</td>\n",
       "    </tr>\n",
       "    <tr>\n",
       "      <th>890</th>\n",
       "      <td>0</td>\n",
       "      <td>3</td>\n",
       "      <td>male</td>\n",
       "      <td>32.0</td>\n",
       "      <td>0</td>\n",
       "      <td>0</td>\n",
       "      <td>7.7500</td>\n",
       "      <td>Q</td>\n",
       "    </tr>\n",
       "  </tbody>\n",
       "</table>\n",
       "<p>891 rows × 8 columns</p>\n",
       "</div>"
      ],
      "text/plain": [
       "     Survived  Pclass     Sex   Age  SibSp  Parch     Fare Embarked\n",
       "0           0       3    male  22.0      1      0   7.2500        S\n",
       "1           1       1  female  38.0      1      0  71.2833        C\n",
       "2           1       3  female  26.0      0      0   7.9250        S\n",
       "3           1       1  female  35.0      1      0  53.1000        S\n",
       "4           0       3    male  35.0      0      0   8.0500        S\n",
       "..        ...     ...     ...   ...    ...    ...      ...      ...\n",
       "886         0       2    male  27.0      0      0  13.0000        S\n",
       "887         1       1  female  19.0      0      0  30.0000        S\n",
       "888         0       3  female   NaN      1      2  23.4500        S\n",
       "889         1       1    male  26.0      0      0  30.0000        C\n",
       "890         0       3    male  32.0      0      0   7.7500        Q\n",
       "\n",
       "[891 rows x 8 columns]"
      ]
     },
     "execution_count": 25,
     "metadata": {},
     "output_type": "execute_result"
    }
   ],
   "source": [
    "data "
   ]
  },
  {
   "cell_type": "markdown",
   "id": "88d27e08",
   "metadata": {},
   "source": [
    "Here we are having 177 Null values in Age columns and 2 Null values in Embarked."
   ]
  },
  {
   "cell_type": "markdown",
   "id": "f54ec8f7",
   "metadata": {},
   "source": [
    "We will fill our age column using mean of that column."
   ]
  },
  {
   "cell_type": "code",
   "execution_count": 26,
   "id": "a7af9ed6",
   "metadata": {},
   "outputs": [],
   "source": [
    "data['Age'].fillna(value=data['Age'].mean(), inplace=True)"
   ]
  },
  {
   "cell_type": "code",
   "execution_count": 27,
   "id": "5f6f0fab",
   "metadata": {},
   "outputs": [
    {
     "data": {
      "text/plain": [
       "Survived    0\n",
       "Pclass      0\n",
       "Sex         0\n",
       "Age         0\n",
       "SibSp       0\n",
       "Parch       0\n",
       "Fare        0\n",
       "Embarked    2\n",
       "dtype: int64"
      ]
     },
     "execution_count": 27,
     "metadata": {},
     "output_type": "execute_result"
    }
   ],
   "source": [
    "data.isnull().sum()"
   ]
  },
  {
   "cell_type": "code",
   "execution_count": 28,
   "id": "c9916ead",
   "metadata": {},
   "outputs": [
    {
     "data": {
      "text/plain": [
       "S    644\n",
       "C    168\n",
       "Q     77\n",
       "Name: Embarked, dtype: int64"
      ]
     },
     "execution_count": 28,
     "metadata": {},
     "output_type": "execute_result"
    }
   ],
   "source": [
    "data['Embarked'].value_counts()"
   ]
  },
  {
   "cell_type": "markdown",
   "id": "a963927a",
   "metadata": {},
   "source": [
    "Here most collom values is S. So we will replavce it with 'S'"
   ]
  },
  {
   "cell_type": "code",
   "execution_count": 29,
   "id": "497e41ec",
   "metadata": {},
   "outputs": [],
   "source": [
    "data['Embarked'].fillna(value='S', inplace=True)"
   ]
  },
  {
   "cell_type": "code",
   "execution_count": 30,
   "id": "1e5969b5",
   "metadata": {},
   "outputs": [
    {
     "data": {
      "text/plain": [
       "Survived    0\n",
       "Pclass      0\n",
       "Sex         0\n",
       "Age         0\n",
       "SibSp       0\n",
       "Parch       0\n",
       "Fare        0\n",
       "Embarked    0\n",
       "dtype: int64"
      ]
     },
     "execution_count": 30,
     "metadata": {},
     "output_type": "execute_result"
    }
   ],
   "source": [
    "data.isnull().sum()"
   ]
  },
  {
   "cell_type": "markdown",
   "id": "20905b6e",
   "metadata": {},
   "source": [
    "Now the Data is not having Null values, lets deal with the string data.\n",
    "\n",
    "Sex and Embarked columns are having String type data.\n",
    "\n",
    "We will use LabelEncoder to encode string values."
   ]
  },
  {
   "cell_type": "code",
   "execution_count": 31,
   "id": "660e7832",
   "metadata": {},
   "outputs": [],
   "source": [
    "from sklearn.preprocessing import LabelEncoder\n",
    "le=LabelEncoder()\n",
    "data['Sex']=le.fit_transform(data['Sex'])\n",
    "data['Embarked']= le.fit_transform(data['Embarked'])"
   ]
  },
  {
   "cell_type": "code",
   "execution_count": 32,
   "id": "6b6db479",
   "metadata": {},
   "outputs": [
    {
     "data": {
      "text/html": [
       "<div>\n",
       "<style scoped>\n",
       "    .dataframe tbody tr th:only-of-type {\n",
       "        vertical-align: middle;\n",
       "    }\n",
       "\n",
       "    .dataframe tbody tr th {\n",
       "        vertical-align: top;\n",
       "    }\n",
       "\n",
       "    .dataframe thead th {\n",
       "        text-align: right;\n",
       "    }\n",
       "</style>\n",
       "<table border=\"1\" class=\"dataframe\">\n",
       "  <thead>\n",
       "    <tr style=\"text-align: right;\">\n",
       "      <th></th>\n",
       "      <th>Survived</th>\n",
       "      <th>Pclass</th>\n",
       "      <th>Sex</th>\n",
       "      <th>Age</th>\n",
       "      <th>SibSp</th>\n",
       "      <th>Parch</th>\n",
       "      <th>Fare</th>\n",
       "      <th>Embarked</th>\n",
       "    </tr>\n",
       "  </thead>\n",
       "  <tbody>\n",
       "    <tr>\n",
       "      <th>0</th>\n",
       "      <td>0</td>\n",
       "      <td>3</td>\n",
       "      <td>1</td>\n",
       "      <td>22.000000</td>\n",
       "      <td>1</td>\n",
       "      <td>0</td>\n",
       "      <td>7.2500</td>\n",
       "      <td>2</td>\n",
       "    </tr>\n",
       "    <tr>\n",
       "      <th>1</th>\n",
       "      <td>1</td>\n",
       "      <td>1</td>\n",
       "      <td>0</td>\n",
       "      <td>38.000000</td>\n",
       "      <td>1</td>\n",
       "      <td>0</td>\n",
       "      <td>71.2833</td>\n",
       "      <td>0</td>\n",
       "    </tr>\n",
       "    <tr>\n",
       "      <th>2</th>\n",
       "      <td>1</td>\n",
       "      <td>3</td>\n",
       "      <td>0</td>\n",
       "      <td>26.000000</td>\n",
       "      <td>0</td>\n",
       "      <td>0</td>\n",
       "      <td>7.9250</td>\n",
       "      <td>2</td>\n",
       "    </tr>\n",
       "    <tr>\n",
       "      <th>3</th>\n",
       "      <td>1</td>\n",
       "      <td>1</td>\n",
       "      <td>0</td>\n",
       "      <td>35.000000</td>\n",
       "      <td>1</td>\n",
       "      <td>0</td>\n",
       "      <td>53.1000</td>\n",
       "      <td>2</td>\n",
       "    </tr>\n",
       "    <tr>\n",
       "      <th>4</th>\n",
       "      <td>0</td>\n",
       "      <td>3</td>\n",
       "      <td>1</td>\n",
       "      <td>35.000000</td>\n",
       "      <td>0</td>\n",
       "      <td>0</td>\n",
       "      <td>8.0500</td>\n",
       "      <td>2</td>\n",
       "    </tr>\n",
       "    <tr>\n",
       "      <th>...</th>\n",
       "      <td>...</td>\n",
       "      <td>...</td>\n",
       "      <td>...</td>\n",
       "      <td>...</td>\n",
       "      <td>...</td>\n",
       "      <td>...</td>\n",
       "      <td>...</td>\n",
       "      <td>...</td>\n",
       "    </tr>\n",
       "    <tr>\n",
       "      <th>886</th>\n",
       "      <td>0</td>\n",
       "      <td>2</td>\n",
       "      <td>1</td>\n",
       "      <td>27.000000</td>\n",
       "      <td>0</td>\n",
       "      <td>0</td>\n",
       "      <td>13.0000</td>\n",
       "      <td>2</td>\n",
       "    </tr>\n",
       "    <tr>\n",
       "      <th>887</th>\n",
       "      <td>1</td>\n",
       "      <td>1</td>\n",
       "      <td>0</td>\n",
       "      <td>19.000000</td>\n",
       "      <td>0</td>\n",
       "      <td>0</td>\n",
       "      <td>30.0000</td>\n",
       "      <td>2</td>\n",
       "    </tr>\n",
       "    <tr>\n",
       "      <th>888</th>\n",
       "      <td>0</td>\n",
       "      <td>3</td>\n",
       "      <td>0</td>\n",
       "      <td>29.699118</td>\n",
       "      <td>1</td>\n",
       "      <td>2</td>\n",
       "      <td>23.4500</td>\n",
       "      <td>2</td>\n",
       "    </tr>\n",
       "    <tr>\n",
       "      <th>889</th>\n",
       "      <td>1</td>\n",
       "      <td>1</td>\n",
       "      <td>1</td>\n",
       "      <td>26.000000</td>\n",
       "      <td>0</td>\n",
       "      <td>0</td>\n",
       "      <td>30.0000</td>\n",
       "      <td>0</td>\n",
       "    </tr>\n",
       "    <tr>\n",
       "      <th>890</th>\n",
       "      <td>0</td>\n",
       "      <td>3</td>\n",
       "      <td>1</td>\n",
       "      <td>32.000000</td>\n",
       "      <td>0</td>\n",
       "      <td>0</td>\n",
       "      <td>7.7500</td>\n",
       "      <td>1</td>\n",
       "    </tr>\n",
       "  </tbody>\n",
       "</table>\n",
       "<p>891 rows × 8 columns</p>\n",
       "</div>"
      ],
      "text/plain": [
       "     Survived  Pclass  Sex        Age  SibSp  Parch     Fare  Embarked\n",
       "0           0       3    1  22.000000      1      0   7.2500         2\n",
       "1           1       1    0  38.000000      1      0  71.2833         0\n",
       "2           1       3    0  26.000000      0      0   7.9250         2\n",
       "3           1       1    0  35.000000      1      0  53.1000         2\n",
       "4           0       3    1  35.000000      0      0   8.0500         2\n",
       "..        ...     ...  ...        ...    ...    ...      ...       ...\n",
       "886         0       2    1  27.000000      0      0  13.0000         2\n",
       "887         1       1    0  19.000000      0      0  30.0000         2\n",
       "888         0       3    0  29.699118      1      2  23.4500         2\n",
       "889         1       1    1  26.000000      0      0  30.0000         0\n",
       "890         0       3    1  32.000000      0      0   7.7500         1\n",
       "\n",
       "[891 rows x 8 columns]"
      ]
     },
     "execution_count": 32,
     "metadata": {},
     "output_type": "execute_result"
    }
   ],
   "source": [
    "data"
   ]
  },
  {
   "cell_type": "code",
   "execution_count": 33,
   "id": "ed14036a",
   "metadata": {},
   "outputs": [
    {
     "data": {
      "text/html": [
       "<div>\n",
       "<style scoped>\n",
       "    .dataframe tbody tr th:only-of-type {\n",
       "        vertical-align: middle;\n",
       "    }\n",
       "\n",
       "    .dataframe tbody tr th {\n",
       "        vertical-align: top;\n",
       "    }\n",
       "\n",
       "    .dataframe thead th {\n",
       "        text-align: right;\n",
       "    }\n",
       "</style>\n",
       "<table border=\"1\" class=\"dataframe\">\n",
       "  <thead>\n",
       "    <tr style=\"text-align: right;\">\n",
       "      <th></th>\n",
       "      <th>Survived</th>\n",
       "      <th>Pclass</th>\n",
       "      <th>Sex</th>\n",
       "      <th>Age</th>\n",
       "      <th>SibSp</th>\n",
       "      <th>Parch</th>\n",
       "      <th>Fare</th>\n",
       "      <th>Embarked</th>\n",
       "    </tr>\n",
       "  </thead>\n",
       "  <tbody>\n",
       "    <tr>\n",
       "      <th>count</th>\n",
       "      <td>891.000000</td>\n",
       "      <td>891.000000</td>\n",
       "      <td>891.000000</td>\n",
       "      <td>891.000000</td>\n",
       "      <td>891.000000</td>\n",
       "      <td>891.000000</td>\n",
       "      <td>891.000000</td>\n",
       "      <td>891.000000</td>\n",
       "    </tr>\n",
       "    <tr>\n",
       "      <th>mean</th>\n",
       "      <td>0.383838</td>\n",
       "      <td>2.308642</td>\n",
       "      <td>0.647587</td>\n",
       "      <td>29.699118</td>\n",
       "      <td>0.523008</td>\n",
       "      <td>0.381594</td>\n",
       "      <td>32.204208</td>\n",
       "      <td>1.536476</td>\n",
       "    </tr>\n",
       "    <tr>\n",
       "      <th>std</th>\n",
       "      <td>0.486592</td>\n",
       "      <td>0.836071</td>\n",
       "      <td>0.477990</td>\n",
       "      <td>13.002015</td>\n",
       "      <td>1.102743</td>\n",
       "      <td>0.806057</td>\n",
       "      <td>49.693429</td>\n",
       "      <td>0.791503</td>\n",
       "    </tr>\n",
       "    <tr>\n",
       "      <th>min</th>\n",
       "      <td>0.000000</td>\n",
       "      <td>1.000000</td>\n",
       "      <td>0.000000</td>\n",
       "      <td>0.420000</td>\n",
       "      <td>0.000000</td>\n",
       "      <td>0.000000</td>\n",
       "      <td>0.000000</td>\n",
       "      <td>0.000000</td>\n",
       "    </tr>\n",
       "    <tr>\n",
       "      <th>25%</th>\n",
       "      <td>0.000000</td>\n",
       "      <td>2.000000</td>\n",
       "      <td>0.000000</td>\n",
       "      <td>22.000000</td>\n",
       "      <td>0.000000</td>\n",
       "      <td>0.000000</td>\n",
       "      <td>7.910400</td>\n",
       "      <td>1.000000</td>\n",
       "    </tr>\n",
       "    <tr>\n",
       "      <th>50%</th>\n",
       "      <td>0.000000</td>\n",
       "      <td>3.000000</td>\n",
       "      <td>1.000000</td>\n",
       "      <td>29.699118</td>\n",
       "      <td>0.000000</td>\n",
       "      <td>0.000000</td>\n",
       "      <td>14.454200</td>\n",
       "      <td>2.000000</td>\n",
       "    </tr>\n",
       "    <tr>\n",
       "      <th>75%</th>\n",
       "      <td>1.000000</td>\n",
       "      <td>3.000000</td>\n",
       "      <td>1.000000</td>\n",
       "      <td>35.000000</td>\n",
       "      <td>1.000000</td>\n",
       "      <td>0.000000</td>\n",
       "      <td>31.000000</td>\n",
       "      <td>2.000000</td>\n",
       "    </tr>\n",
       "    <tr>\n",
       "      <th>max</th>\n",
       "      <td>1.000000</td>\n",
       "      <td>3.000000</td>\n",
       "      <td>1.000000</td>\n",
       "      <td>80.000000</td>\n",
       "      <td>8.000000</td>\n",
       "      <td>6.000000</td>\n",
       "      <td>512.329200</td>\n",
       "      <td>2.000000</td>\n",
       "    </tr>\n",
       "  </tbody>\n",
       "</table>\n",
       "</div>"
      ],
      "text/plain": [
       "         Survived      Pclass         Sex         Age       SibSp       Parch  \\\n",
       "count  891.000000  891.000000  891.000000  891.000000  891.000000  891.000000   \n",
       "mean     0.383838    2.308642    0.647587   29.699118    0.523008    0.381594   \n",
       "std      0.486592    0.836071    0.477990   13.002015    1.102743    0.806057   \n",
       "min      0.000000    1.000000    0.000000    0.420000    0.000000    0.000000   \n",
       "25%      0.000000    2.000000    0.000000   22.000000    0.000000    0.000000   \n",
       "50%      0.000000    3.000000    1.000000   29.699118    0.000000    0.000000   \n",
       "75%      1.000000    3.000000    1.000000   35.000000    1.000000    0.000000   \n",
       "max      1.000000    3.000000    1.000000   80.000000    8.000000    6.000000   \n",
       "\n",
       "             Fare    Embarked  \n",
       "count  891.000000  891.000000  \n",
       "mean    32.204208    1.536476  \n",
       "std     49.693429    0.791503  \n",
       "min      0.000000    0.000000  \n",
       "25%      7.910400    1.000000  \n",
       "50%     14.454200    2.000000  \n",
       "75%     31.000000    2.000000  \n",
       "max    512.329200    2.000000  "
      ]
     },
     "execution_count": 33,
     "metadata": {},
     "output_type": "execute_result"
    }
   ],
   "source": [
    "data.describe()"
   ]
  },
  {
   "cell_type": "markdown",
   "id": "f31ba90b",
   "metadata": {},
   "source": [
    "Here we can see data is having 891 counts in each columns, so no null value is present.\n",
    "\n",
    "For Fare column Fare can not be Zero.\n",
    "\n",
    "Lets check the Zero values."
   ]
  },
  {
   "cell_type": "code",
   "execution_count": 34,
   "id": "e4ded1c5",
   "metadata": {},
   "outputs": [
    {
     "data": {
      "text/plain": [
       "Int64Index([179, 263, 271, 277, 302, 413, 466, 481, 597, 633, 674, 732, 806,\n",
       "            815, 822],\n",
       "           dtype='int64')"
      ]
     },
     "execution_count": 34,
     "metadata": {},
     "output_type": "execute_result"
    }
   ],
   "source": [
    "data[data['Fare']==0].index"
   ]
  },
  {
   "cell_type": "code",
   "execution_count": 35,
   "id": "0645a0d4",
   "metadata": {},
   "outputs": [],
   "source": [
    "data.drop(index=[179, 263, 271, 277, 302, 413, 466, 481, 597, 633, 674, 732, 806,815, 822], inplace= True)"
   ]
  },
  {
   "cell_type": "code",
   "execution_count": 36,
   "id": "f05efa10",
   "metadata": {},
   "outputs": [
    {
     "data": {
      "text/html": [
       "<div>\n",
       "<style scoped>\n",
       "    .dataframe tbody tr th:only-of-type {\n",
       "        vertical-align: middle;\n",
       "    }\n",
       "\n",
       "    .dataframe tbody tr th {\n",
       "        vertical-align: top;\n",
       "    }\n",
       "\n",
       "    .dataframe thead th {\n",
       "        text-align: right;\n",
       "    }\n",
       "</style>\n",
       "<table border=\"1\" class=\"dataframe\">\n",
       "  <thead>\n",
       "    <tr style=\"text-align: right;\">\n",
       "      <th></th>\n",
       "      <th>Survived</th>\n",
       "      <th>Pclass</th>\n",
       "      <th>Sex</th>\n",
       "      <th>Age</th>\n",
       "      <th>SibSp</th>\n",
       "      <th>Parch</th>\n",
       "      <th>Fare</th>\n",
       "      <th>Embarked</th>\n",
       "    </tr>\n",
       "  </thead>\n",
       "  <tbody>\n",
       "    <tr>\n",
       "      <th>0</th>\n",
       "      <td>0</td>\n",
       "      <td>3</td>\n",
       "      <td>1</td>\n",
       "      <td>22.000000</td>\n",
       "      <td>1</td>\n",
       "      <td>0</td>\n",
       "      <td>7.2500</td>\n",
       "      <td>2</td>\n",
       "    </tr>\n",
       "    <tr>\n",
       "      <th>1</th>\n",
       "      <td>1</td>\n",
       "      <td>1</td>\n",
       "      <td>0</td>\n",
       "      <td>38.000000</td>\n",
       "      <td>1</td>\n",
       "      <td>0</td>\n",
       "      <td>71.2833</td>\n",
       "      <td>0</td>\n",
       "    </tr>\n",
       "    <tr>\n",
       "      <th>2</th>\n",
       "      <td>1</td>\n",
       "      <td>3</td>\n",
       "      <td>0</td>\n",
       "      <td>26.000000</td>\n",
       "      <td>0</td>\n",
       "      <td>0</td>\n",
       "      <td>7.9250</td>\n",
       "      <td>2</td>\n",
       "    </tr>\n",
       "    <tr>\n",
       "      <th>3</th>\n",
       "      <td>1</td>\n",
       "      <td>1</td>\n",
       "      <td>0</td>\n",
       "      <td>35.000000</td>\n",
       "      <td>1</td>\n",
       "      <td>0</td>\n",
       "      <td>53.1000</td>\n",
       "      <td>2</td>\n",
       "    </tr>\n",
       "    <tr>\n",
       "      <th>4</th>\n",
       "      <td>0</td>\n",
       "      <td>3</td>\n",
       "      <td>1</td>\n",
       "      <td>35.000000</td>\n",
       "      <td>0</td>\n",
       "      <td>0</td>\n",
       "      <td>8.0500</td>\n",
       "      <td>2</td>\n",
       "    </tr>\n",
       "    <tr>\n",
       "      <th>...</th>\n",
       "      <td>...</td>\n",
       "      <td>...</td>\n",
       "      <td>...</td>\n",
       "      <td>...</td>\n",
       "      <td>...</td>\n",
       "      <td>...</td>\n",
       "      <td>...</td>\n",
       "      <td>...</td>\n",
       "    </tr>\n",
       "    <tr>\n",
       "      <th>886</th>\n",
       "      <td>0</td>\n",
       "      <td>2</td>\n",
       "      <td>1</td>\n",
       "      <td>27.000000</td>\n",
       "      <td>0</td>\n",
       "      <td>0</td>\n",
       "      <td>13.0000</td>\n",
       "      <td>2</td>\n",
       "    </tr>\n",
       "    <tr>\n",
       "      <th>887</th>\n",
       "      <td>1</td>\n",
       "      <td>1</td>\n",
       "      <td>0</td>\n",
       "      <td>19.000000</td>\n",
       "      <td>0</td>\n",
       "      <td>0</td>\n",
       "      <td>30.0000</td>\n",
       "      <td>2</td>\n",
       "    </tr>\n",
       "    <tr>\n",
       "      <th>888</th>\n",
       "      <td>0</td>\n",
       "      <td>3</td>\n",
       "      <td>0</td>\n",
       "      <td>29.699118</td>\n",
       "      <td>1</td>\n",
       "      <td>2</td>\n",
       "      <td>23.4500</td>\n",
       "      <td>2</td>\n",
       "    </tr>\n",
       "    <tr>\n",
       "      <th>889</th>\n",
       "      <td>1</td>\n",
       "      <td>1</td>\n",
       "      <td>1</td>\n",
       "      <td>26.000000</td>\n",
       "      <td>0</td>\n",
       "      <td>0</td>\n",
       "      <td>30.0000</td>\n",
       "      <td>0</td>\n",
       "    </tr>\n",
       "    <tr>\n",
       "      <th>890</th>\n",
       "      <td>0</td>\n",
       "      <td>3</td>\n",
       "      <td>1</td>\n",
       "      <td>32.000000</td>\n",
       "      <td>0</td>\n",
       "      <td>0</td>\n",
       "      <td>7.7500</td>\n",
       "      <td>1</td>\n",
       "    </tr>\n",
       "  </tbody>\n",
       "</table>\n",
       "<p>876 rows × 8 columns</p>\n",
       "</div>"
      ],
      "text/plain": [
       "     Survived  Pclass  Sex        Age  SibSp  Parch     Fare  Embarked\n",
       "0           0       3    1  22.000000      1      0   7.2500         2\n",
       "1           1       1    0  38.000000      1      0  71.2833         0\n",
       "2           1       3    0  26.000000      0      0   7.9250         2\n",
       "3           1       1    0  35.000000      1      0  53.1000         2\n",
       "4           0       3    1  35.000000      0      0   8.0500         2\n",
       "..        ...     ...  ...        ...    ...    ...      ...       ...\n",
       "886         0       2    1  27.000000      0      0  13.0000         2\n",
       "887         1       1    0  19.000000      0      0  30.0000         2\n",
       "888         0       3    0  29.699118      1      2  23.4500         2\n",
       "889         1       1    1  26.000000      0      0  30.0000         0\n",
       "890         0       3    1  32.000000      0      0   7.7500         1\n",
       "\n",
       "[876 rows x 8 columns]"
      ]
     },
     "execution_count": 36,
     "metadata": {},
     "output_type": "execute_result"
    }
   ],
   "source": [
    "data"
   ]
  },
  {
   "cell_type": "code",
   "execution_count": 37,
   "id": "2b2e0883",
   "metadata": {},
   "outputs": [],
   "source": [
    "Y=data['Survived']\n",
    "X= data.drop(columns=['Survived'])"
   ]
  },
  {
   "cell_type": "code",
   "execution_count": 38,
   "id": "e6d8f1c4",
   "metadata": {},
   "outputs": [
    {
     "data": {
      "image/png": "[encoded data removed]",
      "text/plain": [
       "<Figure size 1440x1440 with 7 Axes>"
      ]
     },
     "metadata": {},
     "output_type": "display_data"
    }
   ],
   "source": [
    "plt.figure(figsize=(20,20), facecolor='blue')\n",
    "plotnumber= 1\n",
    "\n",
    "for column in X:\n",
    "    if plotnumber<=14:\n",
    "        ax= plt.subplot(4,3, plotnumber)\n",
    "        sns.scatterplot(X[column], Y, hue=Y)\n",
    "        plt.xlabel(column, fontsize= 20)\n",
    "        plt.ylabel('Survived', fontsize= 20)\n",
    "    plotnumber+=1\n",
    "plt.tight_layout()"
   ]
  },
  {
   "cell_type": "code",
   "execution_count": 39,
   "id": "cc994760",
   "metadata": {},
   "outputs": [
    {
     "data": {
      "image/png": "[encoded data removed]",
      "text/plain": [
       "<Figure size 1440x1440 with 7 Axes>"
      ]
     },
     "metadata": {},
     "output_type": "display_data"
    }
   ],
   "source": [
    "plt.figure(figsize=(20,20), facecolor='blue')\n",
    "plotnumber= 1\n",
    "\n",
    "for column in X:\n",
    "    if plotnumber<=14:\n",
    "        ax= plt.subplot(4,3, plotnumber)\n",
    "        sns.distplot(X[column])\n",
    "        plt.xlabel(column, fontsize= 20)\n",
    "        plt.ylabel('Survived', fontsize= 20)\n",
    "    plotnumber+=1\n",
    "plt.tight_layout()"
   ]
  },
  {
   "cell_type": "code",
   "execution_count": 40,
   "id": "1c170c7a",
   "metadata": {},
   "outputs": [
    {
     "data": {
      "text/html": [
       "<div>\n",
       "<style scoped>\n",
       "    .dataframe tbody tr th:only-of-type {\n",
       "        vertical-align: middle;\n",
       "    }\n",
       "\n",
       "    .dataframe tbody tr th {\n",
       "        vertical-align: top;\n",
       "    }\n",
       "\n",
       "    .dataframe thead th {\n",
       "        text-align: right;\n",
       "    }\n",
       "</style>\n",
       "<table border=\"1\" class=\"dataframe\">\n",
       "  <thead>\n",
       "    <tr style=\"text-align: right;\">\n",
       "      <th></th>\n",
       "      <th>Survived</th>\n",
       "      <th>Pclass</th>\n",
       "      <th>Sex</th>\n",
       "      <th>Age</th>\n",
       "      <th>SibSp</th>\n",
       "      <th>Parch</th>\n",
       "      <th>Fare</th>\n",
       "      <th>Embarked</th>\n",
       "    </tr>\n",
       "  </thead>\n",
       "  <tbody>\n",
       "    <tr>\n",
       "      <th>Survived</th>\n",
       "      <td>1.000000</td>\n",
       "      <td>-0.351636</td>\n",
       "      <td>-0.540800</td>\n",
       "      <td>-0.066912</td>\n",
       "      <td>-0.040941</td>\n",
       "      <td>0.076939</td>\n",
       "      <td>0.252453</td>\n",
       "      <td>-0.162562</td>\n",
       "    </tr>\n",
       "    <tr>\n",
       "      <th>Pclass</th>\n",
       "      <td>-0.351636</td>\n",
       "      <td>1.000000</td>\n",
       "      <td>0.139467</td>\n",
       "      <td>-0.332129</td>\n",
       "      <td>0.080304</td>\n",
       "      <td>0.014962</td>\n",
       "      <td>-0.561517</td>\n",
       "      <td>0.168605</td>\n",
       "    </tr>\n",
       "    <tr>\n",
       "      <th>Sex</th>\n",
       "      <td>-0.540800</td>\n",
       "      <td>0.139467</td>\n",
       "      <td>1.000000</td>\n",
       "      <td>0.082290</td>\n",
       "      <td>-0.109357</td>\n",
       "      <td>-0.241093</td>\n",
       "      <td>-0.175592</td>\n",
       "      <td>0.101633</td>\n",
       "    </tr>\n",
       "    <tr>\n",
       "      <th>Age</th>\n",
       "      <td>-0.066912</td>\n",
       "      <td>-0.332129</td>\n",
       "      <td>0.082290</td>\n",
       "      <td>1.000000</td>\n",
       "      <td>-0.232110</td>\n",
       "      <td>-0.178430</td>\n",
       "      <td>0.094331</td>\n",
       "      <td>-0.028873</td>\n",
       "    </tr>\n",
       "    <tr>\n",
       "      <th>SibSp</th>\n",
       "      <td>-0.040941</td>\n",
       "      <td>0.080304</td>\n",
       "      <td>-0.109357</td>\n",
       "      <td>-0.232110</td>\n",
       "      <td>1.000000</td>\n",
       "      <td>0.412577</td>\n",
       "      <td>0.155240</td>\n",
       "      <td>0.073349</td>\n",
       "    </tr>\n",
       "    <tr>\n",
       "      <th>Parch</th>\n",
       "      <td>0.076939</td>\n",
       "      <td>0.014962</td>\n",
       "      <td>-0.241093</td>\n",
       "      <td>-0.178430</td>\n",
       "      <td>0.412577</td>\n",
       "      <td>1.000000</td>\n",
       "      <td>0.212137</td>\n",
       "      <td>0.044769</td>\n",
       "    </tr>\n",
       "    <tr>\n",
       "      <th>Fare</th>\n",
       "      <td>0.252453</td>\n",
       "      <td>-0.561517</td>\n",
       "      <td>-0.175592</td>\n",
       "      <td>0.094331</td>\n",
       "      <td>0.155240</td>\n",
       "      <td>0.212137</td>\n",
       "      <td>1.000000</td>\n",
       "      <td>-0.219650</td>\n",
       "    </tr>\n",
       "    <tr>\n",
       "      <th>Embarked</th>\n",
       "      <td>-0.162562</td>\n",
       "      <td>0.168605</td>\n",
       "      <td>0.101633</td>\n",
       "      <td>-0.028873</td>\n",
       "      <td>0.073349</td>\n",
       "      <td>0.044769</td>\n",
       "      <td>-0.219650</td>\n",
       "      <td>1.000000</td>\n",
       "    </tr>\n",
       "  </tbody>\n",
       "</table>\n",
       "</div>"
      ],
      "text/plain": [
       "          Survived    Pclass       Sex       Age     SibSp     Parch  \\\n",
       "Survived  1.000000 -0.351636 -0.540800 -0.066912 -0.040941  0.076939   \n",
       "Pclass   -0.351636  1.000000  0.139467 -0.332129  0.080304  0.014962   \n",
       "Sex      -0.540800  0.139467  1.000000  0.082290 -0.109357 -0.241093   \n",
       "Age      -0.066912 -0.332129  0.082290  1.000000 -0.232110 -0.178430   \n",
       "SibSp    -0.040941  0.080304 -0.109357 -0.232110  1.000000  0.412577   \n",
       "Parch     0.076939  0.014962 -0.241093 -0.178430  0.412577  1.000000   \n",
       "Fare      0.252453 -0.561517 -0.175592  0.094331  0.155240  0.212137   \n",
       "Embarked -0.162562  0.168605  0.101633 -0.028873  0.073349  0.044769   \n",
       "\n",
       "              Fare  Embarked  \n",
       "Survived  0.252453 -0.162562  \n",
       "Pclass   -0.561517  0.168605  \n",
       "Sex      -0.175592  0.101633  \n",
       "Age       0.094331 -0.028873  \n",
       "SibSp     0.155240  0.073349  \n",
       "Parch     0.212137  0.044769  \n",
       "Fare      1.000000 -0.219650  \n",
       "Embarked -0.219650  1.000000  "
      ]
     },
     "execution_count": 40,
     "metadata": {},
     "output_type": "execute_result"
    }
   ],
   "source": [
    "data.corr()"
   ]
  },
  {
   "cell_type": "code",
   "execution_count": 41,
   "id": "2b8da3bf",
   "metadata": {},
   "outputs": [
    {
     "data": {
      "text/plain": [
       "<AxesSubplot:>"
      ]
     },
     "execution_count": 41,
     "metadata": {},
     "output_type": "execute_result"
    },
    {
     "data": {
      "image/png": "[encoded data removed]",
      "text/plain": [
       "<Figure size 1080x576 with 2 Axes>"
      ]
     },
     "metadata": {
      "needs_background": "light"
     },
     "output_type": "display_data"
    }
   ],
   "source": [
    "plt.figure(figsize=(15,8))\n",
    "sns.heatmap(data.corr(), annot= True,linewidths=1, linecolor='blue',fmt=' .2f')"
   ]
  },
  {
   "cell_type": "markdown",
   "id": "fb3bc5e3",
   "metadata": {},
   "source": [
    "Here we can see Fare and Parch columns are having positive correaltion with Survived other having negative values."
   ]
  },
  {
   "cell_type": "code",
   "execution_count": 42,
   "id": "528e68ea",
   "metadata": {},
   "outputs": [
    {
     "data": {
      "image/png": "[encoded data removed]",
      "text/plain": [
       "<Figure size 720x2160 with 8 Axes>"
      ]
     },
     "metadata": {
      "needs_background": "light"
     },
     "output_type": "display_data"
    }
   ],
   "source": [
    "collist=data.columns.values\n",
    "ncol= 10\n",
    "nrows= 10\n",
    "\n",
    "plt.figure(figsize=(ncol,3*ncol))\n",
    "for i in range(0,len(collist)):\n",
    "    plt.subplot(nrows, ncol, i+1)\n",
    "    sns.boxplot(y=data[collist[i]], color='green', orient='x')\n",
    "    plt.tight_layout()"
   ]
  },
  {
   "cell_type": "markdown",
   "id": "bba09c86",
   "metadata": {},
   "source": [
    "We are seeing that outliers are present in our data."
   ]
  },
  {
   "cell_type": "markdown",
   "id": "0b78810d",
   "metadata": {},
   "source": [
    "# Removing Outliers"
   ]
  },
  {
   "cell_type": "code",
   "execution_count": 43,
   "id": "e6ecc3f5",
   "metadata": {},
   "outputs": [
    {
     "data": {
      "text/plain": [
       "(array([ 13,  16,  25,  27,  50,  59,  68,  71,  86,  88,  96, 116, 118,\n",
       "        119, 159, 164, 167, 171, 179, 181, 200, 232, 257, 260, 264, 274,\n",
       "        295, 306, 319, 336, 355, 372, 375, 381, 431, 432, 432, 473, 485,\n",
       "        519, 533, 534, 549, 559, 601, 621, 628, 662, 667, 668, 672, 675,\n",
       "        678, 689, 705, 719, 724, 725, 730, 733, 762, 767, 775, 780, 800,\n",
       "        809, 831, 835, 836, 843, 848, 870], dtype=int64),\n",
       " array([5, 4, 5, 6, 4, 4, 4, 4, 5, 6, 3, 3, 6, 4, 4, 4, 5, 4, 4, 4, 4, 4,\n",
       "        6, 4, 4, 4, 6, 6, 4, 6, 5, 6, 6, 4, 5, 5, 6, 4, 3, 6, 4, 4, 6, 5,\n",
       "        5, 3, 5, 3, 5, 6, 4, 4, 6, 6, 6, 6, 5, 6, 6, 3, 5, 6, 4, 4, 4, 4,\n",
       "        4, 4, 3, 5, 4, 5], dtype=int64))"
      ]
     },
     "execution_count": 43,
     "metadata": {},
     "output_type": "execute_result"
    }
   ],
   "source": [
    "from scipy.stats import zscore\n",
    "z=np.abs(zscore(data))\n",
    "np.where(z>3)"
   ]
  },
  {
   "cell_type": "code",
   "execution_count": 44,
   "id": "7a5b82ed",
   "metadata": {},
   "outputs": [
    {
     "name": "stdout",
     "output_type": "stream",
     "text": [
      "(876, 8)\n",
      "(805, 8)\n"
     ]
    }
   ],
   "source": [
    "data_new = data[(z<3).all(axis=1)]\n",
    "print(data.shape)\n",
    "print(data_new.shape)"
   ]
  },
  {
   "cell_type": "code",
   "execution_count": 45,
   "id": "cf02b78a",
   "metadata": {},
   "outputs": [
    {
     "name": "stdout",
     "output_type": "stream",
     "text": [
      "8.105022831050228\n"
     ]
    }
   ],
   "source": [
    "Loss_percentage=(876-805)/876*100\n",
    "print(Loss_percentage)"
   ]
  },
  {
   "cell_type": "markdown",
   "id": "826a40f4",
   "metadata": {},
   "source": [
    "# Removing Skewness"
   ]
  },
  {
   "cell_type": "code",
   "execution_count": 46,
   "id": "7f818446",
   "metadata": {},
   "outputs": [],
   "source": [
    "from sklearn.preprocessing import power_transform"
   ]
  },
  {
   "cell_type": "code",
   "execution_count": 47,
   "id": "fdf12613",
   "metadata": {},
   "outputs": [],
   "source": [
    "x=data_new.iloc[:,1:]\n",
    "y=data_new.iloc[:,0]"
   ]
  },
  {
   "cell_type": "code",
   "execution_count": 48,
   "id": "f3b97da3",
   "metadata": {},
   "outputs": [],
   "source": [
    "x=power_transform(x,method='yeo-johnson')"
   ]
  },
  {
   "cell_type": "code",
   "execution_count": 49,
   "id": "db3edf8c",
   "metadata": {},
   "outputs": [
    {
     "data": {
      "text/plain": [
       "(805, 7)"
      ]
     },
     "execution_count": 49,
     "metadata": {},
     "output_type": "execute_result"
    }
   ],
   "source": [
    "x.shape"
   ]
  },
  {
   "cell_type": "code",
   "execution_count": 50,
   "id": "c9d8f71e",
   "metadata": {},
   "outputs": [
    {
     "data": {
      "text/plain": [
       "(805,)"
      ]
     },
     "execution_count": 50,
     "metadata": {},
     "output_type": "execute_result"
    }
   ],
   "source": [
    "y.shape"
   ]
  },
  {
   "cell_type": "markdown",
   "id": "e10e68e9",
   "metadata": {},
   "source": [
    "# Data Scaling"
   ]
  },
  {
   "cell_type": "code",
   "execution_count": 51,
   "id": "67fd34e8",
   "metadata": {},
   "outputs": [],
   "source": [
    "from sklearn.preprocessing import StandardScaler\n",
    "sc=StandardScaler()\n",
    "x=sc.fit_transform(x)"
   ]
  },
  {
   "cell_type": "code",
   "execution_count": 52,
   "id": "f2f6f9de",
   "metadata": {},
   "outputs": [
    {
     "data": {
      "text/plain": [
       "<AxesSubplot:xlabel='Survived', ylabel='count'>"
      ]
     },
     "execution_count": 52,
     "metadata": {},
     "output_type": "execute_result"
    },
    {
     "data": {
      "image/png": "[encoded data removed]",
      "text/plain": [
       "<Figure size 432x288 with 1 Axes>"
      ]
     },
     "metadata": {
      "needs_background": "light"
     },
     "output_type": "display_data"
    }
   ],
   "source": [
    "sns.countplot(data_new['Survived'])"
   ]
  },
  {
   "cell_type": "code",
   "execution_count": 53,
   "id": "800b859e",
   "metadata": {},
   "outputs": [],
   "source": [
    "from imblearn.over_sampling import SMOTE"
   ]
  },
  {
   "cell_type": "code",
   "execution_count": 54,
   "id": "bcc65ea1",
   "metadata": {},
   "outputs": [],
   "source": [
    "X_train_over, Y_train_over =SMOTE(k_neighbors=3).fit_resample(x,y)"
   ]
  },
  {
   "cell_type": "code",
   "execution_count": 55,
   "id": "f76a3b4a",
   "metadata": {},
   "outputs": [
    {
     "data": {
      "text/plain": [
       "(972, 7)"
      ]
     },
     "execution_count": 55,
     "metadata": {},
     "output_type": "execute_result"
    }
   ],
   "source": [
    "X_train_over.shape"
   ]
  },
  {
   "cell_type": "code",
   "execution_count": 56,
   "id": "86fa0ab3",
   "metadata": {},
   "outputs": [
    {
     "data": {
      "text/plain": [
       "0    486\n",
       "1    486\n",
       "Name: Survived, dtype: int64"
      ]
     },
     "execution_count": 56,
     "metadata": {},
     "output_type": "execute_result"
    }
   ],
   "source": [
    "Y_train_over.value_counts()"
   ]
  },
  {
   "cell_type": "code",
   "execution_count": 57,
   "id": "296c9d90",
   "metadata": {},
   "outputs": [],
   "source": [
    "xtrain=pd.DataFrame(data=x)"
   ]
  },
  {
   "cell_type": "markdown",
   "id": "8d7d1383",
   "metadata": {},
   "source": [
    "Now our data is balanced."
   ]
  },
  {
   "cell_type": "markdown",
   "id": "556d489d",
   "metadata": {},
   "source": [
    "# VIF Calculation"
   ]
  },
  {
   "cell_type": "code",
   "execution_count": 58,
   "id": "b53ba02e",
   "metadata": {},
   "outputs": [],
   "source": [
    "import statsmodels.api as sm\n",
    "from scipy import stats\n",
    "from statsmodels.stats.outliers_influence import variance_inflation_factor"
   ]
  },
  {
   "cell_type": "code",
   "execution_count": 59,
   "id": "1bcc5dad",
   "metadata": {},
   "outputs": [],
   "source": [
    "def calc_vif(x):\n",
    "    vif=pd.DataFrame()\n",
    "    vif['variables']=x.columns\n",
    "    vif['VIF FACTOR']=[variance_inflation_factor(xtrain.values,i) for i in range(x.shape[1])]\n",
    "    return(vif)"
   ]
  },
  {
   "cell_type": "code",
   "execution_count": 60,
   "id": "1cc0c7cc",
   "metadata": {},
   "outputs": [
    {
     "data": {
      "text/html": [
       "<div>\n",
       "<style scoped>\n",
       "    .dataframe tbody tr th:only-of-type {\n",
       "        vertical-align: middle;\n",
       "    }\n",
       "\n",
       "    .dataframe tbody tr th {\n",
       "        vertical-align: top;\n",
       "    }\n",
       "\n",
       "    .dataframe thead th {\n",
       "        text-align: right;\n",
       "    }\n",
       "</style>\n",
       "<table border=\"1\" class=\"dataframe\">\n",
       "  <thead>\n",
       "    <tr style=\"text-align: right;\">\n",
       "      <th></th>\n",
       "      <th>variables</th>\n",
       "      <th>VIF FACTOR</th>\n",
       "    </tr>\n",
       "  </thead>\n",
       "  <tbody>\n",
       "    <tr>\n",
       "      <th>0</th>\n",
       "      <td>0</td>\n",
       "      <td>3.539726</td>\n",
       "    </tr>\n",
       "    <tr>\n",
       "      <th>1</th>\n",
       "      <td>1</td>\n",
       "      <td>1.132106</td>\n",
       "    </tr>\n",
       "    <tr>\n",
       "      <th>2</th>\n",
       "      <td>2</td>\n",
       "      <td>1.232688</td>\n",
       "    </tr>\n",
       "    <tr>\n",
       "      <th>3</th>\n",
       "      <td>3</td>\n",
       "      <td>1.482894</td>\n",
       "    </tr>\n",
       "    <tr>\n",
       "      <th>4</th>\n",
       "      <td>4</td>\n",
       "      <td>1.405809</td>\n",
       "    </tr>\n",
       "    <tr>\n",
       "      <th>5</th>\n",
       "      <td>5</td>\n",
       "      <td>4.422871</td>\n",
       "    </tr>\n",
       "    <tr>\n",
       "      <th>6</th>\n",
       "      <td>6</td>\n",
       "      <td>1.021394</td>\n",
       "    </tr>\n",
       "  </tbody>\n",
       "</table>\n",
       "</div>"
      ],
      "text/plain": [
       "   variables  VIF FACTOR\n",
       "0          0    3.539726\n",
       "1          1    1.132106\n",
       "2          2    1.232688\n",
       "3          3    1.482894\n",
       "4          4    1.405809\n",
       "5          5    4.422871\n",
       "6          6    1.021394"
      ]
     },
     "execution_count": 60,
     "metadata": {},
     "output_type": "execute_result"
    }
   ],
   "source": [
    "calc_vif(xtrain)"
   ]
  },
  {
   "cell_type": "markdown",
   "id": "da4a6d20",
   "metadata": {},
   "source": [
    "As we can see VIF is less than 10 we will not remove any columns, and proceed further.\n",
    "\n",
    "Since our output is having only two values \"0\" and \"1\", we will use binary classification model."
   ]
  },
  {
   "cell_type": "code",
   "execution_count": 61,
   "id": "c3b96295",
   "metadata": {},
   "outputs": [],
   "source": [
    "x=xtrain"
   ]
  },
  {
   "cell_type": "markdown",
   "id": "88c65382",
   "metadata": {},
   "source": [
    "# Model Design\n"
   ]
  },
  {
   "cell_type": "markdown",
   "id": "97324005",
   "metadata": {},
   "source": [
    "### Now import all Models"
   ]
  },
  {
   "cell_type": "code",
   "execution_count": 62,
   "id": "fd9c1f87",
   "metadata": {},
   "outputs": [],
   "source": [
    "from sklearn.model_selection import train_test_split\n",
    "from sklearn.metrics import accuracy_score, confusion_matrix\n",
    "\n",
    "from sklearn.linear_model import LogisticRegression \n",
    "from sklearn.neighbors import KNeighborsClassifier\n",
    "from sklearn.svm import SVC\n",
    "from sklearn.tree import DecisionTreeClassifier \n",
    "from sklearn.ensemble import RandomForestClassifier\n",
    "from sklearn.ensemble import AdaBoostClassifier \n",
    "from sklearn.naive_bayes import GaussianNB\n",
    "from sklearn.naive_bayes import MultinomialNB"
   ]
  },
  {
   "cell_type": "code",
   "execution_count": 63,
   "id": "a3388fc3",
   "metadata": {},
   "outputs": [
    {
     "name": "stdout",
     "output_type": "stream",
     "text": [
      "At Random state  68 The Model performing Well\n",
      "At Random State 68\n",
      "Training Accuracy score is- 78.88198757763976\n",
      "Testing Accuracy Score is- 78.88198757763976\n",
      "At Random state  110 The Model performing Well\n",
      "At Random State 110\n",
      "Training Accuracy score is- 79.5031055900621\n",
      "Testing Accuracy Score is- 79.5031055900621\n",
      "At Random state  162 The Model performing Well\n",
      "At Random State 162\n",
      "Training Accuracy score is- 79.5031055900621\n",
      "Testing Accuracy Score is- 79.5031055900621\n",
      "At Random state  169 The Model performing Well\n",
      "At Random State 169\n",
      "Training Accuracy score is- 80.12422360248446\n",
      "Testing Accuracy Score is- 80.12422360248446\n",
      "At Random state  171 The Model performing Well\n",
      "At Random State 171\n",
      "Training Accuracy score is- 80.12422360248446\n",
      "Testing Accuracy Score is- 80.12422360248446\n",
      "At Random state  180 The Model performing Well\n",
      "At Random State 180\n",
      "Training Accuracy score is- 79.5031055900621\n",
      "Testing Accuracy Score is- 79.5031055900621\n",
      "At Random state  194 The Model performing Well\n",
      "At Random State 194\n",
      "Training Accuracy score is- 79.5031055900621\n",
      "Testing Accuracy Score is- 79.5031055900621\n",
      "At Random state  237 The Model performing Well\n",
      "At Random State 237\n",
      "Training Accuracy score is- 79.5031055900621\n",
      "Testing Accuracy Score is- 79.5031055900621\n",
      "At Random state  264 The Model performing Well\n",
      "At Random State 264\n",
      "Training Accuracy score is- 80.74534161490683\n",
      "Testing Accuracy Score is- 80.74534161490683\n",
      "At Random state  332 The Model performing Well\n",
      "At Random State 332\n",
      "Training Accuracy score is- 79.5031055900621\n",
      "Testing Accuracy Score is- 79.5031055900621\n",
      "At Random state  385 The Model performing Well\n",
      "At Random State 385\n",
      "Training Accuracy score is- 79.5031055900621\n",
      "Testing Accuracy Score is- 79.5031055900621\n",
      "At Random state  653 The Model performing Well\n",
      "At Random State 653\n",
      "Training Accuracy score is- 79.5031055900621\n",
      "Testing Accuracy Score is- 79.5031055900621\n",
      "At Random state  720 The Model performing Well\n",
      "At Random State 720\n",
      "Training Accuracy score is- 78.88198757763976\n",
      "Testing Accuracy Score is- 78.88198757763976\n",
      "At Random state  772 The Model performing Well\n",
      "At Random State 772\n",
      "Training Accuracy score is- 78.88198757763976\n",
      "Testing Accuracy Score is- 78.88198757763976\n",
      "At Random state  823 The Model performing Well\n",
      "At Random State 823\n",
      "Training Accuracy score is- 80.12422360248446\n",
      "Testing Accuracy Score is- 80.12422360248446\n",
      "At Random state  866 The Model performing Well\n",
      "At Random State 866\n",
      "Training Accuracy score is- 80.12422360248446\n",
      "Testing Accuracy Score is- 80.12422360248446\n",
      "At Random state  867 The Model performing Well\n",
      "At Random State 867\n",
      "Training Accuracy score is- 80.12422360248446\n",
      "Testing Accuracy Score is- 80.12422360248446\n",
      "At Random state  938 The Model performing Well\n",
      "At Random State 938\n",
      "Training Accuracy score is- 78.88198757763976\n",
      "Testing Accuracy Score is- 78.88198757763976\n",
      "At Random state  944 The Model performing Well\n",
      "At Random State 944\n",
      "Training Accuracy score is- 79.5031055900621\n",
      "Testing Accuracy Score is- 79.5031055900621\n",
      "At Random state  985 The Model performing Well\n",
      "At Random State 985\n",
      "Training Accuracy score is- 79.5031055900621\n",
      "Testing Accuracy Score is- 79.5031055900621\n"
     ]
    }
   ],
   "source": [
    "lr= LogisticRegression()\n",
    "for i in range(0,1000):\n",
    "    x_train, x_test, y_train, y_test= train_test_split(x,y, random_state= i, test_size= 0.20)\n",
    "    lr.fit(x_train, y_train)\n",
    "    pred_train=lr.predict(x_train)\n",
    "    pred_test=lr.predict(x_test)\n",
    "    if round(accuracy_score(y_train,pred_train)*100,1)== round(accuracy_score(y_test,pred_test)*100,1):\n",
    "        print(\"At Random state \", i, \"The Model performing Well\")\n",
    "        print(\"At Random State\", i)\n",
    "        print(\"Training Accuracy score is-\",accuracy_score(y_train,pred_train)*100 )\n",
    "        print(\"Testing Accuracy Score is-\", accuracy_score(y_test,pred_test)*100)"
   ]
  },
  {
   "cell_type": "markdown",
   "id": "e7fffa8b",
   "metadata": {},
   "source": [
    "At Random state 264 The Model performing Well\n",
    "\n",
    "At Random State 264\n",
    "\n",
    "Training Accuracy score is- 80.74534161490683\n",
    "\n",
    "Testing Accuracy Score is- 80.74534161490683"
   ]
  },
  {
   "cell_type": "code",
   "execution_count": 64,
   "id": "954f663c",
   "metadata": {},
   "outputs": [],
   "source": [
    "x_train_b, x_test_b, y_train_b, y_test_b= train_test_split(x,y,random_state=264,test_size=0.20)"
   ]
  },
  {
   "cell_type": "code",
   "execution_count": 65,
   "id": "97802c91",
   "metadata": {},
   "outputs": [
    {
     "name": "stdout",
     "output_type": "stream",
     "text": [
      "0.8074534161490683\n"
     ]
    }
   ],
   "source": [
    "lr.fit(x_train_b, y_train_b)\n",
    "lr_pred=lr.predict(x_test_b)\n",
    "print(accuracy_score(y_test_b,lr_pred))"
   ]
  },
  {
   "cell_type": "code",
   "execution_count": 66,
   "id": "38929503",
   "metadata": {},
   "outputs": [
    {
     "name": "stdout",
     "output_type": "stream",
     "text": [
      "              precision    recall  f1-score   support\n",
      "\n",
      "           0       0.80      0.88      0.84        93\n",
      "           1       0.81      0.71      0.76        68\n",
      "\n",
      "    accuracy                           0.81       161\n",
      "   macro avg       0.81      0.79      0.80       161\n",
      "weighted avg       0.81      0.81      0.81       161\n",
      "\n"
     ]
    }
   ],
   "source": [
    "from sklearn.metrics import classification_report \n",
    "print(classification_report(y_test_b, lr_pred))"
   ]
  },
  {
   "cell_type": "markdown",
   "id": "adf1e4fe",
   "metadata": {},
   "source": [
    "## Cross Validation of the model"
   ]
  },
  {
   "cell_type": "code",
   "execution_count": 67,
   "id": "ce301351",
   "metadata": {},
   "outputs": [
    {
     "name": "stdout",
     "output_type": "stream",
     "text": [
      "at cv:- 2\n",
      "Cross Validation scre is:- 78.50882066096318\n",
      "Accuracy Score:- 80.74534161490683\n",
      "\n",
      "\n",
      "at cv:- 3\n",
      "Cross Validation scre is:- 79.13083282472397\n",
      "Accuracy Score:- 80.74534161490683\n",
      "\n",
      "\n",
      "at cv:- 4\n",
      "Cross Validation scre is:- 78.88281365449978\n",
      "Accuracy Score:- 80.74534161490683\n",
      "\n",
      "\n",
      "at cv:- 5\n",
      "Cross Validation scre is:- 79.1304347826087\n",
      "Accuracy Score:- 80.74534161490683\n",
      "\n",
      "\n",
      "at cv:- 6\n",
      "Cross Validation scre is:- 79.25557398194213\n",
      "Accuracy Score:- 80.74534161490683\n",
      "\n",
      "\n",
      "at cv:- 7\n",
      "Cross Validation scre is:- 79.13043478260869\n",
      "Accuracy Score:- 80.74534161490683\n",
      "\n",
      "\n",
      "at cv:- 8\n",
      "Cross Validation scre is:- 79.62623762376238\n",
      "Accuracy Score:- 80.74534161490683\n",
      "\n",
      "\n",
      "at cv:- 9\n",
      "Cross Validation scre is:- 79.61853239006797\n",
      "Accuracy Score:- 80.74534161490683\n",
      "\n",
      "\n"
     ]
    }
   ],
   "source": [
    "lr_pred=lr.predict(x_test_b)\n",
    "from sklearn.model_selection import cross_val_score\n",
    "lr_score=accuracy_score(y_test_b,lr_pred)\n",
    "for j in range(2,10):\n",
    "    lr_cv= cross_val_score(lr,x,y,cv=j)\n",
    "    lr_cvscore=lr_cv.mean()\n",
    "    print(\"at cv:-\", j)\n",
    "    print(\"Cross Validation scre is:-\",lr_cvscore*100)\n",
    "    print(\"Accuracy Score:-\", lr_score*100)\n",
    "    print(\"\\n\")"
   ]
  },
  {
   "cell_type": "markdown",
   "id": "292b0d93",
   "metadata": {},
   "source": [
    "### at cv:- 8\n",
    "    \n",
    "Cross Validation scre is:- 79.62623762376238\n",
    "    \n",
    "Accuracy Score:- 80.74534161490683\n"
   ]
  },
  {
   "cell_type": "code",
   "execution_count": 68,
   "id": "eead5722",
   "metadata": {},
   "outputs": [
    {
     "name": "stdout",
     "output_type": "stream",
     "text": [
      "The cross Val Score is:  0.7962623762376237 \n",
      " The Accuracy score is:  0.8074534161490683\n"
     ]
    }
   ],
   "source": [
    "lr_cv_selected= cross_val_score(lr,x,y,cv=8).mean()\n",
    "print(\"The cross Val Score is: \",lr_cv_selected, \"\\n The Accuracy score is: \",lr_score)"
   ]
  },
  {
   "cell_type": "markdown",
   "id": "5e2a4f60",
   "metadata": {},
   "source": [
    "Logistic Regression giving accuracy score= 80.75 Lets try another model to find best score."
   ]
  },
  {
   "cell_type": "markdown",
   "id": "52739397",
   "metadata": {},
   "source": [
    "# SVC Model"
   ]
  },
  {
   "cell_type": "code",
   "execution_count": 69,
   "id": "4b419ffb",
   "metadata": {},
   "outputs": [
    {
     "name": "stdout",
     "output_type": "stream",
     "text": [
      "{'kernel': 'poly', 'random_state': 0}\n"
     ]
    }
   ],
   "source": [
    "from sklearn.model_selection import GridSearchCV\n",
    "from sklearn.svm import SVC\n",
    "parameters= {'kernel':['linear', 'poly', 'rbf', 'sigmoid'], 'random_state': list(range(0,10))}\n",
    "svc=SVC()\n",
    "clf=GridSearchCV(svc, parameters)\n",
    "clf.fit(x_train_b, y_train_b)\n",
    "print(clf.best_params_)"
   ]
  },
  {
   "cell_type": "code",
   "execution_count": 70,
   "id": "7554918a",
   "metadata": {},
   "outputs": [
    {
     "name": "stdout",
     "output_type": "stream",
     "text": [
      "Accuracy_core: 81.36645962732919\n",
      "Cross val Score : 80.74752475247526\n"
     ]
    }
   ],
   "source": [
    "scv=SVC(kernel='poly', random_state=0)\n",
    "svc.fit(x_train_b, y_train_b)\n",
    "svc.score(x_train_b, y_train_b)\n",
    "svc_pred=svc.predict(x_test_b)\n",
    "\n",
    "svc_d=accuracy_score(y_test_b, svc_pred)\n",
    "print('Accuracy_core:', svc_d*100)\n",
    "\n",
    "svc_cv= cross_val_score(svc,x,y,cv=8)\n",
    "svc_score=svc_cv.mean()\n",
    "print('Cross val Score :', svc_score*100)"
   ]
  },
  {
   "cell_type": "code",
   "execution_count": 71,
   "id": "f8a18da3",
   "metadata": {},
   "outputs": [
    {
     "name": "stdout",
     "output_type": "stream",
     "text": [
      "[[87  6]\n",
      " [24 44]]\n",
      "              precision    recall  f1-score   support\n",
      "\n",
      "           0       0.78      0.94      0.85        93\n",
      "           1       0.88      0.65      0.75        68\n",
      "\n",
      "    accuracy                           0.81       161\n",
      "   macro avg       0.83      0.79      0.80       161\n",
      "weighted avg       0.82      0.81      0.81       161\n",
      "\n"
     ]
    }
   ],
   "source": [
    "print(confusion_matrix(y_test_b, svc_pred))\n",
    "print(classification_report(y_test_b, svc_pred))"
   ]
  },
  {
   "cell_type": "markdown",
   "id": "723f4864",
   "metadata": {},
   "source": [
    "Here accuracy score is better than the logistic regreession. we can consider it.buts try other models too."
   ]
  },
  {
   "cell_type": "markdown",
   "id": "f5093619",
   "metadata": {},
   "source": [
    "# Ensemble Techniques\n",
    "### KNeighborsClassifier"
   ]
  },
  {
   "cell_type": "code",
   "execution_count": 72,
   "id": "847e2d62",
   "metadata": {},
   "outputs": [
    {
     "name": "stdout",
     "output_type": "stream",
     "text": [
      "{'algorithm': 'auto', 'n_neighbors': 10, 'weights': 'uniform'}\n"
     ]
    }
   ],
   "source": [
    "from sklearn.neighbors import KNeighborsClassifier\n",
    "parameters={'n_neighbors':[1,2,3,5,6,7,8,9,10],'weights':['uniform', 'distance'], 'algorithm':['auto','ball_tree','kd_tree','brute']}\n",
    "kn=KNeighborsClassifier()\n",
    "knclf=GridSearchCV(kn,parameters)\n",
    "knclf.fit(x_train_b, y_train_b)\n",
    "print(knclf.best_params_)"
   ]
  },
  {
   "cell_type": "code",
   "execution_count": 73,
   "id": "6e5b8d8a",
   "metadata": {},
   "outputs": [
    {
     "name": "stdout",
     "output_type": "stream",
     "text": [
      "accuracy_score: 0 85.09316770186336\n",
      "Cross val Score : 81.1200495049505\n"
     ]
    }
   ],
   "source": [
    "kn=KNeighborsClassifier(algorithm='auto', n_neighbors=10, weights='uniform')\n",
    "kn.fit(x_train_b, y_train_b)\n",
    "kn.score(x_train_b,y_train_b)\n",
    "kn_pred=kn.predict(x_test_b)\n",
    "\n",
    "kn_score= accuracy_score(y_test_b, kn_pred)\n",
    "print('accuracy_score: 0', kn_score*100)\n",
    "\n",
    "kncvscore=cross_val_score(kn,x,y, cv=8)\n",
    "kncv_score=kncvscore.mean()\n",
    "print('Cross val Score :',kncv_score*100 )"
   ]
  },
  {
   "cell_type": "code",
   "execution_count": 74,
   "id": "7b20ed90",
   "metadata": {},
   "outputs": [
    {
     "name": "stdout",
     "output_type": "stream",
     "text": [
      "[[89  4]\n",
      " [20 48]]\n",
      "              precision    recall  f1-score   support\n",
      "\n",
      "           0       0.82      0.96      0.88        93\n",
      "           1       0.92      0.71      0.80        68\n",
      "\n",
      "    accuracy                           0.85       161\n",
      "   macro avg       0.87      0.83      0.84       161\n",
      "weighted avg       0.86      0.85      0.85       161\n",
      "\n"
     ]
    }
   ],
   "source": [
    "print(confusion_matrix(y_test_b, kn_pred))\n",
    "print(classification_report(y_test_b, kn_pred))"
   ]
  },
  {
   "cell_type": "markdown",
   "id": "bed7e9fe",
   "metadata": {},
   "source": [
    "KNeighborsClassifier having Better score than SVC. We can consider this. Lets try another one."
   ]
  },
  {
   "cell_type": "markdown",
   "id": "ea2589b1",
   "metadata": {},
   "source": [
    "# RandomForestClassifier"
   ]
  },
  {
   "cell_type": "code",
   "execution_count": 75,
   "id": "8c7b5b5c",
   "metadata": {},
   "outputs": [
    {
     "name": "stdout",
     "output_type": "stream",
     "text": [
      "{'criterion': 'gini', 'max_features': 'sqrt', 'n_estimators': 10}\n"
     ]
    }
   ],
   "source": [
    "from sklearn.ensemble import RandomForestClassifier\n",
    "\n",
    "parameters={'n_estimators' : [10, 20,30,40,60, 80, 100],'criterion':['gini', 'entropy'],'max_features':['auto', 'sqrt', 'log2']}\n",
    "rf=RandomForestClassifier()\n",
    "rfclf=GridSearchCV(rf, parameters)\n",
    "rfclf.fit(x_train_b, y_train_b)\n",
    "print(rfclf.best_params_)"
   ]
  },
  {
   "cell_type": "code",
   "execution_count": 76,
   "id": "e9cbbb29",
   "metadata": {},
   "outputs": [
    {
     "name": "stdout",
     "output_type": "stream",
     "text": [
      "accuracy_score:  79.5031055900621\n",
      "Cross val Score : 80.24876237623762\n"
     ]
    }
   ],
   "source": [
    "rf=RandomForestClassifier(criterion='entropy', max_features='sqrt', n_estimators=30)\n",
    "rf.fit(x_train_b, y_train_b)\n",
    "rf.score(x_train_b,y_train_b)\n",
    "rf_pred=rf.predict(x_test_b)\n",
    "\n",
    "rf_score= accuracy_score(y_test_b, rf_pred)\n",
    "print('accuracy_score: ', rf_score*100)\n",
    "\n",
    "rfcvscore=cross_val_score(rf,x,y, cv=8)\n",
    "rfcv_score=rfcvscore.mean()\n",
    "print('Cross val Score :',rfcv_score*100 )"
   ]
  },
  {
   "cell_type": "code",
   "execution_count": 77,
   "id": "2cf67d1c",
   "metadata": {},
   "outputs": [
    {
     "name": "stdout",
     "output_type": "stream",
     "text": [
      "[[79 14]\n",
      " [19 49]]\n",
      "              precision    recall  f1-score   support\n",
      "\n",
      "           0       0.81      0.85      0.83        93\n",
      "           1       0.78      0.72      0.75        68\n",
      "\n",
      "    accuracy                           0.80       161\n",
      "   macro avg       0.79      0.79      0.79       161\n",
      "weighted avg       0.79      0.80      0.79       161\n",
      "\n"
     ]
    }
   ],
   "source": [
    "print(confusion_matrix(y_test_b, rf_pred))\n",
    "print(classification_report(y_test_b, rf_pred))"
   ]
  },
  {
   "cell_type": "markdown",
   "id": "7615b07e",
   "metadata": {},
   "source": [
    "RandomForestClassifier is given accuracy_score:  78.88198757763976. check othermodel for better result "
   ]
  },
  {
   "cell_type": "markdown",
   "id": "350361ba",
   "metadata": {},
   "source": [
    "# AdaBoostClassifier"
   ]
  },
  {
   "cell_type": "code",
   "execution_count": 78,
   "id": "e3a719f4",
   "metadata": {},
   "outputs": [
    {
     "name": "stdout",
     "output_type": "stream",
     "text": [
      "{'algorithm': 'SAMME.R', 'learning_rate': 0.1, 'n_estimators': 40}\n"
     ]
    }
   ],
   "source": [
    "from sklearn.ensemble import AdaBoostClassifier\n",
    "parameters={'n_estimators':[10,20,30,40,50,70,80,100],'learning_rate':[0.0001,0.001,0.01,0.1,10],'algorithm':['SAMME', 'SAMME.R']}\n",
    "ad=AdaBoostClassifier()\n",
    "adclf=GridSearchCV(ad,parameters)\n",
    "adclf.fit(x_train_b, y_train_b)\n",
    "print(adclf.best_params_)"
   ]
  },
  {
   "cell_type": "code",
   "execution_count": 79,
   "id": "239629c5",
   "metadata": {},
   "outputs": [
    {
     "name": "stdout",
     "output_type": "stream",
     "text": [
      "accuracy_score:  78.88198757763976\n",
      "Cross val Score : 79.99752475247526\n"
     ]
    }
   ],
   "source": [
    "ad=AdaBoostClassifier(algorithm='SAMME.R', learning_rate= 0.1, n_estimators= 40)\n",
    "ad.fit(x_train_b, y_train_b)\n",
    "ad.score(x_train_b,y_train_b)\n",
    "ad_pred=ad.predict(x_test_b)\n",
    "\n",
    "ad_score= accuracy_score(y_test_b, ad_pred)\n",
    "print('accuracy_score: ', ad_score*100)\n",
    "\n",
    "adcvscore=cross_val_score(ad,x,y, cv=8)\n",
    "adcv_score=adcvscore.mean()\n",
    "print('Cross val Score :',adcv_score*100 )"
   ]
  },
  {
   "cell_type": "code",
   "execution_count": 80,
   "id": "ab7d74b4",
   "metadata": {},
   "outputs": [
    {
     "name": "stdout",
     "output_type": "stream",
     "text": [
      "[[82 11]\n",
      " [23 45]]\n",
      "              precision    recall  f1-score   support\n",
      "\n",
      "           0       0.78      0.88      0.83        93\n",
      "           1       0.80      0.66      0.73        68\n",
      "\n",
      "    accuracy                           0.79       161\n",
      "   macro avg       0.79      0.77      0.78       161\n",
      "weighted avg       0.79      0.79      0.79       161\n",
      "\n"
     ]
    }
   ],
   "source": [
    "print(confusion_matrix(y_test_b, ad_pred))\n",
    "print(classification_report(y_test_b, ad_pred))"
   ]
  },
  {
   "cell_type": "markdown",
   "id": "590d9997",
   "metadata": {},
   "source": [
    "Still our KNeighborsClassifier is performing well."
   ]
  },
  {
   "cell_type": "markdown",
   "id": "cf60c3b4",
   "metadata": {},
   "source": [
    "# DecisionTreeClassifier"
   ]
  },
  {
   "cell_type": "code",
   "execution_count": 81,
   "id": "0080508c",
   "metadata": {},
   "outputs": [
    {
     "name": "stdout",
     "output_type": "stream",
     "text": [
      "{'criterion': 'entropy', 'max_features': 'auto', 'splitter': 'best'}\n"
     ]
    }
   ],
   "source": [
    "from sklearn.tree import DecisionTreeClassifier\n",
    "parameters= {'criterion':['gini', 'entropy'],'splitter':['best','random'],'max_features':['auto','sqrt','log2']}\n",
    "dt=DecisionTreeClassifier()\n",
    "dtclf=GridSearchCV(dt,parameters)\n",
    "dtclf.fit (x_train_b, y_train_b)\n",
    "print(dtclf.best_params_)"
   ]
  },
  {
   "cell_type": "code",
   "execution_count": 82,
   "id": "010c1539",
   "metadata": {},
   "outputs": [
    {
     "name": "stdout",
     "output_type": "stream",
     "text": [
      "accuracy_score 77.01863354037268\n",
      "Cross val score is: 76.3960396039604\n"
     ]
    }
   ],
   "source": [
    "dt=DecisionTreeClassifier(criterion='gini', max_features='sqrt', splitter= 'random')\n",
    "dt.fit(x_train_b,y_train_b)\n",
    "dt.score(x_train_b, y_train_b)\n",
    "dt_pred=dt.predict(x_test_b)\n",
    "\n",
    "dt_score= accuracy_score(y_test_b, dt_pred)\n",
    "print(\"accuracy_score\", dt_score*100)\n",
    "\n",
    "dt_cv=cross_val_score(dt,x,y,cv=8)\n",
    "dtcv_score= dt_cv.mean()\n",
    "print(\"Cross val score is:\",dtcv_score*100 )"
   ]
  },
  {
   "cell_type": "code",
   "execution_count": 83,
   "id": "5fef8286",
   "metadata": {},
   "outputs": [
    {
     "name": "stdout",
     "output_type": "stream",
     "text": [
      "[[76 17]\n",
      " [20 48]]\n",
      "              precision    recall  f1-score   support\n",
      "\n",
      "           0       0.79      0.82      0.80        93\n",
      "           1       0.74      0.71      0.72        68\n",
      "\n",
      "    accuracy                           0.77       161\n",
      "   macro avg       0.77      0.76      0.76       161\n",
      "weighted avg       0.77      0.77      0.77       161\n",
      "\n"
     ]
    }
   ],
   "source": [
    "print(confusion_matrix(y_test_b, dt_pred))\n",
    "print(classification_report(y_test_b, dt_pred))"
   ]
  },
  {
   "cell_type": "markdown",
   "id": "9254f000",
   "metadata": {},
   "source": [
    "DecisionTreeClassifier Not performing well."
   ]
  },
  {
   "cell_type": "markdown",
   "id": "3c7888d2",
   "metadata": {},
   "source": [
    "# GaussianNB"
   ]
  },
  {
   "cell_type": "code",
   "execution_count": 84,
   "id": "8578baed",
   "metadata": {},
   "outputs": [
    {
     "name": "stdout",
     "output_type": "stream",
     "text": [
      "Accuracy Score is: 72.04968944099379\n",
      "Cross Val Score is : 76.03341584158416\n"
     ]
    }
   ],
   "source": [
    "from sklearn.naive_bayes import GaussianNB\n",
    "gb=GaussianNB()\n",
    "gb.fit(x_train_b, y_train_b)\n",
    "gb.score(x_train_b, y_train_b)\n",
    "gb_pred=gb.predict(x_test_b)\n",
    "\n",
    "gb_score=accuracy_score(y_test_b, gb_pred)\n",
    "print(\"Accuracy Score is:\", gb_score*100)\n",
    "\n",
    "gb_cv= cross_val_score(gb, x,y,cv=8)\n",
    "gb_cvscore=gb_cv.mean()\n",
    "print(\"Cross Val Score is :\", gb_cvscore*100)\n"
   ]
  },
  {
   "cell_type": "code",
   "execution_count": 85,
   "id": "4d3e2698",
   "metadata": {},
   "outputs": [
    {
     "name": "stdout",
     "output_type": "stream",
     "text": [
      "[[71 22]\n",
      " [23 45]]\n",
      "              precision    recall  f1-score   support\n",
      "\n",
      "           0       0.76      0.76      0.76        93\n",
      "           1       0.67      0.66      0.67        68\n",
      "\n",
      "    accuracy                           0.72       161\n",
      "   macro avg       0.71      0.71      0.71       161\n",
      "weighted avg       0.72      0.72      0.72       161\n",
      "\n"
     ]
    }
   ],
   "source": [
    "print(confusion_matrix(y_test_b, gb_pred))\n",
    "print(classification_report(y_test_b, gb_pred))"
   ]
  },
  {
   "cell_type": "markdown",
   "id": "05400685",
   "metadata": {},
   "source": [
    "GaussianNB also not perform all.\n",
    "\n",
    "So can see KNeighborsClassifier is performing well we will consider this model as best fit model."
   ]
  },
  {
   "cell_type": "markdown",
   "id": "ef931f83",
   "metadata": {},
   "source": [
    "# AUC ROC Curve:"
   ]
  },
  {
   "cell_type": "code",
   "execution_count": 86,
   "id": "63bdaa51",
   "metadata": {},
   "outputs": [
    {
     "data": {
      "image/png": "[encoded data removed]",
      "text/plain": [
       "<Figure size 432x288 with 1 Axes>"
      ]
     },
     "metadata": {
      "needs_background": "light"
     },
     "output_type": "display_data"
    }
   ],
   "source": [
    "from sklearn.metrics import roc_curve, auc\n",
    "fpr, tpr, thresholds= roc_curve(kn_pred, y_test_b)\n",
    "roc_auc= auc(fpr, tpr)\n",
    "\n",
    "plt.figure()\n",
    "plt.plot(fpr,tpr, color='darkorange', lw=10,label='ROC curve (area= %0.2f)' %roc_auc)\n",
    "plt.plot([0,1],[0,1],color ='navy', lw=10, linestyle= '--')\n",
    "plt.xlim([0.0, 1.0])\n",
    "plt.xlim([0.0, 1.05])\n",
    "plt.xlabel('False Positive Rate')\n",
    "plt.ylabel('True Positive Rate')\n",
    "plt.title('Receiver operating characteristic')\n",
    "plt.legend(loc=\"lower right\")\n",
    "plt.show()"
   ]
  },
  {
   "cell_type": "markdown",
   "id": "9286a61a",
   "metadata": {},
   "source": [
    "### Now save Best Model"
   ]
  },
  {
   "cell_type": "code",
   "execution_count": 87,
   "id": "35dac9f3",
   "metadata": {},
   "outputs": [],
   "source": [
    "import pickle\n",
    "filename=\"Titanic_survive_sinking.pkl \"\n",
    "pickle.dump(kn, open(filename,'wb'))"
   ]
  },
  {
   "cell_type": "code",
   "execution_count": 88,
   "id": "4fc11530",
   "metadata": {},
   "outputs": [
    {
     "data": {
      "text/html": [
       "<div>\n",
       "<style scoped>\n",
       "    .dataframe tbody tr th:only-of-type {\n",
       "        vertical-align: middle;\n",
       "    }\n",
       "\n",
       "    .dataframe tbody tr th {\n",
       "        vertical-align: top;\n",
       "    }\n",
       "\n",
       "    .dataframe thead th {\n",
       "        text-align: right;\n",
       "    }\n",
       "</style>\n",
       "<table border=\"1\" class=\"dataframe\">\n",
       "  <thead>\n",
       "    <tr style=\"text-align: right;\">\n",
       "      <th></th>\n",
       "      <th>original</th>\n",
       "      <th>predicted</th>\n",
       "    </tr>\n",
       "  </thead>\n",
       "  <tbody>\n",
       "    <tr>\n",
       "      <th>0</th>\n",
       "      <td>0</td>\n",
       "      <td>0</td>\n",
       "    </tr>\n",
       "    <tr>\n",
       "      <th>1</th>\n",
       "      <td>1</td>\n",
       "      <td>0</td>\n",
       "    </tr>\n",
       "    <tr>\n",
       "      <th>2</th>\n",
       "      <td>0</td>\n",
       "      <td>0</td>\n",
       "    </tr>\n",
       "    <tr>\n",
       "      <th>3</th>\n",
       "      <td>1</td>\n",
       "      <td>1</td>\n",
       "    </tr>\n",
       "    <tr>\n",
       "      <th>4</th>\n",
       "      <td>1</td>\n",
       "      <td>0</td>\n",
       "    </tr>\n",
       "    <tr>\n",
       "      <th>...</th>\n",
       "      <td>...</td>\n",
       "      <td>...</td>\n",
       "    </tr>\n",
       "    <tr>\n",
       "      <th>156</th>\n",
       "      <td>0</td>\n",
       "      <td>0</td>\n",
       "    </tr>\n",
       "    <tr>\n",
       "      <th>157</th>\n",
       "      <td>0</td>\n",
       "      <td>0</td>\n",
       "    </tr>\n",
       "    <tr>\n",
       "      <th>158</th>\n",
       "      <td>0</td>\n",
       "      <td>0</td>\n",
       "    </tr>\n",
       "    <tr>\n",
       "      <th>159</th>\n",
       "      <td>0</td>\n",
       "      <td>0</td>\n",
       "    </tr>\n",
       "    <tr>\n",
       "      <th>160</th>\n",
       "      <td>1</td>\n",
       "      <td>0</td>\n",
       "    </tr>\n",
       "  </tbody>\n",
       "</table>\n",
       "<p>161 rows × 2 columns</p>\n",
       "</div>"
      ],
      "text/plain": [
       "     original  predicted\n",
       "0           0          0\n",
       "1           1          0\n",
       "2           0          0\n",
       "3           1          1\n",
       "4           1          0\n",
       "..        ...        ...\n",
       "156         0          0\n",
       "157         0          0\n",
       "158         0          0\n",
       "159         0          0\n",
       "160         1          0\n",
       "\n",
       "[161 rows x 2 columns]"
      ]
     },
     "execution_count": 88,
     "metadata": {},
     "output_type": "execute_result"
    }
   ],
   "source": [
    "import numpy as np\n",
    "a=np.array(y_test_b)\n",
    "predicted= np.array(kn.predict(x_test_b))\n",
    "df_com= pd.DataFrame({'original':a, 'predicted':predicted}, index= range(len(a)))\n",
    "df_com"
   ]
  },
  {
   "cell_type": "markdown",
   "id": "a5475d5d",
   "metadata": {},
   "source": [
    "### Here we are seeing both original and predicted data"
   ]
  },
  {
   "cell_type": "code",
   "execution_count": null,
   "id": "d9078b29",
   "metadata": {},
   "outputs": [],
   "source": []
  }
 ],
 "metadata": {
  "kernelspec": {
   "display_name": "Python 3",
   "language": "python",
   "name": "python3"
  },
  "language_info": {
   "codemirror_mode": {
    "name": "ipython",
    "version": 3
   },
   "file_extension": ".py",
   "mimetype": "text/x-python",
   "name": "python",
   "nbconvert_exporter": "python",
   "pygments_lexer": "ipython3",
   "version": "3.8.8"
  }
 },
 "nbformat": 4,
 "nbformat_minor": 5
}
